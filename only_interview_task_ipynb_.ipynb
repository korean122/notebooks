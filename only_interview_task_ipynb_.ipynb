{
  "nbformat": 4,
  "nbformat_minor": 0,
  "metadata": {
    "kernelspec": {
      "display_name": "Python 3",
      "language": "python",
      "name": "python3"
    },
    "language_info": {
      "codemirror_mode": {
        "name": "ipython",
        "version": 3
      },
      "file_extension": ".py",
      "mimetype": "text/x-python",
      "name": "python",
      "nbconvert_exporter": "python",
      "pygments_lexer": "ipython3",
      "version": "3.8.5"
    },
    "colab": {
      "name": "only interview task.ipynb\"",
      "provenance": [],
      "collapsed_sections": [
        "G6qf04NWIaaU"
      ]
    }
  },
  "cells": [
    {
      "cell_type": "markdown",
      "metadata": {
        "id": "-yF7IcrnIaZ1"
      },
      "source": [
        "### Задача с собеседований\n",
        "\n",
        "Дана строчка sequence с последовательностью натуральных чисел, разделенных пробелом. Посчитайте:\n",
        "1. Количество четных и нечетных чисел в этой строке\n",
        "2. Если четных больше, то укажите номер позиции первого \"лишнего\" нечетного числа\n",
        "3. Если нечетных больше, то укажите позицию первого \"лишнего\" четного числа\n",
        "4. Как бонусный вариант оформите код в виде функции"
      ]
    },
    {
      "cell_type": "code",
      "metadata": {
        "id": "ugDQa71qIaZ6"
      },
      "source": [
        "sequence = '2 3 1 5 9 22 3 5' #Нечетных больше\n"
      ],
      "execution_count": null,
      "outputs": []
    },
    {
      "cell_type": "code",
      "metadata": {
        "id": "-lV5Jw3TDdXk"
      },
      "source": [
        "sequence2 = '2 3 1 5 9 22 6 18 28 36 42' #четных больше"
      ],
      "execution_count": null,
      "outputs": []
    },
    {
      "cell_type": "code",
      "metadata": {
        "id": "ClWlAUGrIaZ7"
      },
      "source": [
        "sequence_int = [] #Создадим переменную список [] переберем значения циклом for с использованием split переведем значения в int и добавим их в переменную с помощью append\n",
        "for i in sequence2.split(' '):\n",
        "    i = int(i)\n",
        "    sequence_int.append(i) #теперь у нас переменная - спосок с числами."
      ],
      "execution_count": null,
      "outputs": []
    },
    {
      "cell_type": "code",
      "metadata": {
        "id": "Lq4yPxOaIaZ9"
      },
      "source": [
        "even_count = 0  # четные числа\n",
        "odd_count = 0 # нечетные числа\n",
        "for i in sequence_int:\n",
        "    if i % 2 == 0: #если делится на 0, то плюсуем в список четных чисел, иначе, в список нечетных\n",
        "        even_count += 1\n",
        "    else:\n",
        "        odd_count += 1"
      ],
      "execution_count": null,
      "outputs": []
    },
    {
      "cell_type": "code",
      "metadata": {
        "id": "yOju-u-JIaZ-",
        "colab": {
          "base_uri": "https://localhost:8080/"
        },
        "outputId": "f655d973-5f73-4828-f78d-aab2baa70217"
      },
      "source": [
        "if odd_count > even_count:#если переменная нечетные больше четных... \n",
        "    for index, i in enumerate(sequence_int): #вернуть первое значение. \n",
        "    #чтобы получить индекс найденного числа добавим переменную index и функцию\n",
        "    #enumerate которая присвоит строкам индексы и запишет их в переменную\n",
        "        if i % 2 == 0: #если число четное выведем первое значение и выйдем из цикла break\n",
        "            print(index + 1, i) #+1 необходимо для того чтобы отображать номер строки в человеческом варианте, #так как начало индекса с 0\n",
        "else:\n",
        "     for index, i in enumerate(sequence_int):\n",
        "        if i % 2 != 0:\n",
        "            print(index + 1, i)\n",
        "            break"
      ],
      "execution_count": null,
      "outputs": [
        {
          "output_type": "stream",
          "text": [
            "2 3\n"
          ],
          "name": "stdout"
        }
      ]
    },
    {
      "cell_type": "code",
      "metadata": {
        "id": "Eg76oC8wIaZ_",
        "outputId": "a08883cd-13b0-4b3e-974f-d681f4edb681"
      },
      "source": [
        "sequence_int"
      ],
      "execution_count": null,
      "outputs": [
        {
          "output_type": "execute_result",
          "data": {
            "text/plain": [
              "[2, 3, 1, 5, 9, 22, 3, 5]"
            ]
          },
          "metadata": {
            "tags": []
          },
          "execution_count": 23
        }
      ]
    },
    {
      "cell_type": "code",
      "metadata": {
        "id": "0qjgeALvIaZ_",
        "outputId": "32956fa1-fb39-424a-ac55-8a9a240c4c78"
      },
      "source": [
        "sequence_int.index(22)"
      ],
      "execution_count": null,
      "outputs": [
        {
          "output_type": "execute_result",
          "data": {
            "text/plain": [
              "5"
            ]
          },
          "metadata": {
            "tags": []
          },
          "execution_count": 24
        }
      ]
    },
    {
      "cell_type": "code",
      "metadata": {
        "id": "uEk4mdCRIaZ_"
      },
      "source": [
        "ВНИМАНИЕ: В обычном цикле не работает если переменная с преобладанием четных цифр."
      ],
      "execution_count": null,
      "outputs": []
    },
    {
      "cell_type": "markdown",
      "metadata": {
        "id": "ZB2H0eQLIaaA"
      },
      "source": [
        "# Чтение файлов\n",
        "Рассматриваем задачу сквозной аналитики. Будем работать с этими файлами:\n",
        "- visit_log.csv\n",
        "- purchase_log.txt"
      ]
    },
    {
      "cell_type": "markdown",
      "metadata": {
        "id": "W_2Sfdy1IaaA"
      },
      "source": [
        "### Способ 1. Делаем все пошагово\n",
        "Опции при открытии файлов:\n",
        "- 'r' открыть для чтения. Файл при этом не меняется\n",
        "- 'w' открыть файл для записи. Файл при этом полностью чистится (!)\n",
        "- 'a' открыть файл для добавления. Файл не меняется, все записи добавляются в конец"
      ]
    },
    {
      "cell_type": "code",
      "metadata": {
        "id": "hMkTpwiRIaaA"
      },
      "source": [
        "# открываем файл для чтения (опция r)\n",
        "f = open('visit_log.csv', 'r')"
      ],
      "execution_count": null,
      "outputs": []
    },
    {
      "cell_type": "code",
      "metadata": {
        "id": "PZP3fu8ZIaaA",
        "outputId": "cc65e246-6bf1-4b43-da08-ebef615d7302"
      },
      "source": [
        "f.__sizeof__()"
      ],
      "execution_count": null,
      "outputs": [
        {
          "output_type": "execute_result",
          "data": {
            "text/plain": [
              "192"
            ]
          },
          "metadata": {
            "tags": []
          },
          "execution_count": 29
        }
      ]
    },
    {
      "cell_type": "code",
      "metadata": {
        "scrolled": true,
        "id": "R9XaeijWIaaB",
        "outputId": "6341439e-e19f-4629-9d78-02d94619a336"
      },
      "source": [
        "# прочитать первую строчку\n",
        "f.readline()"
      ],
      "execution_count": null,
      "outputs": [
        {
          "output_type": "execute_result",
          "data": {
            "text/plain": [
              "'6450655ae8,other\\n'"
            ]
          },
          "metadata": {
            "tags": []
          },
          "execution_count": 36
        }
      ]
    },
    {
      "cell_type": "code",
      "metadata": {
        "id": "7sKD38RQIaaB",
        "outputId": "173da568-ae5b-46d1-d93e-3a5611d94561"
      },
      "source": [
        "# прочитать еще одну\n",
        "f.readline()"
      ],
      "execution_count": null,
      "outputs": [
        {
          "output_type": "execute_result",
          "data": {
            "text/plain": [
              "'b4ea53e670,other\\n'"
            ]
          },
          "metadata": {
            "tags": []
          },
          "execution_count": 37
        }
      ]
    },
    {
      "cell_type": "code",
      "metadata": {
        "id": "GI62Q2awIaaB",
        "outputId": "4bb837b7-f6c1-4e83-bc85-1c861e6c6223"
      },
      "source": [
        "# можно и так\n",
        "next(f)"
      ],
      "execution_count": null,
      "outputs": [
        {
          "output_type": "execute_result",
          "data": {
            "text/plain": [
              "'0e37347152,other\\n'"
            ]
          },
          "metadata": {
            "tags": []
          },
          "execution_count": 38
        }
      ]
    },
    {
      "cell_type": "markdown",
      "metadata": {
        "id": "2N3D4c27pvDw"
      },
      "source": [
        "Прочитать файл построчно через цикл for"
      ]
    },
    {
      "cell_type": "code",
      "metadata": {
        "id": "KXp3BQucpyq9"
      },
      "source": [
        "for line in f:\n",
        "  print(line)\n",
        "  break #брейк чтобы остановиться после первой итерации цикла. Можно задать условие на количество"
      ],
      "execution_count": null,
      "outputs": []
    },
    {
      "cell_type": "markdown",
      "metadata": {
        "id": "EYjDtaoXqEJE"
      },
      "source": [
        "Бывает проблема, что цикл начинает проходится не с нулевого значения строки. Чаще всего это потому-что ранее (выше) мы уже перебрали несколько строчек и курсор находится не в начале.\n",
        "чтобы избавиться от этого:\n",
        "- открыть файл заново (open)\n",
        "- сбросить перебор (f.seek(0))"
      ]
    },
    {
      "cell_type": "code",
      "metadata": {
        "id": "JkGDqct0qtI3"
      },
      "source": [
        "#как открыть первые 5 строчек?\n",
        "создать переменную счетчик (i=0)\n",
        "в цикле увеличивать ее значение на 1 (i+=1)\n",
        "и задать условие если i > 5: то break"
      ],
      "execution_count": null,
      "outputs": []
    },
    {
      "cell_type": "code",
      "metadata": {
        "id": "59A6XdePqtMZ"
      },
      "source": [
        "#второй способ использовать функцию enumerate.\n",
        "#Это позволит не заводить счетчик и не увеличивать его на +1 каждый раз\n",
        "for i, line in enumerate(f):\n",
        "  print(line)\n",
        "  if i > 5:\n",
        "    break"
      ],
      "execution_count": null,
      "outputs": []
    },
    {
      "cell_type": "code",
      "metadata": {
        "id": "vjbbz4paIaaB"
      },
      "source": [
        "# прочитать все содержимое файла в переменную content (в список)\n",
        "content = f.readlines() \n",
        "#Если задача позволяет, лучше не использовать. Т.к. все загружается в память"
      ],
      "execution_count": null,
      "outputs": []
    },
    {
      "cell_type": "code",
      "metadata": {
        "id": "9TdPl3yVIaaC",
        "outputId": "96eaff8b-5d68-4977-9a5f-2931fc9f9661"
      },
      "source": [
        "content[:5]"
      ],
      "execution_count": null,
      "outputs": [
        {
          "output_type": "execute_result",
          "data": {
            "text/plain": [
              "['1b75c4f23f,other\\n',\n",
              " 'd94b908660,None\\n',\n",
              " 'f697206af5,other\\n',\n",
              " '8a9a2de36e,other\\n',\n",
              " 'dd3d43c266,context\\n']"
            ]
          },
          "metadata": {
            "tags": []
          },
          "execution_count": 48
        }
      ]
    },
    {
      "cell_type": "code",
      "metadata": {
        "id": "4KaGRoeaIaaC"
      },
      "source": [
        "f = open('visit_log.csv')"
      ],
      "execution_count": null,
      "outputs": []
    },
    {
      "cell_type": "code",
      "metadata": {
        "id": "713OozTmIaaC",
        "outputId": "59b12674-10a0-47c2-802e-0f8c3cd7fb19"
      },
      "source": [
        "f.seek(0)"
      ],
      "execution_count": null,
      "outputs": [
        {
          "output_type": "execute_result",
          "data": {
            "text/plain": [
              "0"
            ]
          },
          "metadata": {
            "tags": []
          },
          "execution_count": 43
        }
      ]
    },
    {
      "cell_type": "code",
      "metadata": {
        "id": "QWMTSWbCIaaC",
        "outputId": "f2952162-d987-4ce9-b0c8-f85f551c5a19"
      },
      "source": [
        "# построчное чтение файла\n",
        "i = 0\n",
        "\n",
        "for line in f:\n",
        "    print(line)   \n",
        "    \n",
        "    i += 1\n",
        "    if i > 5:    \n",
        "        break"
      ],
      "execution_count": null,
      "outputs": [
        {
          "output_type": "stream",
          "text": [
            "6450655ae8,other\n",
            "\n",
            "b4ea53e670,other\n",
            "\n",
            "0e37347152,other\n",
            "\n",
            "96064ae9e0,other\n",
            "\n",
            "e1bd168161,context\n",
            "\n",
            "71bcf169b4,other\n",
            "\n"
          ],
          "name": "stdout"
        }
      ]
    },
    {
      "cell_type": "code",
      "metadata": {
        "scrolled": true,
        "id": "7449FHn4IaaD",
        "outputId": "aee33e1f-2bfc-409f-80e3-989144cb8501"
      },
      "source": [
        "for i, line in enumerate(f):\n",
        "    print(line)   \n",
        "    \n",
        "    if i > 5:    \n",
        "        break"
      ],
      "execution_count": null,
      "outputs": [
        {
          "output_type": "stream",
          "text": [
            "e0aee73c5d,other\n",
            "\n",
            "1f8845e157,context\n",
            "\n",
            "78d22c5c78,other\n",
            "\n",
            "dd85040770,other\n",
            "\n",
            "2301051b25,other\n",
            "\n",
            "86835b81ac,context\n",
            "\n",
            "90d9a575a2,other\n",
            "\n"
          ],
          "name": "stdout"
        }
      ]
    },
    {
      "cell_type": "markdown",
      "metadata": {
        "id": "ClXdwNHhIaaD"
      },
      "source": [
        "# Открытие файлов в папке"
      ]
    },
    {
      "cell_type": "code",
      "metadata": {
        "id": "r18txwbJIaaD"
      },
      "source": [
        "f = open('visit_log.csv')"
      ],
      "execution_count": null,
      "outputs": []
    },
    {
      "cell_type": "code",
      "metadata": {
        "id": "ANBrNce-IaaD"
      },
      "source": [
        "f = open('logs/hostlogs_part_5280.csv')"
      ],
      "execution_count": null,
      "outputs": []
    },
    {
      "cell_type": "code",
      "metadata": {
        "id": "9moXV6ItIaaD"
      },
      "source": [
        "# Unix - ОС\n",
        "f = open('/Users/kbashevoy/Desktop/Нетология/Занятия/Занятие 5/logs/hostlogs_part_5280.csv')"
      ],
      "execution_count": null,
      "outputs": []
    },
    {
      "cell_type": "markdown",
      "metadata": {
        "id": "iGog4fbRzL9g"
      },
      "source": [
        "Проблема в том, что \\ обратный слеш в pYthon считается символом конца строки и не воспринимается как путь. Решение перед адресом ставить символ r\n",
        "f = open(r\"C:\\User\\korean122\\123.xls\")\n",
        "тогда Python воспримет адрес как адрес без служебных символов."
      ]
    },
    {
      "cell_type": "code",
      "metadata": {
        "id": "86f0frUMIaaD",
        "outputId": "fec2e8fd-cbb9-441d-bfcb-60ef10821f8d"
      },
      "source": [
        "text = 'каждый охотник желает \\\n",
        "знать где сидит фазан'\n",
        "\n",
        "text"
      ],
      "execution_count": null,
      "outputs": [
        {
          "output_type": "execute_result",
          "data": {
            "text/plain": [
              "'каждый охотник желает знать где сидит фазан'"
            ]
          },
          "metadata": {
            "tags": []
          },
          "execution_count": 51
        }
      ]
    },
    {
      "cell_type": "code",
      "metadata": {
        "id": "68ZyGRPsIaaE"
      },
      "source": [
        "# Windows\n",
        "f = open('C:\\\\User\\\\kbashevoy\\\\data.csv')\n",
        "\n",
        "f = open(r'C:\\User\\kbashevoy\\Netology\\data.csv')"
      ],
      "execution_count": null,
      "outputs": []
    },
    {
      "cell_type": "markdown",
      "metadata": {
        "id": "2PGkVZX3zw5p"
      },
      "source": [
        "Для Windows. На определенных билиотеках (Pandas например) если в пути к файлу есть название на русском - возникает проблема. Решение пока только одно - переложить файл в папку БЕЗ Русских симоволов в пути"
      ]
    },
    {
      "cell_type": "code",
      "metadata": {
        "id": "mbVQaZV5IaaE"
      },
      "source": [
        "\"\"\"\n",
        "если у вас например sql запрос и его надо разбить на строки \n",
        "используются тройные .\n",
        "В этом случае можно писать текст или sql запрос разбивая его по строчкам.\n",
        "для того чтобы убрать \\n можно после закрывающих тройных кавычек использовать .replace('\\n', '')\n",
        "\"\"\"\n"
      ],
      "execution_count": null,
      "outputs": []
    },
    {
      "cell_type": "markdown",
      "metadata": {
        "id": "uhZiMx1SIaaE"
      },
      "source": [
        "Часто используется конструкция \n",
        "```python\n",
        "another_line.strip().split(',')\n",
        "```\n",
        "Тут два метода в одном\n",
        "- .strip Отрезает лишние символы\n",
        "- .split разбивает на значения используя разделитель"
      ]
    },
    {
      "cell_type": "code",
      "metadata": {
        "id": "wxojXSrTIaaF",
        "outputId": "d23aeed0-008a-48e7-8fc8-2c7755b9ec29"
      },
      "source": [
        "'e0aee73c5d,other;;;,--;'.strip(';-,').split('\\t')"
      ],
      "execution_count": null,
      "outputs": [
        {
          "output_type": "execute_result",
          "data": {
            "text/plain": [
              "['e0aee73c5d,other']"
            ]
          },
          "metadata": {
            "tags": []
          },
          "execution_count": 65
        }
      ]
    },
    {
      "cell_type": "code",
      "metadata": {
        "id": "ke1cp2boIaaF",
        "outputId": "cd165299-c67a-4b36-c838-fd49713884ce"
      },
      "source": [
        "string = 'e0aee73c5d,other;;;,--;;'\n",
        "\n",
        "if string[-1] == ';':\n",
        "    print(string[:-1])\n",
        "else:\n",
        "    print(string)"
      ],
      "execution_count": null,
      "outputs": [
        {
          "output_type": "stream",
          "text": [
            "e0aee73c5d,other;;;,--;\n"
          ],
          "name": "stdout"
        }
      ]
    },
    {
      "cell_type": "code",
      "metadata": {
        "id": "Fu5wUFHQIaaF"
      },
      "source": [
        "another_line = f.readline()\n",
        "another_line"
      ],
      "execution_count": null,
      "outputs": []
    },
    {
      "cell_type": "code",
      "metadata": {
        "id": "NNxc1kokIaaF"
      },
      "source": [
        "# удаляем перенос строки и лишние пробелы\n",
        "another_line.strip()"
      ],
      "execution_count": null,
      "outputs": []
    },
    {
      "cell_type": "code",
      "metadata": {
        "id": "4e8gIjZsIaaF"
      },
      "source": [
        "# разбиваем столбцы\n",
        "another_line.strip().split(',')"
      ],
      "execution_count": null,
      "outputs": []
    },
    {
      "cell_type": "code",
      "metadata": {
        "id": "04pmUNUdIaaF"
      },
      "source": [
        "# закрытие файла\n",
        "f.close()"
      ],
      "execution_count": null,
      "outputs": []
    },
    {
      "cell_type": "code",
      "metadata": {
        "id": "Rq2R8M52IaaG"
      },
      "source": [
        "# после закрытия не получится прочитать\n",
        "f.readline()"
      ],
      "execution_count": null,
      "outputs": []
    },
    {
      "cell_type": "code",
      "metadata": {
        "id": "ruZyiG8QIaaG"
      },
      "source": [
        "# прочитать все строчки файла в список (т. е. в оперативную память)\n",
        "f = open('visit_log.csv', 'r')\n",
        "\n",
        "content = f.readlines()\n",
        "\n",
        "f.close()"
      ],
      "execution_count": null,
      "outputs": []
    },
    {
      "cell_type": "code",
      "metadata": {
        "id": "mWWRll2KIaaG"
      },
      "source": [
        "content[:5]"
      ],
      "execution_count": null,
      "outputs": []
    },
    {
      "cell_type": "markdown",
      "metadata": {
        "id": "CNomz0R962GY"
      },
      "source": [
        "## Backtick"
      ]
    },
    {
      "cell_type": "code",
      "metadata": {
        "id": "xDmXizD_66Vo"
      },
      "source": [
        "\"select * from db.table where date='2021-01-01'\" #чередование кавычек"
      ],
      "execution_count": null,
      "outputs": []
    },
    {
      "cell_type": "code",
      "metadata": {
        "id": "Qhxd1Bpe7Gge"
      },
      "source": [
        "\"select * from db.table where date=\\'2021-01-01\\'\" \n",
        "#Мы экранируем слешами запятые, чтобы python не думал что это конец строки."
      ],
      "execution_count": null,
      "outputs": []
    },
    {
      "cell_type": "markdown",
      "metadata": {
        "id": "qNg-U-4VIaaG"
      },
      "source": [
        "### Упражнение\n",
        "Напишите функцию (или просто код), который возвращает список из первых N строк файла purchase_log.txt без записи всего содержимого файла в оперативную память."
      ]
    },
    {
      "cell_type": "code",
      "metadata": {
        "id": "pjrlCkngIaaG"
      },
      "source": [
        ""
      ],
      "execution_count": null,
      "outputs": []
    },
    {
      "cell_type": "code",
      "metadata": {
        "id": "T88NRqCSIaaH"
      },
      "source": [
        ""
      ],
      "execution_count": null,
      "outputs": []
    },
    {
      "cell_type": "code",
      "metadata": {
        "id": "lpD05VsaIaaH"
      },
      "source": [
        ""
      ],
      "execution_count": null,
      "outputs": []
    },
    {
      "cell_type": "markdown",
      "metadata": {
        "id": "iCAwrXktIaaH"
      },
      "source": [
        "# Запись в файл\n",
        "Зачем все-таки открывать и закрывать файлы?"
      ]
    },
    {
      "cell_type": "code",
      "metadata": {
        "id": "uwEs3BMGIaaH"
      },
      "source": [
        "f = open('results.csv', 'w')"
      ],
      "execution_count": null,
      "outputs": []
    },
    {
      "cell_type": "code",
      "metadata": {
        "id": "nMyWmXhhIaaI"
      },
      "source": [
        "f.write('Начинаю запись первой строки...\\n')"
      ],
      "execution_count": null,
      "outputs": []
    },
    {
      "cell_type": "code",
      "metadata": {
        "id": "TlvOnLS2IaaI"
      },
      "source": [
        "f.write('Начинаю запись второй строки...\\n')"
      ],
      "execution_count": null,
      "outputs": []
    },
    {
      "cell_type": "markdown",
      "metadata": {
        "id": "DykTZcC7IaaI"
      },
      "source": [
        "Здесь кто-то еще хочет в него записать"
      ]
    },
    {
      "cell_type": "code",
      "metadata": {
        "id": "TpTyiDyHIaaI"
      },
      "source": [
        "my_friend_results = open('results.csv', 'w')"
      ],
      "execution_count": null,
      "outputs": []
    },
    {
      "cell_type": "code",
      "metadata": {
        "id": "xrAlwSZ4IaaJ"
      },
      "source": [
        "my_friend_results.write('Тут еще результаты есть')"
      ],
      "execution_count": null,
      "outputs": []
    },
    {
      "cell_type": "code",
      "metadata": {
        "id": "00XEKLZKIaaJ"
      },
      "source": [
        "# пишем свой результат\n",
        "f.close()"
      ],
      "execution_count": null,
      "outputs": []
    },
    {
      "cell_type": "code",
      "metadata": {
        "id": "xbIQnAYVIaaJ"
      },
      "source": [
        "# и наш результат перезатирается\n",
        "my_friend_results.close()"
      ],
      "execution_count": null,
      "outputs": []
    },
    {
      "cell_type": "markdown",
      "metadata": {
        "id": "DwTD2-V2IaaJ"
      },
      "source": [
        "### Контекстный менеджер\n",
        "Как обезопасить себя от подобных накладок"
      ]
    },
    {
      "cell_type": "code",
      "metadata": {
        "id": "hWEYOUvkIaaJ"
      },
      "source": [
        "f = open('data.csv', 'w')\n",
        "...\n",
        "\n",
        "f_2 = open('data.csv', 'w')\n",
        "...\n",
        "\n",
        "\n",
        "f.write()\n",
        "f.close()\n",
        "\n",
        "f_2.write()\n",
        "f_2.close()"
      ],
      "execution_count": null,
      "outputs": []
    },
    {
      "cell_type": "code",
      "metadata": {
        "id": "Np8tuxGMIaaK"
      },
      "source": [
        "f_2 = open('data.csv', 'w')\n",
        "...\n",
        "f_2.write()\n",
        "f_2.close()"
      ],
      "execution_count": null,
      "outputs": []
    },
    {
      "cell_type": "code",
      "metadata": {
        "id": "zpe4MGR3IaaK"
      },
      "source": [
        ""
      ],
      "execution_count": null,
      "outputs": []
    },
    {
      "cell_type": "code",
      "metadata": {
        "id": "Xmgv2bpYIaaK"
      },
      "source": [
        ""
      ],
      "execution_count": null,
      "outputs": []
    },
    {
      "cell_type": "code",
      "metadata": {
        "id": "oertLl-3IaaK"
      },
      "source": [
        ""
      ],
      "execution_count": null,
      "outputs": []
    },
    {
      "cell_type": "code",
      "metadata": {
        "id": "3MVOWFZ9IaaK"
      },
      "source": [
        "with connection() as conn:\n",
        "    cursor"
      ],
      "execution_count": null,
      "outputs": []
    },
    {
      "cell_type": "markdown",
      "metadata": {
        "id": "eN4NfJ0mIaaK"
      },
      "source": [
        "# Транзакции"
      ]
    },
    {
      "cell_type": "code",
      "metadata": {
        "id": "CJNFLjM1IaaK",
        "outputId": "87c79a9c-fe5d-49e1-9df7-1484bdbf2514"
      },
      "source": [
        "!ls -la"
      ],
      "execution_count": null,
      "outputs": [
        {
          "output_type": "stream",
          "text": [
            "total 1207424\r\n",
            "drwxr-xr-x  42 kbashevoy  LD\\Domain Users       1344 Jun 15 20:27 \u001b[1m\u001b[36m.\u001b[m\u001b[m\r\n",
            "drwxr-xr-x  16 kbashevoy  LD\\Domain Users        512 May 25 18:12 \u001b[1m\u001b[36m..\u001b[m\u001b[m\r\n",
            "-rw-r--r--@  1 kbashevoy  LD\\Domain Users       6148 Jun 15 15:56 .DS_Store\r\n",
            "drwxr-xr-x   3 kbashevoy  LD\\Domain Users         96 May 25 18:10 \u001b[1m\u001b[36m.ipynb_checkpoints\u001b[m\u001b[m\r\n",
            "drwxr-xr-x   9 kbashevoy  LD\\Domain Users        288 Apr 24 17:32 \u001b[1m\u001b[36m5. Read-write and pip\u001b[m\u001b[m\r\n",
            "-rw-r--r--   1 kbashevoy  LD\\Domain Users      32473 Jun 15 20:27 5. Read-write and pip.ipynb\r\n",
            "-rw-r--r--   1 kbashevoy  LD\\Domain Users    2489734 Apr 24 17:31 5. Read-write and pip.zip\r\n",
            "-rw-r--r--@  1 kbashevoy  LD\\Domain Users     190282 Apr 24 17:30 5. Работа с файлами и пакетами.pptx\r\n",
            "drwxr-xr-x   2 kbashevoy  LD\\Domain Users         64 Apr 24 17:25 \u001b[1m\u001b[36mdata\u001b[m\u001b[m\r\n",
            "-rw-r--r--@  1 kbashevoy  LD\\Domain Users         69 Jun 15 20:10 data.pickle\r\n",
            "-rw-r--r--   1 kbashevoy  LD\\Domain Users      21606 Apr 24 17:29 download.xlsx\r\n",
            "-rw-r--r--   1 kbashevoy  LD\\Domain Users   13309156 Apr 24 17:33 emails_db.csv\r\n",
            "-rw-r--r--   1 kbashevoy  LD\\Domain Users         26 Apr 24 17:25 filtered_log.csv\r\n",
            "-rw-r--r--   1 kbashevoy  LD\\Domain Users     587898 Apr 24 17:31 funnel.csv\r\n",
            "drwxr-xr-x   4 kbashevoy  LD\\Domain Users        128 Apr 24 17:25 \u001b[1m\u001b[36mlibs\u001b[m\u001b[m\r\n",
            "drwxr-xr-x   9 kbashevoy  LD\\Domain Users        288 Jun 15 20:32 \u001b[1m\u001b[36mlogs\u001b[m\u001b[m\r\n",
            "-rw-r--r--   1 kbashevoy  LD\\Domain Users         30 Apr 24 17:25 new.csv\r\n",
            "-rw-r--r--   1 kbashevoy  LD\\Domain Users        233 Apr 24 17:25 objects.pickle\r\n",
            "-rw-r--r--   1 kbashevoy  LD\\Domain Users   80606805 Apr 24 17:36 original_purchase_log.txt\r\n",
            "-rw-r--r--   1 kbashevoy  LD\\Domain Users  350198494 Apr 24 17:33 original_visit_log.csv\r\n",
            "-rw-r--r--   1 kbashevoy  LD\\Domain Users        224 Apr 24 17:25 payments_stat.pickle\r\n",
            "-rw-r--r--   1 kbashevoy  LD\\Domain Users   29050479 Apr 24 17:35 power.csv\r\n",
            "drwxr-xr-x  23 kbashevoy  LD\\Domain Users        736 Jun 15 15:56 \u001b[1m\u001b[36mprev\u001b[m\u001b[m\r\n",
            "-rw-r--r--@  1 kbashevoy  LD\\Domain Users        399 Apr 24 17:25 processing.py\r\n",
            "-rw-r--r--@  1 kbashevoy  LD\\Domain Users        113 Apr 24 17:25 processing_v2.py\r\n",
            "-rw-r--r--   1 kbashevoy  LD\\Domain Users   44074575 Apr 24 17:35 purchase_log.csv\r\n",
            "-rw-r--r--   1 kbashevoy  LD\\Domain Users    6621888 Apr 24 17:32 purchase_log.txt\r\n",
            "-rw-r--r--   1 kbashevoy  LD\\Domain Users   23555084 Apr 24 17:34 re_clid.txt\r\n",
            "-rw-r--r--@  1 kbashevoy  LD\\Domain Users   23555084 May 25 20:23 result.txt\r\n",
            "-rw-r--r--   1 kbashevoy  LD\\Domain Users        114 Apr 24 17:25 results.csv\r\n",
            "-rw-r--r--   1 kbashevoy  LD\\Domain Users   23555084 Apr 24 17:34 results.txt\r\n",
            "-rw-r--r--   1 kbashevoy  LD\\Domain Users    5287876 Apr 24 17:32 results_sorted.txt\r\n",
            "drwxr-xr-x   5 kbashevoy  LD\\Domain Users        160 Apr 24 17:25 \u001b[1m\u001b[36mspecial_venv\u001b[m\u001b[m\r\n",
            "-rw-r--r--   1 kbashevoy  LD\\Domain Users          0 Apr 24 17:25 temp.txt\r\n",
            "-rw-r--r--@  1 kbashevoy  LD\\Domain Users    3502061 Apr 24 17:31 visit_log.csv\r\n",
            "-rw-r--r--   1 kbashevoy  LD\\Domain Users     986062 Apr 24 17:31 visits_context.csv\r\n",
            "-rw-r--r--   1 kbashevoy  LD\\Domain Users          0 Apr 24 17:25 visits_context.csv.\r\n",
            "-rw-r--r--@  1 kbashevoy  LD\\Domain Users        165 Jun 15 18:47 ~$Планы и домашки.pptx\r\n",
            "drwxr-xr-x  52 kbashevoy  LD\\Domain Users       1664 Jun 15 18:45 \u001b[1m\u001b[36mДЗ\u001b[m\u001b[m\r\n",
            "-rw-r--r--   1 kbashevoy  LD\\Domain Users      60867 Apr 24 17:30 Планы и домашки.pdf\r\n",
            "-rw-r--r--@  1 kbashevoy  LD\\Domain Users      66958 Apr 24 17:30 Планы и домашки.pptx\r\n",
            "drwxr-xr-x   2 kbashevoy  LD\\Domain Users         64 Apr 24 17:25 \u001b[1m\u001b[36mкартинки\u001b[m\u001b[m\r\n"
          ],
          "name": "stdout"
        }
      ]
    },
    {
      "cell_type": "code",
      "metadata": {
        "id": "6NmhVERYIaaL"
      },
      "source": [
        "try:\n",
        "    f.write()\n",
        "except:\n",
        "    print('Че-то с файлом не то...')"
      ],
      "execution_count": null,
      "outputs": []
    },
    {
      "cell_type": "code",
      "metadata": {
        "id": "hcjkl69AIaaL"
      },
      "source": [
        "with open('results.csv', 'w') as f:\n",
        "    f.write('Начинаю запись первой строки...\\n')\n",
        "    f.write('Начинаю запись второй строки...\\n')\n",
        "    \n",
        "    my_friend_results = open('results.csv', 'w')\n",
        "    my_friend_results.write('Тут еще результаты есть')\n",
        "    my_friend_results.close()\n",
        "    \n",
        "f_2 = open('data.csv', 'w')\n",
        "...\n",
        "f_2.write()\n",
        "f_2.close()"
      ],
      "execution_count": null,
      "outputs": []
    },
    {
      "cell_type": "markdown",
      "metadata": {
        "id": "oOBTNBGyIaaL"
      },
      "source": [
        "### А можно читать и сразу в файл записывать?\n",
        "Напишите функцию, которая фильтрует файл visit_log.csv по источнику context и пишет результат в visits_context.csv. Используйте функцию из второго упражнения для проверки результата."
      ]
    },
    {
      "cell_type": "code",
      "metadata": {
        "id": "gkSeufNcIaaM"
      },
      "source": [
        ""
      ],
      "execution_count": null,
      "outputs": []
    },
    {
      "cell_type": "code",
      "metadata": {
        "id": "RXW5_ZCgIaaM"
      },
      "source": [
        ""
      ],
      "execution_count": null,
      "outputs": []
    },
    {
      "cell_type": "code",
      "metadata": {
        "id": "cZoWip55IaaM"
      },
      "source": [
        ""
      ],
      "execution_count": null,
      "outputs": []
    },
    {
      "cell_type": "markdown",
      "metadata": {
        "id": "9XJzl3GNIaaM"
      },
      "source": [
        "# Чтение списков и словарей из файла\n",
        "Смотрим что в файле purchase_log.txt. Похоже тут не строки, а словари"
      ]
    },
    {
      "cell_type": "code",
      "metadata": {
        "id": "uSrC6a9TIaaM"
      },
      "source": [
        "with open('purchase_log.txt') as f:\n",
        "    print([next(f) for x in range(5)])"
      ],
      "execution_count": null,
      "outputs": []
    },
    {
      "cell_type": "code",
      "metadata": {
        "id": "-Y1h8ElCIaaM"
      },
      "source": [
        "import json"
      ],
      "execution_count": null,
      "outputs": []
    },
    {
      "cell_type": "code",
      "metadata": {
        "id": "N8IIEhpLIaaM",
        "outputId": "662e77b6-6220-4702-998c-4f739922bc9e"
      },
      "source": [
        "json.loads('{\"a\": 1, \"b\": 2}')['a']"
      ],
      "execution_count": null,
      "outputs": [
        {
          "output_type": "execute_result",
          "data": {
            "text/plain": [
              "1"
            ]
          },
          "metadata": {
            "tags": []
          },
          "execution_count": 73
        }
      ]
    },
    {
      "cell_type": "code",
      "metadata": {
        "id": "qew2ccFPIaaN",
        "outputId": "7a37f2df-50a4-47dd-d9ca-ecd0ab854c2b"
      },
      "source": [
        "data = {\"a\": 1, \"b\": 2}\n",
        "type(data)"
      ],
      "execution_count": null,
      "outputs": [
        {
          "output_type": "execute_result",
          "data": {
            "text/plain": [
              "dict"
            ]
          },
          "metadata": {
            "tags": []
          },
          "execution_count": 75
        }
      ]
    },
    {
      "cell_type": "code",
      "metadata": {
        "id": "1ldlNACQIaaN",
        "outputId": "3b0a792a-6941-400b-dce1-338cafa840ee"
      },
      "source": [
        "json.dumps(data)"
      ],
      "execution_count": null,
      "outputs": [
        {
          "output_type": "execute_result",
          "data": {
            "text/plain": [
              "'{\"a\": 1, \"b\": 2}'"
            ]
          },
          "metadata": {
            "tags": []
          },
          "execution_count": 77
        }
      ]
    },
    {
      "cell_type": "code",
      "metadata": {
        "id": "TXL3jhhUIaaN",
        "outputId": "0d570f1c-d857-4a58-9618-d0181a57f11e"
      },
      "source": [
        "f.write(str(data))"
      ],
      "execution_count": null,
      "outputs": [
        {
          "output_type": "execute_result",
          "data": {
            "text/plain": [
              "\"{'a': 1, 'b': 2}\""
            ]
          },
          "metadata": {
            "tags": []
          },
          "execution_count": 76
        }
      ]
    },
    {
      "cell_type": "code",
      "metadata": {
        "id": "14hMSxuFIaaN",
        "outputId": "65176f58-18ff-43ca-a5df-359da779e744"
      },
      "source": [
        "'select * from db.table where date=\"2021-01-01\"'"
      ],
      "execution_count": null,
      "outputs": [
        {
          "output_type": "execute_result",
          "data": {
            "text/plain": [
              "'select * from db.table where date=\"2021-01-01\"'"
            ]
          },
          "metadata": {
            "tags": []
          },
          "execution_count": 78
        }
      ]
    },
    {
      "cell_type": "code",
      "metadata": {
        "id": "hh8ulZ1dIaaN",
        "outputId": "7fe3ad36-4ae9-4463-c224-eac3ed5bf35a"
      },
      "source": [
        "\"select * from db.table where date='2021-01-01'\""
      ],
      "execution_count": null,
      "outputs": [
        {
          "output_type": "execute_result",
          "data": {
            "text/plain": [
              "\"select * from db.table where date='2021-01-01'\""
            ]
          },
          "metadata": {
            "tags": []
          },
          "execution_count": 79
        }
      ]
    },
    {
      "cell_type": "code",
      "metadata": {
        "id": "-JYIeXj0IaaO",
        "outputId": "6b45e886-5b75-4d88-a53d-4ddef8fd0831"
      },
      "source": [
        "\"\"\"\n",
        "select * \n",
        "from db.table \n",
        "where date=`2021-01-01`\n",
        "\"\"\".replace('\\n', '')"
      ],
      "execution_count": null,
      "outputs": [
        {
          "output_type": "execute_result",
          "data": {
            "text/plain": [
              "'select * from db.table where date=`2021-01-01`'"
            ]
          },
          "metadata": {
            "tags": []
          },
          "execution_count": 82
        }
      ]
    },
    {
      "cell_type": "markdown",
      "metadata": {
        "id": "RHrOlMIdIaaO"
      },
      "source": [
        "# Backtick"
      ]
    },
    {
      "cell_type": "code",
      "metadata": {
        "id": "jKmjO-ICIaaO"
      },
      "source": [
        "``"
      ],
      "execution_count": null,
      "outputs": []
    },
    {
      "cell_type": "code",
      "metadata": {
        "id": "SCQdN-QSIaaO"
      },
      "source": [
        "'select * from db.table where date='2021-01-01''"
      ],
      "execution_count": null,
      "outputs": []
    },
    {
      "cell_type": "code",
      "metadata": {
        "id": "dctmSfceIaaO",
        "outputId": "3a197d9f-08fb-4d5f-d0c6-2feca7c5abda"
      },
      "source": [
        "'select * from db.table where date=\\'2021-01-01\\''"
      ],
      "execution_count": null,
      "outputs": [
        {
          "output_type": "execute_result",
          "data": {
            "text/plain": [
              "\"select * from db.table where date='2021-01-01'\""
            ]
          },
          "metadata": {
            "tags": []
          },
          "execution_count": 83
        }
      ]
    },
    {
      "cell_type": "code",
      "metadata": {
        "id": "ZKfMl2vVIaaP"
      },
      "source": [
        "# перевод строки в словарь\n",
        "dict_in_string = '{\"a\": 1, \"b\": 2}'\n",
        "\n",
        "type(json.loads(dict_in_string))"
      ],
      "execution_count": null,
      "outputs": []
    },
    {
      "cell_type": "code",
      "metadata": {
        "id": "9tBkS1fzIaaP"
      },
      "source": [
        "# перевод строки в список\n",
        "list_in_string = '[1, 2, 3]'\n",
        "\n",
        "json.loads(list_in_string)[-1]"
      ],
      "execution_count": null,
      "outputs": []
    },
    {
      "cell_type": "code",
      "metadata": {
        "id": "p2dwUj29IaaP"
      },
      "source": [
        "i = 0\n",
        "with open('purchase_log.txt') as f:\n",
        "    for line in f:\n",
        "        line = line.strip()\n",
        "        \n",
        "        dict_ = json.loads(line)\n",
        "        print(dict_, type(dict_))\n",
        "        \n",
        "        i += 1\n",
        "        if i > 5:\n",
        "            break"
      ],
      "execution_count": null,
      "outputs": []
    },
    {
      "cell_type": "markdown",
      "metadata": {
        "id": "BTodbPJZIaaP"
      },
      "source": [
        "### Из словаря в строку тоже можно"
      ]
    },
    {
      "cell_type": "code",
      "metadata": {
        "id": "WZKZJGTFIaaP"
      },
      "source": [
        "data = {'user_id': '1840e0b9d4', 'category': 'Продукты'}"
      ],
      "execution_count": null,
      "outputs": []
    },
    {
      "cell_type": "code",
      "metadata": {
        "scrolled": true,
        "id": "Eo2ANl8bIaaP",
        "outputId": "d3ca0b50-94ec-4cee-adcd-669c4dfed499"
      },
      "source": [
        "json.dumps(data)"
      ],
      "execution_count": null,
      "outputs": [
        {
          "output_type": "execute_result",
          "data": {
            "text/plain": [
              "'{\"user_id\": \"1840e0b9d4\", \"category\": \"\\\\u041f\\\\u0440\\\\u043e\\\\u0434\\\\u0443\\\\u043a\\\\u0442\\\\u044b\"}'"
            ]
          },
          "metadata": {
            "tags": []
          },
          "execution_count": 85
        }
      ]
    },
    {
      "cell_type": "code",
      "metadata": {
        "id": "2eOpBc4AIaaQ",
        "outputId": "f0f24b57-a68e-473f-f5e0-1f885e039e71"
      },
      "source": [
        "type(json.dumps(data))"
      ],
      "execution_count": null,
      "outputs": [
        {
          "output_type": "execute_result",
          "data": {
            "text/plain": [
              "str"
            ]
          },
          "metadata": {
            "tags": []
          },
          "execution_count": 86
        }
      ]
    },
    {
      "cell_type": "markdown",
      "metadata": {
        "id": "c9OKmnMFIaaQ"
      },
      "source": [
        "# Модуль pickle\n",
        "Запись объекта сразу в файл как поток байтов"
      ]
    },
    {
      "cell_type": "code",
      "metadata": {
        "id": "0SUmRVeUIaaQ"
      },
      "source": [
        "import pickle"
      ],
      "execution_count": null,
      "outputs": []
    },
    {
      "cell_type": "code",
      "metadata": {
        "id": "a1I03ourIaaQ"
      },
      "source": [
        "data = {'user_id': '1840e0b9d4', 'category': 'Продукты'}"
      ],
      "execution_count": null,
      "outputs": []
    },
    {
      "cell_type": "code",
      "metadata": {
        "id": "0VnaZemzIaaQ"
      },
      "source": [
        "with open('data.pickle', 'wb') as f:\n",
        "    pickle.dump(data, f)"
      ],
      "execution_count": null,
      "outputs": []
    },
    {
      "cell_type": "code",
      "metadata": {
        "id": "moYMoh_qIaaQ",
        "outputId": "f653e8c0-1f36-4319-ac52-a19956ad074f"
      },
      "source": [
        "# прочитать объект из такого файла\n",
        "\n",
        "with open('data.pickle', 'rb') as f:\n",
        "    dict_ = pickle.load(f)\n",
        "    \n",
        "dict_, dict_['user_id']"
      ],
      "execution_count": null,
      "outputs": [
        {
          "output_type": "execute_result",
          "data": {
            "text/plain": [
              "({'user_id': '1840e0b9d4', 'category': 'Продукты'}, '1840e0b9d4')"
            ]
          },
          "metadata": {
            "tags": []
          },
          "execution_count": 90
        }
      ]
    },
    {
      "cell_type": "markdown",
      "metadata": {
        "id": "6r8NWdPAIaaR"
      },
      "source": [
        "# Чтение файлов из папки"
      ]
    },
    {
      "cell_type": "code",
      "metadata": {
        "id": "CzNjxwg_IaaR"
      },
      "source": [
        "import os"
      ],
      "execution_count": null,
      "outputs": []
    },
    {
      "cell_type": "code",
      "metadata": {
        "id": "HkYCr-_HIaaR"
      },
      "source": [
        "# чтение файлов и папок\n",
        "for file in os.listdir('data'):\n",
        "    print(file)"
      ],
      "execution_count": null,
      "outputs": []
    },
    {
      "cell_type": "code",
      "metadata": {
        "id": "ApCF2piSIaaR"
      },
      "source": [
        "# чтение всех файлов и папок, в том числе вложенных\n",
        "for root, directory, file in os.walk('data'):\n",
        "    print(root, directory, file)"
      ],
      "execution_count": null,
      "outputs": []
    },
    {
      "cell_type": "markdown",
      "metadata": {
        "id": "eVUWpqM8IaaT"
      },
      "source": [
        "# Каталог пакетов pip (Python Package Index)\n",
        "Варианты установки\n",
        "1. С помощью Anaconda Navigator\n",
        "2. В командной строке (Terminal на маке)\n",
        "```bash\n",
        "pip install package_name\n",
        "```\n",
        "3. Скачать версию с github и установить вручную\n",
        "```bash\n",
        "pip install .\n",
        "```\n",
        "\n",
        "Пакеты устанавливаются в определенное окружение! Вам пригодится virtualenv"
      ]
    },
    {
      "cell_type": "code",
      "metadata": {
        "id": "U6QLWGhtIaaT"
      },
      "source": [
        "!pip install pyyaml"
      ],
      "execution_count": null,
      "outputs": []
    },
    {
      "cell_type": "code",
      "metadata": {
        "id": "agWVxIERIaaU"
      },
      "source": [
        "import plotly"
      ],
      "execution_count": null,
      "outputs": []
    },
    {
      "cell_type": "markdown",
      "metadata": {
        "id": "G6qf04NWIaaU"
      },
      "source": [
        "# Простой импорт"
      ]
    },
    {
      "cell_type": "code",
      "metadata": {
        "id": "wPe40qNzIaaU"
      },
      "source": [
        "import sys\n",
        "sys.path"
      ],
      "execution_count": null,
      "outputs": []
    },
    {
      "cell_type": "code",
      "metadata": {
        "id": "YL1ZClVXIaaU"
      },
      "source": [
        "# добавляем в список библиотек папку libs\n",
        "sys.path.append('libs')\n",
        "sys.path"
      ],
      "execution_count": null,
      "outputs": []
    },
    {
      "cell_type": "code",
      "metadata": {
        "id": "6AfS86F6IaaU"
      },
      "source": [
        "from useful_codes import CATEGORIES"
      ],
      "execution_count": null,
      "outputs": []
    },
    {
      "cell_type": "code",
      "metadata": {
        "id": "M6LpkkhuIaaV"
      },
      "source": [
        "CATEGORIES"
      ],
      "execution_count": null,
      "outputs": []
    },
    {
      "cell_type": "code",
      "metadata": {
        "id": "lM523MQhIaaV"
      },
      "source": [
        "from useful_codes import word_count"
      ],
      "execution_count": null,
      "outputs": []
    },
    {
      "cell_type": "code",
      "metadata": {
        "id": "-AOoNmLXIaaV"
      },
      "source": [
        "# посмотреть документацию функции\n",
        "\n",
        "?word_count"
      ],
      "execution_count": null,
      "outputs": []
    },
    {
      "cell_type": "code",
      "metadata": {
        "id": "1Kyuo-9bIaaV"
      },
      "source": [
        "word_count('Посчитай количество слов в тексте')"
      ],
      "execution_count": null,
      "outputs": []
    },
    {
      "cell_type": "markdown",
      "metadata": {
        "id": "5zHdA2jYIaaV"
      },
      "source": [
        "# Домашнее задание\n",
        "1. Переведите содержимое файла purchase_log.txt в словарь purchases вида:\n",
        "```python\n",
        "{'1840e0b9d4': 'Продукты', ...}\n",
        "```\n",
        "\n",
        "2. Для каждого user_id в файле visit_log.csv определите третий столбец с категорией покупки (если покупка была, сам файл visit_log.csv изменять не надо). Запишите в файл funnel.csv визиты из файла visit_log.csv, в которых были покупки с указанием категории.\n",
        "\n",
        "Учтите условия на данные:\n",
        "- содержимое purchase_log.txt помещается в оперативную память компьютера\n",
        "- содержимое visit_log.csv - нет; используйте только построчную обработку этого файла"
      ]
    },
    {
      "cell_type": "code",
      "metadata": {
        "id": "i-xyo4ejIaaW"
      },
      "source": [
        ""
      ],
      "execution_count": null,
      "outputs": []
    },
    {
      "cell_type": "code",
      "metadata": {
        "id": "nZPo8IXWIaaW"
      },
      "source": [
        ""
      ],
      "execution_count": null,
      "outputs": []
    },
    {
      "cell_type": "code",
      "metadata": {
        "id": "BxTd31cAIaaW"
      },
      "source": [
        ""
      ],
      "execution_count": null,
      "outputs": []
    }
  ]
}