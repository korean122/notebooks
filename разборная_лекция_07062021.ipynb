{
  "nbformat": 4,
  "nbformat_minor": 0,
  "metadata": {
    "colab": {
      "name": "разборная лекция 07062021.ipynb",
      "provenance": []
    },
    "kernelspec": {
      "name": "python3",
      "display_name": "Python 3"
    },
    "language_info": {
      "name": "python"
    }
  },
  "cells": [
    {
      "cell_type": "markdown",
      "metadata": {
        "id": "ri6xmObLJR-p"
      },
      "source": [
        "Оформление файла в jupyter"
      ]
    },
    {
      "cell_type": "markdown",
      "metadata": {
        "id": "aqY0niC5JRRx"
      },
      "source": [
        "## оглавление\n",
        "[ссылка](#task1) якорная ссылка. В квадратных скобках, название, в круглых якорная ссылка.\n",
        "<a id=’task1’></a  - так пишется якорная ссылка.\n"
      ]
    },
    {
      "cell_type": "code",
      "metadata": {
        "id": "E3AhGRWWJMvq"
      },
      "source": [
        "[Раздел1](#task1)"
      ],
      "execution_count": null,
      "outputs": []
    },
    {
      "cell_type": "code",
      "metadata": {
        "id": "rXealGcoJiVv"
      },
      "source": [
        "<a id=’task1’></a"
      ],
      "execution_count": null,
      "outputs": []
    },
    {
      "cell_type": "markdown",
      "metadata": {
        "id": "aMuikowHJwzR"
      },
      "source": [
        "Как сделать одноуровневый список из вложенных (<a id=’task1’></a)"
      ]
    },
    {
      "cell_type": "code",
      "metadata": {
        "id": "-Rxl1OipJyvQ"
      },
      "source": [
        "my_list = [['Екатеринбург', 'Москва'], ['Санкт-Петербург', 'Норильск'], ['Пермь', 'Астрахань']]#дан список"
      ],
      "execution_count": null,
      "outputs": []
    },
    {
      "cell_type": "markdown",
      "metadata": {
        "id": "wD_q20QDJ1wg"
      },
      "source": [
        "Решение №1"
      ]
    },
    {
      "cell_type": "code",
      "metadata": {
        "colab": {
          "base_uri": "https://localhost:8080/"
        },
        "id": "3iCencXqJ3Io",
        "outputId": "835c80ee-5531-42d7-e423-e572ff26d430"
      },
      "source": [
        "work_list = [\n",
        "j for i in my_list\n",
        "\tfor j in i]\n",
        "print(work_list)"
      ],
      "execution_count": null,
      "outputs": [
        {
          "output_type": "stream",
          "text": [
            "['Екатеринбург', 'Москва', 'Санкт-Петербург', 'Норильск', 'Пермь', 'Астрахань']\n"
          ],
          "name": "stdout"
        }
      ]
    },
    {
      "cell_type": "markdown",
      "metadata": {
        "id": "V66iGv97Ks0A"
      },
      "source": [
        "решение №2 (вложенный цикл)"
      ]
    },
    {
      "cell_type": "code",
      "metadata": {
        "colab": {
          "base_uri": "https://localhost:8080/"
        },
        "id": "24uvRNyVKvGn",
        "outputId": "621d2161-6756-47d6-ca23-109d72484297"
      },
      "source": [
        "work_list = []\n",
        "for i in my_list:\n",
        "\tfor j in i:\n",
        "\t\twork_list.append(j)\n",
        "print(work_list)"
      ],
      "execution_count": null,
      "outputs": [
        {
          "output_type": "stream",
          "text": [
            "['Екатеринбург', 'Москва', 'Санкт-Петербург', 'Норильск', 'Пермь', 'Астрахань']\n"
          ],
          "name": "stdout"
        }
      ]
    },
    {
      "cell_type": "markdown",
      "metadata": {
        "id": "lBFz7IDWK8Uz"
      },
      "source": [
        "Решение №3"
      ]
    },
    {
      "cell_type": "code",
      "metadata": {
        "colab": {
          "base_uri": "https://localhost:8080/"
        },
        "id": "_Dq-fhAGK-nG",
        "outputId": "80f18e18-5b38-456b-bb80-ef75816ea005"
      },
      "source": [
        "result = []\n",
        "for i in my_list:\n",
        "\tfor j in i:\n",
        "\t\tresult.append(j)\n",
        "print(result)"
      ],
      "execution_count": null,
      "outputs": [
        {
          "output_type": "stream",
          "text": [
            "['Екатеринбург', 'Москва', 'Санкт-Петербург', 'Норильск', 'Пермь', 'Астрахань']\n"
          ],
          "name": "stdout"
        }
      ]
    },
    {
      "cell_type": "markdown",
      "metadata": {
        "id": "bKqfJCh3LK_6"
      },
      "source": [
        "Преподаватель: Списки можно складывать друг с другом"
      ]
    },
    {
      "cell_type": "code",
      "metadata": {
        "colab": {
          "base_uri": "https://localhost:8080/"
        },
        "id": "_jSG32qNLMc6",
        "outputId": "71bd65ea-f6d3-4667-f89c-18872f0fca56"
      },
      "source": [
        "res = list()\n",
        "for i in my_list:\n",
        "\tres += i\n",
        "res"
      ],
      "execution_count": null,
      "outputs": [
        {
          "output_type": "execute_result",
          "data": {
            "text/plain": [
              "['Екатеринбург', 'Москва', 'Санкт-Петербург', 'Норильск', 'Пермь', 'Астрахань']"
            ]
          },
          "metadata": {
            "tags": []
          },
          "execution_count": 19
        }
      ]
    },
    {
      "cell_type": "markdown",
      "metadata": {
        "id": "burf94SSLVIS"
      },
      "source": [
        "Решение в одну строку. Какая функция в Python складывает между собой элементы списки. c помощью sum\n",
        "sum(my_list) – появится ошибка « не могу сложить список с int. Откуда взялся Int? Как объяснить эту ошибку?\n",
        "!!!! перед функцией вопрос прямо в блокноте – помощь\n",
        "В данном случае sum складывает списки с изначальным нулем.\n",
        "Поэтому код должен выглядеть так: sum(my_list, []) это будет говорить что sum должен вести отсчет не от нуля, а от пустого списка.\n",
        "На больших уровнях вложенности – не работает.\n"
      ]
    },
    {
      "cell_type": "code",
      "metadata": {
        "colab": {
          "base_uri": "https://localhost:8080/"
        },
        "id": "Sb8LGQ5YLjW0",
        "outputId": "514e9618-26ba-4bc1-838e-1baa3fa4d07b"
      },
      "source": [
        "sum(my_list, [])"
      ],
      "execution_count": null,
      "outputs": [
        {
          "output_type": "execute_result",
          "data": {
            "text/plain": [
              "['Екатеринбург', 'Москва', 'Санкт-Петербург', 'Норильск', 'Пермь', 'Астрахань']"
            ]
          },
          "metadata": {
            "tags": []
          },
          "execution_count": 20
        }
      ]
    },
    {
      "cell_type": "markdown",
      "metadata": {
        "id": "xC8wKzadLmBM"
      },
      "source": [
        "Задача №2 Напишите код, который возвращает отфильтрованный список, содержащий только визиты из России."
      ]
    },
    {
      "cell_type": "code",
      "metadata": {
        "id": "wveVDbqwLofr"
      },
      "source": [
        "geo_logs = [\n",
        "{'visit1': ['Москва', 'Россия']},\n",
        "{'visit2': ['Дели', 'Индия']},\n",
        "{'visit3': ['Владимир', 'Россия']},\n",
        "{'visit4': ['Лиссабон', 'Португалия']}\n",
        "]"
      ],
      "execution_count": null,
      "outputs": []
    },
    {
      "cell_type": "markdown",
      "metadata": {
        "id": "b3uZPomXL7Rj"
      },
      "source": [
        "Попробуем решение в лоб. Перебираем значение словарей которые есть в списке.\n",
        "внутри одного цикла переберающего значения создаем вложенный и двигаемся по значениям перебирая элементы и если элемент вложенного цикла не равен Россия удаляем из списка значение"
      ]
    },
    {
      "cell_type": "code",
      "metadata": {
        "colab": {
          "base_uri": "https://localhost:8080/"
        },
        "id": "vBd7G4erL_KU",
        "outputId": "6281b570-df18-4029-cf4f-f2b5de283fc8"
      },
      "source": [
        "for log in geo_logs:\n",
        "  for i in log.values():\n",
        "    if i[1] != 'Россия':\n",
        "    \tgeo_logs.remove(log)\n",
        "geo_logs"
      ],
      "execution_count": null,
      "outputs": [
        {
          "output_type": "execute_result",
          "data": {
            "text/plain": [
              "[{'visit1': ['Москва', 'Россия']}, {'visit3': ['Владимир', 'Россия']}]"
            ]
          },
          "metadata": {
            "tags": []
          },
          "execution_count": 31
        }
      ]
    },
    {
      "cell_type": "markdown",
      "metadata": {
        "id": "EMdmw-8MNC-L"
      },
      "source": [
        "В результате кроме России в списке осталась Франция (изначальный список был больше). Почему?\n",
        "Это происходит потому, что мы, действуя в рамках вложенного цикла сбиваем внутренний счетчик. Так делать нельзя не только для удаления, но и для добавления. Как это можно обойти.\n"
      ]
    },
    {
      "cell_type": "markdown",
      "metadata": {
        "id": "tnDFJW8ENJ3x"
      },
      "source": [
        "Вариант 1. Добавлять в пустую переменную все значения с Россия"
      ]
    },
    {
      "cell_type": "code",
      "metadata": {
        "colab": {
          "base_uri": "https://localhost:8080/"
        },
        "id": "FeizSmfwNLfx",
        "outputId": "692ddabe-6154-4f82-d6f9-b9009dcede0b"
      },
      "source": [
        "result = []\n",
        "for log in geo_logs:\n",
        "\t\tif list(log.values())[0][1] == 'Россия': #Если значение в  log\n",
        "\t\t\tresult.append(log) \n",
        "result"
      ],
      "execution_count": null,
      "outputs": [
        {
          "output_type": "execute_result",
          "data": {
            "text/plain": [
              "[{'visit1': ['Москва', 'Россия']}, {'visit3': ['Владимир', 'Россия']}]"
            ]
          },
          "metadata": {
            "tags": []
          },
          "execution_count": 32
        }
      ]
    },
    {
      "cell_type": "markdown",
      "metadata": {
        "id": "iAJ32rU8NU07"
      },
      "source": [
        "Но в задании стоит именно фильтрация данных. Т.е. изменить исходный объект, а не создать новый. Если сделать копию списка для прохождения цикла, а удалять данные из исходного списка."
      ]
    },
    {
      "cell_type": "code",
      "metadata": {
        "colab": {
          "base_uri": "https://localhost:8080/"
        },
        "id": "m5wzjNadNWrx",
        "outputId": "b0282944-2ac4-4eb4-b401-9cf825657ded"
      },
      "source": [
        "geo_logs_copy = geo_logs.copy() \n",
        "for log in geo_logs_copy:\n",
        "\t\tif list(log.values())[0][1] != 'Россия': \n",
        "\t\t\tgeo_logs.remove(log) #Удаляем из списка значение из log\n",
        "geo_logs"
      ],
      "execution_count": null,
      "outputs": [
        {
          "output_type": "execute_result",
          "data": {
            "text/plain": [
              "[{'visit1': ['Москва', 'Россия']}, {'visit3': ['Владимир', 'Россия']}]"
            ]
          },
          "metadata": {
            "tags": []
          },
          "execution_count": 40
        }
      ]
    },
    {
      "cell_type": "code",
      "metadata": {
        "colab": {
          "base_uri": "https://localhost:8080/"
        },
        "id": "oAUE43ZTNsp6",
        "outputId": "b3fa473b-7f3c-4ced-dd96-dcf734c1f9bf"
      },
      "source": [
        "#И однострочное решение с использование фильтра\n",
        "list(filter(lambda log: list(log.values())[0][1] == 'Россия', geo_logs))"
      ],
      "execution_count": null,
      "outputs": [
        {
          "output_type": "execute_result",
          "data": {
            "text/plain": [
              "[{'visit1': ['Москва', 'Россия']}, {'visit3': ['Владимир', 'Россия']}]"
            ]
          },
          "metadata": {
            "tags": []
          },
          "execution_count": 41
        }
      ]
    },
    {
      "cell_type": "markdown",
      "metadata": {
        "id": "Q7UzhcBCN0wQ"
      },
      "source": [
        "**Функция filter в первую переменную мы передаем условие фильтрации, а вторым откуда фильтровать данные.**"
      ]
    },
    {
      "cell_type": "markdown",
      "metadata": {
        "id": "RM4cMbn2N7HX"
      },
      "source": [
        "Отличие метода от функции\n",
        "Метод пишется через ., а функция пишется отдельно\n",
        "Методы всегда специфичны для определенного класса (т.е. могут не работать с другими классами (типами данных), а функции чаще всего работают."
      ]
    },
    {
      "cell_type": "markdown",
      "metadata": {
        "id": "HJByuAMxN8qH"
      },
      "source": [
        "**Zip формирует из двух списков кортежи (внтури можно передавать функции)**"
      ]
    },
    {
      "cell_type": "code",
      "metadata": {
        "id": "9DBhK1Z5N_7A"
      },
      "source": [
        "boys = ['peter', 'alex', '…']\n",
        "girls = ['kate', 'liza', 'kira', '…']"
      ],
      "execution_count": null,
      "outputs": []
    },
    {
      "cell_type": "code",
      "metadata": {
        "colab": {
          "base_uri": "https://localhost:8080/"
        },
        "id": "YxrxTNnLOPAY",
        "outputId": "505af3d9-3a55-42f4-8064-6e7c49773078"
      },
      "source": [
        "for pair in zip(sorted(boys), sorted(girls)):\n",
        "\tprint(pair)"
      ],
      "execution_count": null,
      "outputs": [
        {
          "output_type": "stream",
          "text": [
            "('alex', 'kate')\n",
            "('peter', 'kira')\n",
            "('…', 'liza')\n"
          ],
          "name": "stdout"
        }
      ]
    },
    {
      "cell_type": "code",
      "metadata": {
        "colab": {
          "base_uri": "https://localhost:8080/"
        },
        "id": "-xqkhNWyOVmv",
        "outputId": "eb589852-9a4a-4d89-f583-cb904bf42660"
      },
      "source": [
        "#Для того, чтобы кортежи вывести на экран. Надо воспользоваться индексами\n",
        "print(f'{pair[0]} и {pair[1]}') #просто раскладываем обьект на индексы во время итерации print "
      ],
      "execution_count": null,
      "outputs": [
        {
          "output_type": "stream",
          "text": [
            "… и liza\n"
          ],
          "name": "stdout"
        }
      ]
    },
    {
      "cell_type": "code",
      "metadata": {
        "colab": {
          "base_uri": "https://localhost:8080/"
        },
        "id": "dRSKiXYuOgUW",
        "outputId": "e3c2ee99-65db-43fa-d1eb-cb6a5705c982"
      },
      "source": [
        "#альтернативный вариант создать две переменные и выводить уже их\n",
        "for b, g in zip(sorted(boys), sorted(girls)):\n",
        "\tprint(f'{b} и {g}')"
      ],
      "execution_count": null,
      "outputs": [
        {
          "output_type": "stream",
          "text": [
            "alex и kate\n",
            "peter и kira\n",
            "… и liza\n"
          ],
          "name": "stdout"
        }
      ]
    },
    {
      "cell_type": "markdown",
      "metadata": {
        "id": "nwl26NZ-O0AM"
      },
      "source": [
        "Вопрос средние просмотры."
      ]
    },
    {
      "cell_type": "code",
      "metadata": {
        "colab": {
          "base_uri": "https://localhost:8080/"
        },
        "id": "oswTf3BYO0r2",
        "outputId": "e4655c6d-cac5-42a6-e340-be8ec45bcac0"
      },
      "source": [
        "stream = [\n",
        "'2018-01-01,user1,3',\n",
        "'2018-01-07,user1,4'\n",
        "]\n",
        "#Как максимально эффективно разобрать список? Мы перебираем строки.\n",
        "for i in stream:\n",
        "\tprint(i)\n",
        "#Нам необходимо применить метод split который разбивает строку по разделителю.\n",
        "print(i.split(','))"
      ],
      "execution_count": null,
      "outputs": [
        {
          "output_type": "stream",
          "text": [
            "2018-01-01,user1,3\n",
            "2018-01-07,user1,4\n",
            "['2018-01-07', 'user1', '4']\n"
          ],
          "name": "stdout"
        }
      ]
    },
    {
      "cell_type": "markdown",
      "metadata": {
        "id": "SDhDsucpPS7e"
      },
      "source": [
        "Повторяющиеся числа из ДЗ"
      ]
    },
    {
      "cell_type": "code",
      "metadata": {
        "colab": {
          "base_uri": "https://localhost:8080/"
        },
        "id": "PyU63kpmPTZF",
        "outputId": "ba1d24e1-ab56-4ec7-eb25-6d84900a8b3d"
      },
      "source": [
        "number = input('введите числа через пробел: ').split() #Получим список из строк (str) разделенных пробелом.\n",
        "result = []\n",
        "for i in number:\n",
        "\tif int(i) not in result and number.count(i) >= 2: #ЕСЛИ приведенное к числу значение в переменной а.\n",
        "\t\tresult.append(int(i)) #Прибавляй в список цифровое значение\n",
        "print(' '.join(list(map(str, sorted(result)))))"
      ],
      "execution_count": null,
      "outputs": [
        {
          "output_type": "stream",
          "text": [
            "введите числа через пробел: 156987\n",
            "\n"
          ],
          "name": "stdout"
        }
      ]
    },
    {
      "cell_type": "markdown",
      "metadata": {
        "id": "KcpK0JQwP0Vl"
      },
      "source": [
        "Тренажеры по python – \n",
        "pythontutor.ru - НА РУССКОМ\n",
        "hackerrank.com\n",
        "checkio.org\n",
        "leetcode.com\n",
        "codewars.com\n"
      ]
    },
    {
      "cell_type": "markdown",
      "metadata": {
        "id": "YPysxf-dP1y3"
      },
      "source": [
        "Удалить из словаря, все пустые элементы"
      ]
    },
    {
      "cell_type": "code",
      "metadata": {
        "id": "otY42lspP2mM"
      },
      "source": [
        "#Удалить из словаря, все пустые элементы\n",
        "My_dict = {\n",
        "'id1': 123456,\n",
        "'id2': 123456,\n",
        "'id3': None,\n",
        "}"
      ],
      "execution_count": null,
      "outputs": []
    },
    {
      "cell_type": "markdown",
      "metadata": {
        "id": "M_KHfaBnP_-l"
      },
      "source": [
        "https://www.kaggle.com/ сайт с кодом по анализу данных\n",
        "пример кода датасаентиста\n",
        "https://www.kaggle.com/kanncaa1/feature-selection-and-data-visualization"
      ]
    },
    {
      "cell_type": "code",
      "metadata": {
        "colab": {
          "base_uri": "https://localhost:8080/"
        },
        "id": "3DGxJeqcQEOc",
        "outputId": "633b11b0-2ba0-4045-b49c-d26d8417941c"
      },
      "source": [
        "my_dict = {\n",
        "'id1': 123568,\n",
        "'id2': 123456,\n",
        "'id3': None,\n",
        "'id4': 9876,\n",
        "}\n",
        "res = {i: j for i, j in my_dict.items() if j != None} #Оставляем ключ и значение не изменными, для каждого из кортежей (items - возвращает значение пары ключ значение), т.е. ключа и значения нашего словаря если значение j не равно None\n",
        "res"
      ],
      "execution_count": null,
      "outputs": [
        {
          "output_type": "execute_result",
          "data": {
            "text/plain": [
              "{'id1': 123568, 'id2': 123456, 'id4': 9876}"
            ]
          },
          "metadata": {
            "tags": []
          },
          "execution_count": 60
        }
      ]
    },
    {
      "cell_type": "code",
      "metadata": {
        "colab": {
          "base_uri": "https://localhost:8080/"
        },
        "id": "mGU69d6tQJPs",
        "outputId": "59aa4936-7c50-477c-ab23-5b83ff63a7c2"
      },
      "source": [
        "#Примечание значение None надо искать не через знак равенства или неравенства, а через is или is not, т.е. совсем правильно будет:\n",
        "res = {i: j for i, j in my_dict.items() if j is not None}\n",
        "res"
      ],
      "execution_count": null,
      "outputs": [
        {
          "output_type": "execute_result",
          "data": {
            "text/plain": [
              "{'id1': 123568, 'id2': 123456, 'id4': 9876}"
            ]
          },
          "metadata": {
            "tags": []
          },
          "execution_count": 64
        }
      ]
    },
    {
      "cell_type": "markdown",
      "metadata": {
        "id": "0DyB9JUKQP7L"
      },
      "source": [
        "Замечание преподавателя. Булево значение (истина ложь, для None будет выдавать ложь, поэтому можно просто"
      ]
    },
    {
      "cell_type": "code",
      "metadata": {
        "id": "JhbRc14gQQnE"
      },
      "source": [
        "res = {i: j for i, j in my_dict.items() if val} #НЕПОНЯТНО"
      ],
      "execution_count": null,
      "outputs": []
    },
    {
      "cell_type": "code",
      "metadata": {
        "colab": {
          "base_uri": "https://localhost:8080/"
        },
        "id": "9Nep7z4MQUd9",
        "outputId": "2f0700aa-0515-405e-8725-0860465dd4a8"
      },
      "source": [
        "data = [\n",
        "        [13, 25, 23, 17],\n",
        "        [45, 32, 44, 43],\n",
        "        [12, 33, 23, 87],\n",
        "        [13, 53, 45, 32],\n",
        "]\n",
        "#найти и сложить цифры по диагонали\n",
        "#решение через цикл\n",
        "i = 0\n",
        "summ = 0\n",
        "for row in data:\n",
        "  summ += row[i]\n",
        "  i += 1\n",
        "summ"
      ],
      "execution_count": null,
      "outputs": [
        {
          "output_type": "execute_result",
          "data": {
            "text/plain": [
              "100"
            ]
          },
          "metadata": {
            "tags": []
          },
          "execution_count": 65
        }
      ]
    },
    {
      "cell_type": "code",
      "metadata": {
        "colab": {
          "base_uri": "https://localhost:8080/"
        },
        "id": "qPNDnUI7Qew9",
        "outputId": "45f0515d-b398-4dc5-8e11-75d077be6cbd"
      },
      "source": [
        "#напишем тоже самое в одну строку\n",
        "sum([row[i] for i, row in enumerate(data)]) #возьми индекс по нужной строке, итерируясь по индексу каждой строки через функцию enumerate, так как функция получает индекс и сам элемент при переборе. потом вме это суммируем"
      ],
      "execution_count": null,
      "outputs": [
        {
          "output_type": "execute_result",
          "data": {
            "text/plain": [
              "100"
            ]
          },
          "metadata": {
            "tags": []
          },
          "execution_count": 66
        }
      ]
    },
    {
      "cell_type": "code",
      "metadata": {
        "colab": {
          "base_uri": "https://localhost:8080/"
        },
        "id": "IxN_7xXvQheF",
        "outputId": "59eb0b1f-fd1e-4523-bb5b-c815d873d6e3"
      },
      "source": [
        "list(enumerate(data)) #кортежи где нулевым элементом является индекс, а первым индексом является сам элемент"
      ],
      "execution_count": null,
      "outputs": [
        {
          "output_type": "execute_result",
          "data": {
            "text/plain": [
              "[(0, [13, 25, 23, 17]),\n",
              " (1, [45, 32, 44, 43]),\n",
              " (2, [12, 33, 23, 87]),\n",
              " (3, [13, 53, 45, 32])]"
            ]
          },
          "metadata": {
            "tags": []
          },
          "execution_count": 67
        }
      ]
    },
    {
      "cell_type": "markdown",
      "metadata": {
        "id": "NS4gkVn2Qj4j"
      },
      "source": [
        "Вопрос, как переделать эту строку чтобы посчитать обратную диагональ"
      ]
    },
    {
      "cell_type": "code",
      "metadata": {
        "id": "lTTwlpAfQkbU"
      },
      "source": [
        "sum([row[-i-1] for i, row in enumerate(data)]) #Поскольку индексация начинается с нуля, нам надо из минус 1 вычесть единицу"
      ],
      "execution_count": null,
      "outputs": []
    },
    {
      "cell_type": "code",
      "metadata": {
        "colab": {
          "base_uri": "https://localhost:8080/"
        },
        "id": "GDO6bm4UQnZc",
        "outputId": "d1061f33-34d9-4999-e625-49183bce32ec"
      },
      "source": [
        "Some_oxy_text = \"\"\"\n",
        "Весь мой рэп, если коротко, про то, что\n",
        "Уж который год который город под подошвой\n",
        "В гору когда прёт, потом под гору когда тошно,\n",
        "Я не то что Гулливер, но всё же город под подошвой.\n",
        "Город под подошвой, город под подошвой,\n",
        "Светофоры, госпошлины, сборы и таможни\n",
        "Я не знаю, вброд или на дно эта дорожка,\n",
        "Ты живёшь под каблуком, у меня город под подошвой\n",
        "\"\"\"\n",
        "#Вывести в формет \"слово\": \"количество вхождений\". за резделитель считаем пробел, все слова приводим к нижнему регистру (upper)\n",
        "some_oxy_text = \"\"\"\n",
        "Весь мой рэп, если коротко, про то, что\n",
        "Уж который год который город под подошвой\n",
        "В гору когда прёт, потом под гору? когда тошно\n",
        "Я не то что Гулливер, но всё же город под подошвой\n",
        "Город под подошвой, город под подошвой\n",
        "Светофоры, госпошлины, сборы и таможни\n",
        "Я не знаю, вброд или на дно эта дорожка,\n",
        "Ты живёшь под каблуком, у меня город под подошвой\n",
        "\"\"\"\n",
        "#разложить на список слов и посчитать количество вхождений\n",
        "res = {}\n",
        "for word in some_oxy_text.lower().replace(',', '').replace('\\n', ' ').replace('-', '').split(): #Сначала_к_списку_мы_должны_применить_реплейс_и_только_затем_сплит_т.к. после него у нас будет список к которому нельзя применить метод реплейс\n",
        "    if word in res:\n",
        "        res[word] +=1 #то я буду соответствующее значение по ключу наращивать на один\n",
        "    else: \n",
        "        res[word] = 1 #Иначе я буду инициализировать соответствующую пару значением один???\n",
        "for word, count in res.items():\n",
        "  print(f'{word}: {count}')\n",
        "#теперь заведем пустой словарь (над циклом)"
      ],
      "execution_count": null,
      "outputs": [
        {
          "output_type": "stream",
          "text": [
            "весь: 1\n",
            "мой: 1\n",
            "рэп: 1\n",
            "если: 1\n",
            "коротко: 1\n",
            "про: 1\n",
            "то: 2\n",
            "что: 2\n",
            "уж: 1\n",
            "который: 2\n",
            "год: 1\n",
            "город: 5\n",
            "под: 7\n",
            "подошвой: 5\n",
            "в: 1\n",
            "гору: 1\n",
            "когда: 2\n",
            "прёт: 1\n",
            "потом: 1\n",
            "гору?: 1\n",
            "тошно: 1\n",
            "я: 2\n",
            "не: 2\n",
            "гулливер: 1\n",
            "но: 1\n",
            "всё: 1\n",
            "же: 1\n",
            "светофоры: 1\n",
            "госпошлины: 1\n",
            "сборы: 1\n",
            "и: 1\n",
            "таможни: 1\n",
            "знаю: 1\n",
            "вброд: 1\n",
            "или: 1\n",
            "на: 1\n",
            "дно: 1\n",
            "эта: 1\n",
            "дорожка: 1\n",
            "ты: 1\n",
            "живёшь: 1\n",
            "каблуком: 1\n",
            "у: 1\n",
            "меня: 1\n"
          ],
          "name": "stdout"
        }
      ]
    }
  ]
}