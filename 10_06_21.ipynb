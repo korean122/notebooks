{
 "cells": [
  {
   "cell_type": "code",
   "execution_count": null,
   "id": "b440909b",
   "metadata": {},
   "outputs": [],
   "source": [
    "documents = [\n",
    " {'type': 'passport', 'number': '2207 876234', 'name': 'Василий Гупкин'},\n",
    " {'type': 'invoice', 'number': '11-2', 'name': 'Геннадий Покемонов'},\n",
    " {'type': 'insurance', 'number': '10006', 'name': 'Аристарх Павлов'}\n",
    "]\n",
    "\n",
    "directories = {\n",
    " '1': ['2207 876234', '11-2'],\n",
    " '2': ['10006'],\n",
    " '3': []\n",
    "}"
   ]
  },
  {
   "cell_type": "code",
   "execution_count": null,
   "id": "c92aae16",
   "metadata": {},
   "outputs": [],
   "source": [
    "def doc_list():\n",
    "    result = []\n",
    "    for doc in documents:\n",
    "#         shelf = shelf_find(doc['number'])\n",
    "        result.append('№: ' + doc['number'] + ' тип: ' + doc['type'] + ' владелец: '+ doc['name'] + ' полка хранения: ')\n",
    "\n",
    "    return '\\n'.join(result)\n",
    "\n",
    "print(doc_list())"
   ]
  },
  {
   "cell_type": "code",
   "execution_count": null,
   "id": "212bc538",
   "metadata": {},
   "outputs": [],
   "source": [
    "def print_docs(docs, dirs):\n",
    "    for shelf, content in directories.items():\n",
    "        for doc in documents:\n",
    "            if doc['number'] in content:\n",
    "                print(f\"№{doc['number']}, тип: {doc['type']}, враделец: {doc['name']}, полка: {shelf}\")\n",
    "                \n",
    "print_docs(documents, directories)"
   ]
  },
  {
   "cell_type": "markdown",
   "id": "b10406d9",
   "metadata": {},
   "source": [
    "### Функция, определяющая является ли слово палиндромом"
   ]
  },
  {
   "cell_type": "code",
   "execution_count": null,
   "id": "b0d4b5c2",
   "metadata": {},
   "outputs": [],
   "source": [
    "def palindrom_check(word):\n",
    "    word = word.lower()\n",
    "    if word == word[::-1]:\n",
    "        print('является')\n",
    "    else:\n",
    "        print('нет')\n",
    "    \n",
    "palindrom_check('Радар')"
   ]
  },
  {
   "cell_type": "markdown",
   "id": "77894ef5",
   "metadata": {},
   "source": [
    "### Функция, которая будет находить среднюю цену за квартиры по всем районам города"
   ]
  },
  {
   "cell_type": "code",
   "execution_count": null,
   "id": "77b47cd2",
   "metadata": {},
   "outputs": [],
   "source": [
    "dict_1 = {'flat_1': 10500, 'flat_2': 11000}\n",
    "dict_2 = {'flat_3': 15000}\n",
    "dict_3 = {'flat_4': 6500, 'flat_5': 7000, 'flat_6': 6000} "
   ]
  },
  {
   "cell_type": "code",
   "execution_count": null,
   "id": "b78e69c8",
   "metadata": {},
   "outputs": [],
   "source": [
    "def ave_price(*districts):\n",
    "    print(districts)\n",
    "    cost = 0\n",
    "    count = 0\n",
    "    for district in districts:\n",
    "        cost = cost + sum(district.values())\n",
    "        count += len(district.values())\n",
    "    return cost / count\n",
    "\n",
    "ave_price(dict_1, dict_2, dict_3)"
   ]
  },
  {
   "cell_type": "markdown",
   "id": "16730810",
   "metadata": {},
   "source": [
    "### Функция, которая будет считать среднюю цену для каждой категории товаров"
   ]
  },
  {
   "cell_type": "code",
   "execution_count": null,
   "id": "639faaba",
   "metadata": {},
   "outputs": [],
   "source": [
    "prices = [[100, 200, 400, 600], [200, 500], [100, 200, 100, 100], [800, 900]]"
   ]
  },
  {
   "cell_type": "code",
   "execution_count": null,
   "id": "f39ea604",
   "metadata": {},
   "outputs": [],
   "source": [
    "def average_prices(prcs):\n",
    "    return [sum(price) / len(price) for price in prcs]\n",
    "print(average_prices(prices))"
   ]
  },
  {
   "cell_type": "code",
   "execution_count": null,
   "id": "2c9ff9e0",
   "metadata": {},
   "outputs": [],
   "source": [
    "list(map(lambda x: sum(x) / len(x), prices))"
   ]
  },
  {
   "cell_type": "markdown",
   "id": "fe80baaa",
   "metadata": {},
   "source": [
    "### Практика"
   ]
  },
  {
   "cell_type": "code",
   "execution_count": null,
   "id": "dd980de4",
   "metadata": {},
   "outputs": [],
   "source": [
    "students_list = [\n",
    "    {\"name\": \"Василий\", \"surname\": \"Теркин\", \"gender\": \"м\", \"program_exp\": True, \"grade\": [8, 8, 9, 10, 9], \"exam\": 8},\n",
    "    {\"name\": \"Мария\", \"surname\": \"Павлова\", \"gender\": \"ж\", \"program_exp\": True, \"grade\": [7, 8, 9, 7, 9], \"exam\": 9},\n",
    "    {\"name\": \"Ирина\", \"surname\": \"Андреева\", \"gender\": \"ж\", \"program_exp\": False, \"grade\": [10, 9, 8, 10, 10], \"exam\": 7},\n",
    "    {\"name\": \"Татьяна\", \"surname\": \"Сидорова\", \"gender\": \"ж\", \"program_exp\": False, \"grade\": [7, 8, 8, 9, 8],\"exam\": 10},\n",
    "    {\"name\": \"Иван\", \"surname\": \"Васильев\", \"gender\": \"м\", \"program_exp\": True, \"grade\": [9, 8, 9, 6, 9], \"exam\": 5},\n",
    "    {\"name\": \"Роман\", \"surname\": \"Золотарев\", \"gender\": \"м\", \"program_exp\": False, \"grade\": [8, 9, 9, 6, 9], \"exam\": 6}\n",
    "]"
   ]
  },
  {
   "cell_type": "code",
   "execution_count": null,
   "id": "32b454d4",
   "metadata": {},
   "outputs": [],
   "source": [
    "def get_avg_ex_grade(students, exp=None, sex=None):\n",
    "    sum_ex = 0\n",
    "    counter = 0\n",
    "    for student in students:\n",
    "        if (student['program_exp'] == exp or exp is None) and (student['gender'] == sex or sex is None):\n",
    "            sum_ex += student['exam']\n",
    "            counter += 1\n",
    "    return round(sum_ex / counter, 2)\n",
    "\n",
    "# print(get_avg_ex_grade(students_list))\n",
    "# print(get_avg_ex_grade(students_list, True))\n",
    "# print(get_avg_ex_grade(students_list, False))\n",
    "\n",
    "# print(get_avg_ex_grade(students_list, False, 'м'))\n",
    "# print(get_avg_ex_grade(students_list, False, 'ж'))"
   ]
  },
  {
   "cell_type": "code",
   "execution_count": null,
   "id": "aef0ea3f",
   "metadata": {},
   "outputs": [],
   "source": [
    "def get_avg_hw_grade(students, exp=None, sex=None):\n",
    "    sum_hw = 0\n",
    "    counter = 0\n",
    "    for student in students:\n",
    "        if (student['program_exp'] == exp or exp is None) and (student['gender'] == sex or sex is None):\n",
    "            sum_hw += sum(student['grade']) / len(student['grade'])\n",
    "            counter += 1\n",
    "    return round(sum_hw / counter, 2)\n",
    "#\n",
    "# print(get_avg_hw_grade(students_list))\n",
    "\n",
    "# print(get_avg_hw_grade(students_list, True))\n",
    "# print(get_avg_hw_grade(students_list, False))\n",
    "# print(get_avg_hw_grade(students_list, True, 'м'))\n",
    "# print(get_avg_hw_grade(students_list, False, 'ж'))\n",
    "\n",
    "# print(get_avg_hw_grade(students_list, None, 'ж'))\n",
    "# print(get_avg_hw_grade(students_list, sex='ж'))"
   ]
  },
  {
   "cell_type": "code",
   "execution_count": null,
   "id": "d40b6e7f",
   "metadata": {},
   "outputs": [],
   "source": [
    "def main(students):\n",
    "    while True:\n",
    "        user_input = input('Введите команду')\n",
    "        if user_input == '1':\n",
    "            print(get_avg_ex_grade(students))\n",
    "        elif user_input == '2':\n",
    "            print(get_avg_ex_grade(students, True))\n",
    "        elif user_input == '3':\n",
    "            print(get_avg_ex_grade(students, False))\n",
    "        elif user_input == '4':\n",
    "            print(get_avg_hw_grade(students))\n",
    "        elif user_input == '5':\n",
    "            print(get_avg_hw_grade(students, True))\n",
    "        elif user_input == '6':\n",
    "            print(get_avg_hw_grade(students, False))\n",
    "        elif user_input == 'q':\n",
    "            print('До свидания!')\n",
    "            break\n",
    "\n",
    "main(students_list_2)\n",
    "\n"
   ]
  },
  {
   "cell_type": "code",
   "execution_count": null,
   "id": "e4e7b7b8",
   "metadata": {},
   "outputs": [],
   "source": [
    "def main(students):\n",
    "    command_list = {\n",
    "        '1': get_avg_ex_grade,\n",
    "        '2': get_avg_hw_grade\n",
    "    }\n",
    "    \n",
    "    while True:\n",
    "        user_input = input('Введите команду')\n",
    "        if user_input in command_list:\n",
    "            print(command_list[user_input](students))\n",
    "        elif user_input == 'q':\n",
    "            print('До свидания!')\n",
    "            break\n",
    "        else:\n",
    "            print('Команды не существует!')\n",
    "\n",
    "main(students_list)\n"
   ]
  },
  {
   "cell_type": "markdown",
   "id": "8ffc6756",
   "metadata": {},
   "source": [
    "### 6 задача из прошлого ДЗ"
   ]
  },
  {
   "cell_type": "code",
   "execution_count": 1,
   "id": "69bec15a",
   "metadata": {},
   "outputs": [],
   "source": [
    "cook_book = {\n",
    "  'салат': [\n",
    "     {'ingridient_name': 'сыр', 'quantity': 50, 'measure': 'гр'},\n",
    "     {'ingridient_name': 'томаты', 'quantity': 2, 'measure': 'шт'},\n",
    "     {'ingridient_name': 'огурцы', 'quantity': 20, 'measure': 'гр'},\n",
    "     {'ingridient_name': 'маслины', 'quantity': 10, 'measure': 'гр'},\n",
    "     {'ingridient_name': 'оливковое масло', 'quantity': 20, 'measure': 'мл'},\n",
    "     {'ingridient_name': 'салат', 'quantity': 10, 'measure': 'гр'},\n",
    "     {'ingridient_name': 'перец', 'quantity': 20, 'measure': 'гр'}\n",
    "    ],\n",
    "  'пицца': [\n",
    "     {'ingridient_name': 'сыр', 'quantity': 20, 'measure': 'гр'},\n",
    "     {'ingridient_name': 'колбаса', 'quantity': 30, 'measure': 'гр'},\n",
    "     {'ingridient_name': 'бекон', 'quantity': 30, 'measure': 'гр'},\n",
    "     {'ingridient_name': 'оливки', 'quantity': 10, 'measure': 'гр'},\n",
    "     {'ingridient_name': 'томаты', 'quantity': 20, 'measure': 'гр'},\n",
    "     {'ingridient_name': 'тесто', 'quantity': 100, 'measure': 'гр'},   \n",
    "    ],\n",
    "  'лимонад': [\n",
    "     {'ingridient_name': 'лимон', 'quantity': 1, 'measure': 'шт'},\n",
    "     {'ingridient_name': 'вода', 'quantity': 200, 'measure': 'мл'},\n",
    "     {'ingridient_name': 'сахар', 'quantity': 10, 'measure': 'гр'},\n",
    "     {'ingridient_name': 'лайм', 'quantity': 20, 'measure': 'гр'},    \n",
    "    ]\n",
    "}"
   ]
  },
  {
   "cell_type": "code",
   "execution_count": 5,
   "id": "c5c12a5a",
   "metadata": {},
   "outputs": [
    {
     "name": "stdout",
     "output_type": "stream",
     "text": [
      "сыр: 350 гр\n",
      "томаты: 10 шт\n",
      "огурцы: 100 гр\n",
      "маслины: 50 гр\n",
      "оливковое масло: 100 мл\n",
      "салат: 50 гр\n",
      "перец: 100 гр\n",
      "колбаса: 150 гр\n",
      "бекон: 150 гр\n",
      "оливки: 50 гр\n",
      "томаты: 100 гр\n",
      "тесто: 500 гр\n",
      "лимон: 5 шт\n",
      "вода: 1000 мл\n",
      "сахар: 50 гр\n",
      "лайм: 100 гр\n"
     ]
    }
   ],
   "source": [
    "def get_shop_list(cook_book, persons):\n",
    "    '''\n",
    "    \n",
    "    '''\n",
    "    shop_list = {}\n",
    "\n",
    "    for dish in cook_book.values():\n",
    "        for ingredient in dish:\n",
    "            shop_dict_key = (ingredient['ingridient_name'], ingredient['measure'])\n",
    "            if shop_dict_key in shop_list:\n",
    "                shop_list[shop_dict_key] += ingredient['quantity'] * persons\n",
    "            else:\n",
    "                 shop_list[shop_dict_key] = ingredient['quantity'] * persons\n",
    "               \n",
    "    return shop_list\n",
    "\n",
    "\n",
    "def print_shop_list(shop_list):\n",
    "    for ingr, q in shop_list.items():\n",
    "        print(f\"{ingr[0]}: {q} {ingr[1]}\")\n",
    "        \n",
    "print_shop_list(get_shop_list(cook_book, 5))"
   ]
  },
  {
   "cell_type": "code",
   "execution_count": null,
   "id": "1d85fef5",
   "metadata": {},
   "outputs": [],
   "source": []
  },
  {
   "cell_type": "markdown",
   "id": "fc44b9d3",
   "metadata": {},
   "source": [
    "### Отсортируем словарь по значениям"
   ]
  },
  {
   "cell_type": "code",
   "execution_count": 6,
   "id": "9417d31b",
   "metadata": {},
   "outputs": [],
   "source": [
    "my_dict = {\n",
    "    'id1': 654321, \n",
    "    'id2': 123456, \n",
    "    'id3': 777777\n",
    "}"
   ]
  },
  {
   "cell_type": "code",
   "execution_count": 16,
   "id": "5cdadba7",
   "metadata": {},
   "outputs": [
    {
     "data": {
      "text/plain": [
       "dict_items([('id1', 654321), ('id2', 123456), ('id3', 777777)])"
      ]
     },
     "execution_count": 16,
     "metadata": {},
     "output_type": "execute_result"
    }
   ],
   "source": [
    "my_dict.items()"
   ]
  },
  {
   "cell_type": "code",
   "execution_count": 10,
   "id": "836e2f35",
   "metadata": {},
   "outputs": [
    {
     "data": {
      "text/plain": [
       "{'id2': 123456, 'id1': 654321, 'id3': 777777}"
      ]
     },
     "execution_count": 10,
     "metadata": {},
     "output_type": "execute_result"
    }
   ],
   "source": [
    "dict(sorted(my_dict.items(), key=lambda kv: kv[1]))"
   ]
  },
  {
   "cell_type": "code",
   "execution_count": 15,
   "id": "d9dc4a93",
   "metadata": {},
   "outputs": [
    {
     "data": {
      "text/plain": [
       "{'id2': 123456, 'id1': 654321, 'id3': 777777}"
      ]
     },
     "execution_count": 15,
     "metadata": {},
     "output_type": "execute_result"
    }
   ],
   "source": [
    "{key: my_dict[key] for key in sorted(my_dict, key=my_dict.get)}"
   ]
  },
  {
   "cell_type": "code",
   "execution_count": null,
   "id": "ce55f1ce",
   "metadata": {},
   "outputs": [],
   "source": []
  }
 ],
 "metadata": {
  "kernelspec": {
   "display_name": "Python 3",
   "language": "python",
   "name": "python3"
  },
  "language_info": {
   "codemirror_mode": {
    "name": "ipython",
    "version": 3
   },
   "file_extension": ".py",
   "mimetype": "text/x-python",
   "name": "python",
   "nbconvert_exporter": "python",
   "pygments_lexer": "ipython3",
   "version": "3.8.5"
  }
 },
 "nbformat": 4,
 "nbformat_minor": 5
}
