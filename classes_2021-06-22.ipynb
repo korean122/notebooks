{
 "cells": [
  {
   "cell_type": "code",
   "execution_count": 26,
   "metadata": {},
   "outputs": [],
   "source": [
    "class AnyName:\n",
    "    def __init__(self, currency_123='rub'):\n",
    "        self.currency = currency_123\n",
    "    \n",
    "    def method_1(self):\n",
    "        self.currency = 'eur'\n",
    "        self._abc = 123\n",
    "        self.__secret = 456\n",
    "        \n",
    "    def method_2(self):\n",
    "        print(self.currency)"
   ]
  },
  {
   "cell_type": "code",
   "execution_count": 27,
   "metadata": {
    "scrolled": true
   },
   "outputs": [
    {
     "data": {
      "text/plain": [
       "<__main__.AnyName at 0x7f81b099d070>"
      ]
     },
     "execution_count": 27,
     "metadata": {},
     "output_type": "execute_result"
    }
   ],
   "source": [
    "a = AnyName()\n",
    "a"
   ]
  },
  {
   "cell_type": "code",
   "execution_count": 28,
   "metadata": {},
   "outputs": [
    {
     "data": {
      "text/plain": [
       "'rub'"
      ]
     },
     "execution_count": 28,
     "metadata": {},
     "output_type": "execute_result"
    }
   ],
   "source": [
    "a.currency"
   ]
  },
  {
   "cell_type": "code",
   "execution_count": 22,
   "metadata": {},
   "outputs": [
    {
     "name": "stdout",
     "output_type": "stream",
     "text": [
      "\n"
     ]
    }
   ],
   "source": [
    "a.method_2()"
   ]
  },
  {
   "cell_type": "code",
   "execution_count": 14,
   "metadata": {},
   "outputs": [],
   "source": [
    "a.method_1()"
   ]
  },
  {
   "cell_type": "code",
   "execution_count": 15,
   "metadata": {},
   "outputs": [
    {
     "ename": "AttributeError",
     "evalue": "'AnyName' object has no attribute '__secret'",
     "output_type": "error",
     "traceback": [
      "\u001b[0;31m---------------------------------------------------------------------------\u001b[0m",
      "\u001b[0;31mAttributeError\u001b[0m                            Traceback (most recent call last)",
      "\u001b[0;32m<ipython-input-15-1274b3ebe29d>\u001b[0m in \u001b[0;36m<module>\u001b[0;34m\u001b[0m\n\u001b[0;32m----> 1\u001b[0;31m \u001b[0ma\u001b[0m\u001b[0;34m.\u001b[0m\u001b[0m__secret\u001b[0m\u001b[0;34m\u001b[0m\u001b[0;34m\u001b[0m\u001b[0m\n\u001b[0m",
      "\u001b[0;31mAttributeError\u001b[0m: 'AnyName' object has no attribute '__secret'"
     ]
    }
   ],
   "source": [
    "a.__secret"
   ]
  },
  {
   "cell_type": "code",
   "execution_count": 11,
   "metadata": {},
   "outputs": [
    {
     "data": {
      "text/plain": [
       "123"
      ]
     },
     "execution_count": 11,
     "metadata": {},
     "output_type": "execute_result"
    }
   ],
   "source": [
    "a._abc"
   ]
  },
  {
   "cell_type": "code",
   "execution_count": 5,
   "metadata": {},
   "outputs": [
    {
     "data": {
      "text/plain": [
       "'eur'"
      ]
     },
     "execution_count": 5,
     "metadata": {},
     "output_type": "execute_result"
    }
   ],
   "source": [
    "a.currency"
   ]
  },
  {
   "cell_type": "code",
   "execution_count": 6,
   "metadata": {},
   "outputs": [],
   "source": [
    "a.currency = 'rub'"
   ]
  },
  {
   "cell_type": "code",
   "execution_count": 7,
   "metadata": {},
   "outputs": [
    {
     "data": {
      "text/plain": [
       "'rub'"
      ]
     },
     "execution_count": 7,
     "metadata": {},
     "output_type": "execute_result"
    }
   ],
   "source": [
    "a.currency"
   ]
  },
  {
   "cell_type": "code",
   "execution_count": null,
   "metadata": {},
   "outputs": [],
   "source": [
    "number_of_rows = 100  # snake_case"
   ]
  },
  {
   "cell_type": "code",
   "execution_count": null,
   "metadata": {},
   "outputs": [],
   "source": [
    "NumberOfRows = 100  # CamelCase"
   ]
  },
  {
   "cell_type": "code",
   "execution_count": 33,
   "metadata": {},
   "outputs": [],
   "source": [
    "class ExampleClass:\n",
    "    def __init__(self, *args):\n",
    "        for i, num in enumerate(args):\n",
    "            print(i, num)"
   ]
  },
  {
   "cell_type": "code",
   "execution_count": 34,
   "metadata": {},
   "outputs": [
    {
     "name": "stdout",
     "output_type": "stream",
     "text": [
      "0 Москва\n",
      "1 Новороссийск\n",
      "2 Ухта\n"
     ]
    }
   ],
   "source": [
    "a = ExampleClass('Москва', 'Новороссийск', 'Ухта')"
   ]
  },
  {
   "cell_type": "code",
   "execution_count": 37,
   "metadata": {},
   "outputs": [],
   "source": [
    "import requests"
   ]
  },
  {
   "cell_type": "code",
   "execution_count": 35,
   "metadata": {},
   "outputs": [],
   "source": [
    "class ExampleClass:\n",
    "    def __init__(self, **kwargs):\n",
    "        print(kwargs)\n",
    "        \n",
    "        requests.get(URL, params=kwargs)"
   ]
  },
  {
   "cell_type": "code",
   "execution_count": 36,
   "metadata": {},
   "outputs": [
    {
     "name": "stdout",
     "output_type": "stream",
     "text": [
      "{'counter': 123, 'date_1': '2021-01-01', 'date_2': '2021-01-10', 'accuracy': 1.0}\n"
     ]
    }
   ],
   "source": [
    "a = ExampleClass(counter=123, date_1='2021-01-01', date_2='2021-01-10', accuracy=1.0)"
   ]
  },
  {
   "cell_type": "markdown",
   "metadata": {},
   "source": [
    "# Фабрика"
   ]
  },
  {
   "cell_type": "code",
   "execution_count": null,
   "metadata": {},
   "outputs": [],
   "source": [
    "def sql_request('select * from table ...'):\n",
    "    \n",
    "def calculate_metrics('вычислительная магия')\n",
    "\n",
    "def publish('report.csv')"
   ]
  },
  {
   "cell_type": "code",
   "execution_count": null,
   "metadata": {},
   "outputs": [],
   "source": [
    "class Fabrik:\n",
    "    def sql_request(self):\n",
    "        \n",
    "        \n",
    "    def calculate_metrics(self):\n",
    "        \n",
    "\n",
    "    def publish('внешняя система'):\n",
    "        # изменения\n",
    "        # атрибуты методов публикуются как столбцы таблиц"
   ]
  },
  {
   "cell_type": "code",
   "execution_count": null,
   "metadata": {},
   "outputs": [],
   "source": [
    "class TrafficReport(Fabrik):\n",
    "    def calculate_metrics(self):\n",
    "        self.traffic_source = 'вычисление'"
   ]
  },
  {
   "cell_type": "code",
   "execution_count": null,
   "metadata": {},
   "outputs": [],
   "source": [
    "class FinanceReport(Fabrik):\n",
    "    def calculate_metrics(self):\n",
    "        self.revenue = 'вычисление'\n",
    "        self.cost = 'вычисление'"
   ]
  },
  {
   "cell_type": "code",
   "execution_count": null,
   "metadata": {},
   "outputs": [],
   "source": [
    "class TrafficFinanceReport(Composition(TrafficReport, FinanceReport)):\n",
    "    self.traffic_source\n",
    "    self.revenue\n",
    "    self.cost"
   ]
  },
  {
   "cell_type": "code",
   "execution_count": null,
   "metadata": {},
   "outputs": [],
   "source": []
  },
  {
   "cell_type": "code",
   "execution_count": null,
   "metadata": {},
   "outputs": [],
   "source": []
  },
  {
   "cell_type": "markdown",
   "metadata": {},
   "source": [
    "# Требования к отчету\n",
    "(в хронологическом порядке)\n",
    "\n",
    "1. Нужен отчет по трафику (визиты по дням)\n",
    "2. Сделайте таблицу попроще\n",
    "3. А можно сразу очень много строк получить?\n",
    "\n",
    "[Демо-счетчик](https://metrika.yandex.ru/stat/traffic?sort=-ym%3As%3Avisits&period=2020-08-01%3A2020-09-06&accuracy=1&id=44147844&stateHash=5d3ee51607d6bde783131e11) Яндекс.Метрики\n"
   ]
  },
  {
   "cell_type": "code",
   "execution_count": 38,
   "metadata": {},
   "outputs": [],
   "source": [
    "import requests"
   ]
  },
  {
   "cell_type": "code",
   "execution_count": 39,
   "metadata": {},
   "outputs": [],
   "source": [
    "API_URL = 'https://api-metrika.yandex.ru/stat/v1/data'\n",
    "METRIKA_ROWS_LIMIT = 5\n",
    "\n",
    "DEMO_COUNTER = 44147844"
   ]
  },
  {
   "cell_type": "code",
   "execution_count": null,
   "metadata": {},
   "outputs": [],
   "source": [
    "token = 'AAAIQAA-32r8jwoefneajwe'"
   ]
  },
  {
   "cell_type": "code",
   "execution_count": 57,
   "metadata": {},
   "outputs": [],
   "source": [
    "class Metrika:\n",
    "    def __init__(self, token='', counter=DEMO_COUNTER, start_date='2020-09-01', end_date='2020-09-10'):\n",
    "        self.counter = counter\n",
    "        self.limit = METRIKA_ROWS_LIMIT\n",
    "        self.start_date = start_date\n",
    "        self.end_date = end_date\n",
    "        \n",
    "        if token:\n",
    "            self.headers = {'Authorization': 'OAuth ' + token}\n",
    "        else:\n",
    "            self.headers = ''  # для демо-счетчика заголовок запроса должен быть пустым\n",
    "        \n",
    "        self.dimensions = ''\n",
    "        self.metrics = ''\n",
    "        self.report = []\n",
    "        \n",
    "    def api_request(self, offset=1):\n",
    "        params = {\n",
    "            'id': self.counter,\n",
    "            'date1': self.start_date,\n",
    "            'date2': self.end_date,\n",
    "            'metrics': self.metrics,\n",
    "            'dimensions': self.dimensions,\n",
    "            'limit': self.limit,\n",
    "            'offset': offset,\n",
    "            'accuracy': 1,\n",
    "        }\n",
    "        \n",
    "        response = requests.get(API_URL, params=params, headers=self.headers)\n",
    "        return response.json()['data']\n",
    "    \n",
    "    def traffic(self):\n",
    "        self.metrics = 'ym:s:visits'\n",
    "        self.dimensions = 'ym:s:date'\n",
    "        \n",
    "        report = self.api_request()\n",
    "        self.report = report\n",
    "        return report\n",
    "    \n",
    "    def traffic_sources(self):\n",
    "        self.metrics = 'ym:s:visits'\n",
    "        self.dimensions = 'ym:s:date,ym:s:<attribution>TrafficSource'\n",
    "        \n",
    "        report = self.api_request()\n",
    "        self.report = report\n",
    "        return report\n",
    "    \n",
    "    def reformat_api_report(self):\n",
    "        reformatted_report = []\n",
    "\n",
    "        for line in self.report:\n",
    "            dimensions = [x['name'] for x in line['dimensions']]\n",
    "            reformatted_report.append(dimensions + line['metrics'])\n",
    "\n",
    "        self.report = reformatted_report\n",
    "        "
   ]
  },
  {
   "cell_type": "code",
   "execution_count": 58,
   "metadata": {},
   "outputs": [],
   "source": [
    "m = Metrika(start_date='2020-01-01', end_date='2021-01-10', counter=44147844)"
   ]
  },
  {
   "cell_type": "code",
   "execution_count": 59,
   "metadata": {
    "scrolled": false
   },
   "outputs": [
    {
     "data": {
      "text/plain": [
       "[{'dimensions': [{'name': '2020-01-20'}], 'metrics': [1678.0]},\n",
       " {'dimensions': [{'name': '2020-01-15'}], 'metrics': [1646.0]},\n",
       " {'dimensions': [{'name': '2020-01-14'}], 'metrics': [1643.0]},\n",
       " {'dimensions': [{'name': '2020-01-16'}], 'metrics': [1636.0]},\n",
       " {'dimensions': [{'name': '2020-01-21'}], 'metrics': [1615.0]}]"
      ]
     },
     "execution_count": 59,
     "metadata": {},
     "output_type": "execute_result"
    }
   ],
   "source": [
    "m.traffic()"
   ]
  },
  {
   "cell_type": "code",
   "execution_count": 61,
   "metadata": {},
   "outputs": [
    {
     "data": {
      "text/plain": [
       "[['2020-01-20', 1678.0],\n",
       " ['2020-01-15', 1646.0],\n",
       " ['2020-01-14', 1643.0],\n",
       " ['2020-01-16', 1636.0],\n",
       " ['2020-01-21', 1615.0]]"
      ]
     },
     "execution_count": 61,
     "metadata": {},
     "output_type": "execute_result"
    }
   ],
   "source": [
    "m.report"
   ]
  },
  {
   "cell_type": "code",
   "execution_count": 63,
   "metadata": {},
   "outputs": [],
   "source": [
    "m.reformat_api_report()"
   ]
  },
  {
   "cell_type": "code",
   "execution_count": 64,
   "metadata": {},
   "outputs": [
    {
     "data": {
      "text/plain": [
       "[['2020-01-02', 'Переходы по рекламе', 868.0],\n",
       " ['2020-01-01', 'Переходы по рекламе', 772.0],\n",
       " ['2020-01-12', 'Переходы по рекламе', 766.0],\n",
       " ['2020-01-06', 'Переходы по рекламе', 759.0],\n",
       " ['2020-01-15', 'Переходы по рекламе', 758.0]]"
      ]
     },
     "execution_count": 64,
     "metadata": {},
     "output_type": "execute_result"
    }
   ],
   "source": [
    "m.report"
   ]
  },
  {
   "cell_type": "code",
   "execution_count": 62,
   "metadata": {},
   "outputs": [
    {
     "data": {
      "text/plain": [
       "[{'dimensions': [{'name': '2020-01-02'},\n",
       "   {'icon_id': '3',\n",
       "    'icon_type': 'traffic-source',\n",
       "    'name': 'Переходы по рекламе',\n",
       "    'id': 'ad'}],\n",
       "  'metrics': [868.0]},\n",
       " {'dimensions': [{'name': '2020-01-01'},\n",
       "   {'icon_id': '3',\n",
       "    'icon_type': 'traffic-source',\n",
       "    'name': 'Переходы по рекламе',\n",
       "    'id': 'ad'}],\n",
       "  'metrics': [772.0]},\n",
       " {'dimensions': [{'name': '2020-01-12'},\n",
       "   {'icon_id': '3',\n",
       "    'icon_type': 'traffic-source',\n",
       "    'name': 'Переходы по рекламе',\n",
       "    'id': 'ad'}],\n",
       "  'metrics': [766.0]},\n",
       " {'dimensions': [{'name': '2020-01-06'},\n",
       "   {'icon_id': '3',\n",
       "    'icon_type': 'traffic-source',\n",
       "    'name': 'Переходы по рекламе',\n",
       "    'id': 'ad'}],\n",
       "  'metrics': [759.0]},\n",
       " {'dimensions': [{'name': '2020-01-15'},\n",
       "   {'icon_id': '3',\n",
       "    'icon_type': 'traffic-source',\n",
       "    'name': 'Переходы по рекламе',\n",
       "    'id': 'ad'}],\n",
       "  'metrics': [758.0]}]"
      ]
     },
     "execution_count": 62,
     "metadata": {},
     "output_type": "execute_result"
    }
   ],
   "source": [
    "m.traffic_sources()"
   ]
  },
  {
   "cell_type": "code",
   "execution_count": 48,
   "metadata": {},
   "outputs": [
    {
     "data": {
      "text/plain": [
       "[{'dimensions': [{'name': '2020-01-20'}], 'metrics': [1678.0]},\n",
       " {'dimensions': [{'name': '2020-01-15'}], 'metrics': [1646.0]},\n",
       " {'dimensions': [{'name': '2020-01-14'}], 'metrics': [1643.0]},\n",
       " {'dimensions': [{'name': '2020-01-16'}], 'metrics': [1636.0]},\n",
       " {'dimensions': [{'name': '2020-01-21'}], 'metrics': [1615.0]}]"
      ]
     },
     "execution_count": 48,
     "metadata": {},
     "output_type": "execute_result"
    }
   ],
   "source": [
    "m.report"
   ]
  },
  {
   "cell_type": "code",
   "execution_count": null,
   "metadata": {},
   "outputs": [],
   "source": []
  },
  {
   "cell_type": "code",
   "execution_count": null,
   "metadata": {},
   "outputs": [],
   "source": []
  }
 ],
 "metadata": {
  "kernelspec": {
   "display_name": "Python 3",
   "language": "python",
   "name": "python3"
  },
  "language_info": {
   "codemirror_mode": {
    "name": "ipython",
    "version": 3
   },
   "file_extension": ".py",
   "mimetype": "text/x-python",
   "name": "python",
   "nbconvert_exporter": "python",
   "pygments_lexer": "ipython3",
   "version": "3.8.5"
  }
 },
 "nbformat": 4,
 "nbformat_minor": 2
}
