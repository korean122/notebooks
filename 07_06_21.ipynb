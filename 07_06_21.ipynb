{
 "cells": [
  {
   "cell_type": "markdown",
   "metadata": {},
   "source": [
    "## Сделаем оглавление со ссылками"
   ]
  },
  {
   "cell_type": "markdown",
   "metadata": {},
   "source": [
    "## Оглавление\n",
    "  \n",
    "1. [Задача 1](#task1)  \n",
    "    1.1 [Основная часть](#task1_1)  \n",
    "    1.2 [Дополнительная часть](#task1_2)  \n",
    "2. [Задача 2](#task2)  "
   ]
  },
  {
   "cell_type": "markdown",
   "metadata": {},
   "source": [
    "### Как можно \"разгладить\" список"
   ]
  },
  {
   "cell_type": "code",
   "execution_count": 1,
   "metadata": {},
   "outputs": [],
   "source": [
    "my_list = [['Екатеринбург', 'Москва'], ['Санкт-Петербург', 'Норильск'], ['Пермь', 'Астрахань']]"
   ]
  },
  {
   "cell_type": "code",
   "execution_count": 10,
   "metadata": {},
   "outputs": [
    {
     "name": "stdout",
     "output_type": "stream",
     "text": [
      "['Екатеринбург', 'Москва', 'Санкт-Петербург', 'Норильск', 'Пермь', 'Астрахань']\n"
     ]
    }
   ],
   "source": [
    "work_list = [j for i in my_list for j in i]\n",
    "print(work_list)"
   ]
  },
  {
   "cell_type": "code",
   "execution_count": 6,
   "metadata": {},
   "outputs": [
    {
     "data": {
      "text/plain": [
       "['Екатеринбург', 'Москва', 'Санкт-Петербург', 'Норильск', 'Пермь', 'Астрахань']"
      ]
     },
     "execution_count": 6,
     "metadata": {},
     "output_type": "execute_result"
    }
   ],
   "source": [
    "res = list()\n",
    "for i in my_list:\n",
    "    for j in i:\n",
    "        res.append(j)\n",
    "res"
   ]
  },
  {
   "cell_type": "code",
   "execution_count": 7,
   "metadata": {},
   "outputs": [
    {
     "data": {
      "text/plain": [
       "['Екатеринбург', 'Москва', 'Санкт-Петербург', 'Норильск', 'Пермь', 'Астрахань']"
      ]
     },
     "execution_count": 7,
     "metadata": {},
     "output_type": "execute_result"
    }
   ],
   "source": [
    "res = list()\n",
    "for i in my_list:\n",
    "    res += i\n",
    "res"
   ]
  },
  {
   "cell_type": "code",
   "execution_count": 8,
   "metadata": {},
   "outputs": [
    {
     "name": "stdout",
     "output_type": "stream",
     "text": [
      "['Екатеринбург', 'Москва', 'Санкт-Петербург', 'Норильск', 'Пермь', 'Астрахань']\n"
     ]
    }
   ],
   "source": [
    "my_list_new = []\n",
    "for i in my_list:\n",
    "    for j in i:\n",
    "        my_list_new.append(j)\n",
    "print(my_list_new)"
   ]
  },
  {
   "cell_type": "code",
   "execution_count": 9,
   "metadata": {},
   "outputs": [
    {
     "data": {
      "text/plain": [
       "['Екатеринбург', 'Москва', 'Санкт-Петербург', 'Норильск', 'Пермь', 'Астрахань']"
      ]
     },
     "execution_count": 9,
     "metadata": {},
     "output_type": "execute_result"
    }
   ],
   "source": [
    "result = []\n",
    "for sub_list in my_list:\n",
    "    for item in sub_list:\n",
    "        result.append(item)\n",
    "result"
   ]
  },
  {
   "cell_type": "code",
   "execution_count": 16,
   "metadata": {},
   "outputs": [
    {
     "ename": "TypeError",
     "evalue": "unsupported operand type(s) for +: 'int' and 'list'",
     "output_type": "error",
     "traceback": [
      "\u001b[1;31m---------------------------------------------------------------------------\u001b[0m",
      "\u001b[1;31mTypeError\u001b[0m                                 Traceback (most recent call last)",
      "\u001b[1;32m<ipython-input-16-e65979991755>\u001b[0m in \u001b[0;36m<module>\u001b[1;34m\u001b[0m\n\u001b[1;32m----> 1\u001b[1;33m \u001b[0msum\u001b[0m\u001b[1;33m(\u001b[0m\u001b[0mmy_list\u001b[0m\u001b[1;33m)\u001b[0m\u001b[1;33m\u001b[0m\u001b[1;33m\u001b[0m\u001b[0m\n\u001b[0m",
      "\u001b[1;31mTypeError\u001b[0m: unsupported operand type(s) for +: 'int' and 'list'"
     ]
    }
   ],
   "source": [
    "sum(my_list)"
   ]
  },
  {
   "cell_type": "code",
   "execution_count": 18,
   "metadata": {},
   "outputs": [
    {
     "name": "stdout",
     "output_type": "stream",
     "text": [
      "10\n"
     ]
    }
   ],
   "source": [
    "some_list = [1, 2, 3, 4]\n",
    "i = 0\n",
    "for el in some_list:\n",
    "    i += el\n",
    "    \n",
    "print(i)"
   ]
  },
  {
   "cell_type": "code",
   "execution_count": 20,
   "metadata": {},
   "outputs": [
    {
     "data": {
      "text/plain": [
       "['Екатеринбург', 'Москва', 'Санкт-Петербург', 'Норильск', 'Пермь', 'Астрахань']"
      ]
     },
     "execution_count": 20,
     "metadata": {},
     "output_type": "execute_result"
    }
   ],
   "source": [
    "sum(my_list, [])"
   ]
  },
  {
   "cell_type": "markdown",
   "metadata": {},
   "source": [
    "### Изменение структуры во время итерации по ней \n",
    "\n",
    "Дан список с визитами по городам и странам. \n",
    "Напишем код, который возвращает отфильтрованный список geo_logs, содержащий только визиты из России.\n"
   ]
  },
  {
   "cell_type": "code",
   "execution_count": 28,
   "metadata": {},
   "outputs": [],
   "source": [
    "geo_logs = [\n",
    "    {'visit1': ['Москва', 'Россия']},\n",
    "    {'visit2': ['Дели', 'Индия']},\n",
    "    {'visit3': ['Владимир', 'Россия']},\n",
    "    {'visit4': ['Лиссабон', 'Португалия']},\n",
    "    {'visit5': ['Париж', 'Франция']},\n",
    "    {'visit7': ['Тула', 'Россия']},\n",
    "    {'visit9': ['Курск', 'Россия']},\n",
    "    {'visit10': ['Архангельск', 'Россия']}\n",
    "]"
   ]
  },
  {
   "cell_type": "code",
   "execution_count": 23,
   "metadata": {},
   "outputs": [
    {
     "data": {
      "text/plain": [
       "[{'visit1': ['Москва', 'Россия']},\n",
       " {'visit3': ['Владимир', 'Россия']},\n",
       " {'visit5': ['Париж', 'Франция']},\n",
       " {'visit7': ['Тула', 'Россия']},\n",
       " {'visit9': ['Курск', 'Россия']},\n",
       " {'visit10': ['Архангельск', 'Россия']}]"
      ]
     },
     "execution_count": 23,
     "metadata": {},
     "output_type": "execute_result"
    }
   ],
   "source": [
    "for log in geo_logs:\n",
    "    for i in log.values():\n",
    "        if i[1] != 'Россия':\n",
    "            geo_logs.remove(log)\n",
    "            \n",
    "geo_logs\n",
    "        "
   ]
  },
  {
   "cell_type": "code",
   "execution_count": 24,
   "metadata": {},
   "outputs": [
    {
     "data": {
      "text/plain": [
       "[{'visit1': ['Москва', 'Россия']},\n",
       " {'visit3': ['Владимир', 'Россия']},\n",
       " {'visit7': ['Тула', 'Россия']},\n",
       " {'visit9': ['Курск', 'Россия']},\n",
       " {'visit10': ['Архангельск', 'Россия']}]"
      ]
     },
     "execution_count": 24,
     "metadata": {},
     "output_type": "execute_result"
    }
   ],
   "source": [
    "result = []\n",
    "\n",
    "for log in geo_logs:\n",
    "    if list(log.values())[0][1] == 'Россия':\n",
    "        result.append(log)\n",
    "        \n",
    "result"
   ]
  },
  {
   "cell_type": "code",
   "execution_count": 25,
   "metadata": {},
   "outputs": [
    {
     "data": {
      "text/plain": [
       "[{'visit1': ['Москва', 'Россия']},\n",
       " {'visit3': ['Владимир', 'Россия']},\n",
       " {'visit7': ['Тула', 'Россия']},\n",
       " {'visit9': ['Курск', 'Россия']},\n",
       " {'visit10': ['Архангельск', 'Россия']}]"
      ]
     },
     "execution_count": 25,
     "metadata": {},
     "output_type": "execute_result"
    }
   ],
   "source": [
    "geo_logs_copy = geo_logs.copy()\n",
    "\n",
    "for log in geo_logs_copy:\n",
    "    if list(log.values())[0][1] != 'Россия':\n",
    "        geo_logs.remove(log)\n",
    "        \n",
    "geo_logs"
   ]
  },
  {
   "cell_type": "code",
   "execution_count": 29,
   "metadata": {},
   "outputs": [
    {
     "name": "stdout",
     "output_type": "stream",
     "text": [
      "[{'visit1': ['Москва', 'Россия']}, {'visit2': ['Дели', 'Индия']}, {'visit3': ['Владимир', 'Россия']}, {'visit4': ['Лиссабон', 'Португалия']}, {'visit5': ['Париж', 'Франция']}, {'visit7': ['Тула', 'Россия']}, {'visit9': ['Курск', 'Россия']}, {'visit10': ['Архангельск', 'Россия']}]\n"
     ]
    }
   ],
   "source": [
    "geo_logs = list(filter(lambda log: list(log.values())[0][1] == 'Россия', geo_logs))\n",
    "\n",
    "# print(geo_logs)"
   ]
  },
  {
   "cell_type": "markdown",
   "metadata": {},
   "source": [
    "### Задача с парами из ДЗ"
   ]
  },
  {
   "cell_type": "code",
   "execution_count": 30,
   "metadata": {},
   "outputs": [],
   "source": [
    "boys = ['Peter', 'Alex', 'John', 'Arthur', 'Richard']\n",
    "girls = ['Kate', 'Liza', 'Kira', 'Emma', 'Trisha']"
   ]
  },
  {
   "cell_type": "code",
   "execution_count": 32,
   "metadata": {},
   "outputs": [
    {
     "name": "stdout",
     "output_type": "stream",
     "text": [
      "Alex и Emma\n",
      "Arthur и Kate\n",
      "John и Kira\n",
      "Peter и Liza\n",
      "Richard и Trisha\n"
     ]
    }
   ],
   "source": [
    "for pair in zip(sorted(boys), sorted(girls)):\n",
    "    print(f'{pair[0]} и {pair[1]}')"
   ]
  },
  {
   "cell_type": "code",
   "execution_count": 33,
   "metadata": {},
   "outputs": [
    {
     "name": "stdout",
     "output_type": "stream",
     "text": [
      "Alex и Emma\n",
      "Arthur и Kate\n",
      "John и Kira\n",
      "Peter и Liza\n",
      "Richard и Trisha\n"
     ]
    }
   ],
   "source": [
    "for b, g in zip(sorted(boys), sorted(girls)):\n",
    "    print(f'{b} и {g}')"
   ]
  },
  {
   "cell_type": "markdown",
   "metadata": {},
   "source": [
    "### Задача по пользовательским просмотрам"
   ]
  },
  {
   "cell_type": "code",
   "execution_count": 34,
   "metadata": {},
   "outputs": [],
   "source": [
    "stream = [\n",
    "    '2018-01-01,user1,3',\n",
    "    '2018-01-07,user1,4',\n",
    "    '2018-03-29,user1,1',\n",
    "    '2018-04-04,user1,13',\n",
    "    '2018-01-05,user2,7',\n",
    "    '2018-06-14,user3,4',\n",
    "    '2018-07-02,user3,10',\n",
    "    '2018-03-21,user4,19',\n",
    "    '2018-03-22,user4,4',\n",
    "    '2018-04-22,user4,8',\n",
    "    '2018-05-03,user4,9',\n",
    "    '2018-05-11,user4,11',\n",
    "]"
   ]
  },
  {
   "cell_type": "code",
   "execution_count": 36,
   "metadata": {},
   "outputs": [
    {
     "name": "stdout",
     "output_type": "stream",
     "text": [
      "['2018-01-01', 'user1', '3']\n",
      "['2018-01-07', 'user1', '4']\n",
      "['2018-03-29', 'user1', '1']\n",
      "['2018-04-04', 'user1', '13']\n",
      "['2018-01-05', 'user2', '7']\n",
      "['2018-06-14', 'user3', '4']\n",
      "['2018-07-02', 'user3', '10']\n",
      "['2018-03-21', 'user4', '19']\n",
      "['2018-03-22', 'user4', '4']\n",
      "['2018-04-22', 'user4', '8']\n",
      "['2018-05-03', 'user4', '9']\n",
      "['2018-05-11', 'user4', '11']\n"
     ]
    }
   ],
   "source": [
    "for el in stream:\n",
    "    print(el.split(','))"
   ]
  },
  {
   "cell_type": "markdown",
   "metadata": {},
   "source": [
    "### Повторяющиеся числа из ДЗ"
   ]
  },
  {
   "cell_type": "code",
   "execution_count": 50,
   "metadata": {},
   "outputs": [
    {
     "name": "stdout",
     "output_type": "stream",
     "text": [
      "4 5\n"
     ]
    }
   ],
   "source": [
    "# numbers = input('введите числа через пробел: ').split()\n",
    "numbers = ['5', '5', '5', '5', '4', '4', '4', '2', '1'] \n",
    "result = []\n",
    "for a in numbers:\n",
    "    if int(a) not in result and numbers.count(a) >= 2:\n",
    "        result.append(int(a))\n",
    "\n",
    "print(' '.join(list(map(str, sorted(result)))))"
   ]
  },
  {
   "cell_type": "markdown",
   "metadata": {},
   "source": [
    "### Задача 1 из 1 ДЗ\n",
    "<a id='task1'></a>"
   ]
  },
  {
   "cell_type": "code",
   "execution_count": 51,
   "metadata": {},
   "outputs": [],
   "source": [
    "str1 = 'Насколько проще было бы писать программы, если бы не заказчики'\n",
    "str2 = '640Кб должно хватить для любых задач. Билл Гейтс (по легенде)'"
   ]
  },
  {
   "cell_type": "code",
   "execution_count": 55,
   "metadata": {},
   "outputs": [
    {
     "name": "stdout",
     "output_type": "stream",
     "text": [
      "...\n"
     ]
    }
   ],
   "source": [
    "if len(str1) > len(str2):\n",
    "    print('...')\n",
    "else:\n",
    "    pass"
   ]
  },
  {
   "cell_type": "code",
   "execution_count": 56,
   "metadata": {},
   "outputs": [],
   "source": [
    "str_len = len(str1)\n",
    "str_len_2 = len(str2)\n",
    "\n",
    "if str_len > str_len_2:\n",
    "    pass"
   ]
  },
  {
   "cell_type": "code",
   "execution_count": null,
   "metadata": {},
   "outputs": [],
   "source": []
  },
  {
   "cell_type": "markdown",
   "metadata": {},
   "source": [
    "### Практика. Удалим из словаря все пустые элементы (со значением None)"
   ]
  },
  {
   "cell_type": "code",
   "execution_count": 62,
   "metadata": {},
   "outputs": [],
   "source": [
    "my_dict = {\n",
    "    'id1': 123456, \n",
    "    'id2': 654321, \n",
    "    'id3': None,\n",
    "    'id4': 777777\n",
    "}"
   ]
  },
  {
   "cell_type": "code",
   "execution_count": 59,
   "metadata": {},
   "outputs": [
    {
     "data": {
      "text/plain": [
       "{'id1': 123456, 'id2': 654321, 'id4': 777777}"
      ]
     },
     "execution_count": 59,
     "metadata": {},
     "output_type": "execute_result"
    }
   ],
   "source": [
    "res = {i: j for i, j in my_dict.items() if j is not None}\n",
    "res"
   ]
  },
  {
   "cell_type": "code",
   "execution_count": 63,
   "metadata": {},
   "outputs": [
    {
     "data": {
      "text/plain": [
       "{'id1': 123456, 'id2': 654321, 'id4': 777777}"
      ]
     },
     "execution_count": 63,
     "metadata": {},
     "output_type": "execute_result"
    }
   ],
   "source": [
    "my_dict = {key:val for key, val in my_dict.items() if val}\n",
    "my_dict"
   ]
  },
  {
   "cell_type": "code",
   "execution_count": null,
   "metadata": {},
   "outputs": [],
   "source": []
  },
  {
   "cell_type": "markdown",
   "metadata": {},
   "source": [
    "### Практика. Посчитаем сумму элементов по главной диагонали в квадратной матрице"
   ]
  },
  {
   "cell_type": "code",
   "execution_count": 72,
   "metadata": {},
   "outputs": [],
   "source": [
    "data = [\n",
    "    [13, 25, 23, 34],\n",
    "    [45, 32, 44, 47],\n",
    "    [12, 33, 23, 95],\n",
    "    [13, 53, 34, 35]\n",
    "]"
   ]
  },
  {
   "cell_type": "code",
   "execution_count": 66,
   "metadata": {},
   "outputs": [
    {
     "data": {
      "text/plain": [
       "103"
      ]
     },
     "execution_count": 66,
     "metadata": {},
     "output_type": "execute_result"
    }
   ],
   "source": [
    "i = 0\n",
    "summ = 0\n",
    "for row in data:\n",
    "#     print(el)\n",
    "    summ += row[i]\n",
    "    i += 1\n",
    "    \n",
    "summ"
   ]
  },
  {
   "cell_type": "code",
   "execution_count": 70,
   "metadata": {},
   "outputs": [
    {
     "data": {
      "text/plain": [
       "[(0, [13, 25, 23, 34]),\n",
       " (1, [45, 32, 44, 47]),\n",
       " (2, [12, 33, 23, 95]),\n",
       " (3, [13, 53, 34, 35])]"
      ]
     },
     "execution_count": 70,
     "metadata": {},
     "output_type": "execute_result"
    }
   ],
   "source": [
    "list(enumerate(data))"
   ]
  },
  {
   "cell_type": "code",
   "execution_count": 71,
   "metadata": {},
   "outputs": [
    {
     "data": {
      "text/plain": [
       "103"
      ]
     },
     "execution_count": 71,
     "metadata": {},
     "output_type": "execute_result"
    }
   ],
   "source": [
    "sum([row[i] for i, row in enumerate(data)])"
   ]
  },
  {
   "cell_type": "code",
   "execution_count": 75,
   "metadata": {},
   "outputs": [
    {
     "data": {
      "text/plain": [
       "124"
      ]
     },
     "execution_count": 75,
     "metadata": {},
     "output_type": "execute_result"
    }
   ],
   "source": [
    "# посчитаем обратную диагональ\n",
    "sum([row[-i-1] for i, row in enumerate(data)])"
   ]
  },
  {
   "cell_type": "code",
   "execution_count": 77,
   "metadata": {},
   "outputs": [
    {
     "data": {
      "text/plain": [
       "124"
      ]
     },
     "execution_count": 77,
     "metadata": {},
     "output_type": "execute_result"
    }
   ],
   "source": [
    "sum([row[-1-i] for i, row in enumerate(data)])"
   ]
  },
  {
   "cell_type": "markdown",
   "metadata": {},
   "source": [
    "### Практика. Посчитаем сколько раз каждое слово встречалось в тексте \n",
    "Вывести в формате: \"слово\": \"количество вхождений\"\n",
    "\n",
    "За разделитель считаем пробел, все слова приводим к нижнему регистру"
   ]
  },
  {
   "cell_type": "code",
   "execution_count": 79,
   "metadata": {},
   "outputs": [],
   "source": [
    "some_oxy_text = '''\n",
    "Весь мой рэп, если коротко, про то, что\n",
    "Уж который год который город под подошвой\n",
    "В гору, когда прет. Потом под гору, когда тошно\n",
    "Я не то, что Гулливер, но все же город под подошвой\n",
    "Город под подошвой, город под подошвой\n",
    "Светофоры, госпошлины, сборы и таможни\n",
    "Я не знаю, вброд или на дно эта дорожка\n",
    "Ты живешь под каблуком, у меня - город под подошвой\n",
    "'''"
   ]
  },
  {
   "cell_type": "code",
   "execution_count": 86,
   "metadata": {},
   "outputs": [
    {
     "name": "stdout",
     "output_type": "stream",
     "text": [
      "весь: 1\n",
      "мой: 1\n",
      "рэп: 1\n",
      "если: 1\n",
      "коротко: 1\n",
      "про: 1\n",
      "то: 2\n",
      "что: 2\n",
      "уж: 1\n",
      "который: 2\n",
      "год: 1\n",
      "город: 5\n",
      "под: 7\n",
      "подошвой: 5\n",
      "в: 1\n",
      "гору: 2\n",
      "когда: 2\n",
      "прет.: 1\n",
      "потом: 1\n",
      "тошно: 1\n",
      "я: 2\n",
      "не: 2\n",
      "гулливер: 1\n",
      "но: 1\n",
      "все: 1\n",
      "же: 1\n",
      "светофоры: 1\n",
      "госпошлины: 1\n",
      "сборы: 1\n",
      "и: 1\n",
      "таможни: 1\n",
      "знаю: 1\n",
      "вброд: 1\n",
      "или: 1\n",
      "на: 1\n",
      "дно: 1\n",
      "эта: 1\n",
      "дорожка: 1\n",
      "ты: 1\n",
      "живешь: 1\n",
      "каблуком: 1\n",
      "у: 1\n",
      "меня: 1\n"
     ]
    }
   ],
   "source": [
    "res = {}\n",
    "\n",
    "\n",
    "for word in some_oxy_text.lower().replace(',', '').replace('\\n', ' ').replace('-', '').split():\n",
    "#     print(word)\n",
    "    if word in res:\n",
    "        res[word] += 1\n",
    "    else:\n",
    "        res[word] = 1\n",
    "for word, count in res.items():\n",
    "    print(f'{word}: {count}')"
   ]
  },
  {
   "cell_type": "code",
   "execution_count": 88,
   "metadata": {},
   "outputs": [
    {
     "name": "stdout",
     "output_type": "stream",
     "text": [
      "то 2\n",
      "который 2\n",
      "знаю 1\n",
      "на 1\n",
      "же 1\n",
      "мой 1\n",
      "дно 1\n",
      "все 1\n",
      "тошно 1\n",
      "и 1\n",
      "вброд 1\n",
      "каблуком 1\n",
      "рэп 1\n",
      "прет. 1\n",
      "город 5\n",
      "в 1\n",
      "потом 1\n",
      "госпошлины 1\n",
      "но 1\n",
      "у 1\n",
      "если 1\n",
      "гулливер 1\n",
      "весь 1\n",
      "ты 1\n",
      "живешь 1\n",
      "про 1\n",
      "уж 1\n",
      "сборы 1\n",
      "я 2\n",
      "что 2\n",
      "или 1\n",
      "эта 1\n",
      "дорожка 1\n",
      "под 7\n",
      "год 1\n",
      "меня 1\n",
      "подошвой 5\n",
      "коротко 1\n",
      "светофоры 1\n",
      "не 2\n",
      "таможни 1\n",
      "гору 2\n",
      "когда 2\n"
     ]
    }
   ],
   "source": [
    "splitted_text = some_oxy_text.lower().replace(',', '').replace('\\n', ' ').replace('-', '').split()\n",
    "for word in set(splitted_text):\n",
    "    print(word, splitted_text.count(word))"
   ]
  },
  {
   "cell_type": "markdown",
   "metadata": {},
   "source": [
    "### Задача 1.2\n",
    "<a id='task1_2'></a>"
   ]
  },
  {
   "cell_type": "code",
   "execution_count": null,
   "metadata": {},
   "outputs": [],
   "source": []
  }
 ],
 "metadata": {
  "kernelspec": {
   "display_name": "Python 3",
   "language": "python",
   "name": "python3"
  },
  "language_info": {
   "codemirror_mode": {
    "name": "ipython",
    "version": 3
   },
   "file_extension": ".py",
   "mimetype": "text/x-python",
   "name": "python",
   "nbconvert_exporter": "python",
   "pygments_lexer": "ipython3",
   "version": "3.8.5"
  }
 },
 "nbformat": 4,
 "nbformat_minor": 4
}
