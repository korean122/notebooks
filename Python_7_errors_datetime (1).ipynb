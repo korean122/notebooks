{
  "nbformat": 4,
  "nbformat_minor": 0,
  "metadata": {
    "kernelspec": {
      "display_name": "Python 3",
      "language": "python",
      "name": "python3"
    },
    "language_info": {
      "codemirror_mode": {
        "name": "ipython",
        "version": 3
      },
      "file_extension": ".py",
      "mimetype": "text/x-python",
      "name": "python",
      "nbconvert_exporter": "python",
      "pygments_lexer": "ipython3",
      "version": "3.7.0"
    },
    "colab": {
      "name": "Python_7_errors_datetime.ipynb",
      "provenance": []
    }
  },
  "cells": [
    {
      "cell_type": "markdown",
      "metadata": {
        "id": "U38-yngRZihS"
      },
      "source": [
        "# Обработка ошибок\n",
        "1. Текст ошибки указывается в последней строчке\n",
        "2. Все что перед ней - место, где ошибка произошла\n",
        "3. Есть встроенные типы ошибок, но можно создавать и свои"
      ]
    },
    {
      "cell_type": "markdown",
      "metadata": {
        "id": "u3tieqpkZihU"
      },
      "source": [
        "Некоторые типы ошибок из документации (точнее [перевода](https://pythonworld.ru/tipy-dannyx-v-python/isklyucheniya-v-python-konstrukciya-try-except-dlya-obrabotki-isklyuchenij.html)):\n",
        "- ZeroDivisionError - деление на ноль\n",
        "- ImportError - не удалось импортирование модуля или его атрибута (надо установить эту библиотеку)\n",
        "- IndexError - индекс не входит в диапазон элементов.\n",
        "- KeyError - несуществующий ключ (в словаре, множестве или другом объекте)\n",
        "- MemoryError - недостаточно памяти\n",
        "- SyntaxError - синтаксическая ошибка (вы опечатались или не закрыли скобку)\n",
        "- TypeError - операция применена к объекту несоответствующего типа\n",
        "- ValueError - функция получает аргумент правильного типа, но некорректного значения\n",
        "- Warning - предупреждение (текст на красном фоне в юпитере это предупреждение, а не ошибка)"
      ]
    },
    {
      "cell_type": "code",
      "metadata": {
        "id": "sjvzZSnnZihW"
      },
      "source": [
        "# эту строку можно перевести в число\n",
        "some_num = '123'"
      ],
      "execution_count": null,
      "outputs": []
    },
    {
      "cell_type": "code",
      "metadata": {
        "id": "QM1OMLfjZihX",
        "outputId": "2ac83538-ea2d-4067-c29b-0b33443f69c8"
      },
      "source": [
        "float(some_num)"
      ],
      "execution_count": null,
      "outputs": [
        {
          "output_type": "execute_result",
          "data": {
            "text/plain": [
              "123.0"
            ]
          },
          "metadata": {
            "tags": []
          },
          "execution_count": 2
        }
      ]
    },
    {
      "cell_type": "code",
      "metadata": {
        "id": "yy2z24gqZihY"
      },
      "source": [
        "# а эту уже нет (по крайней мере в десятичном счислении)\n",
        "ups = '123a'"
      ],
      "execution_count": null,
      "outputs": []
    },
    {
      "cell_type": "code",
      "metadata": {
        "scrolled": true,
        "id": "rl8O1N0WZihZ",
        "outputId": "28ca32fb-efd2-4b93-f9a4-83a99ff72c4c"
      },
      "source": [
        "# ValueError - тип ошибки, далее пояснение что произошло\n",
        "# ----> 1 float(ups) - в каком месте кода произошла ошибка\n",
        "float(ups)"
      ],
      "execution_count": null,
      "outputs": [
        {
          "output_type": "error",
          "ename": "ValueError",
          "evalue": "could not convert string to float: '123a'",
          "traceback": [
            "\u001b[0;31m---------------------------------------------------------------------------\u001b[0m",
            "\u001b[0;31mValueError\u001b[0m                                Traceback (most recent call last)",
            "\u001b[0;32m<ipython-input-4-b5e45a6d52d0>\u001b[0m in \u001b[0;36m<module>\u001b[0;34m\u001b[0m\n\u001b[1;32m      1\u001b[0m \u001b[0;31m# ValueError - тип ошибки, далее пояснение что произошло\u001b[0m\u001b[0;34m\u001b[0m\u001b[0;34m\u001b[0m\u001b[0m\n\u001b[1;32m      2\u001b[0m \u001b[0;31m# ----> 1 float(ups) - в каком месте кода произошла ошибка\u001b[0m\u001b[0;34m\u001b[0m\u001b[0;34m\u001b[0m\u001b[0m\n\u001b[0;32m----> 3\u001b[0;31m \u001b[0mfloat\u001b[0m\u001b[0;34m(\u001b[0m\u001b[0mups\u001b[0m\u001b[0;34m)\u001b[0m\u001b[0;34m\u001b[0m\u001b[0m\n\u001b[0m",
            "\u001b[0;31mValueError\u001b[0m: could not convert string to float: '123a'"
          ]
        }
      ]
    },
    {
      "cell_type": "markdown",
      "metadata": {
        "id": "Cfsc_EhZZiha"
      },
      "source": [
        "Пример ошибки внутри функции"
      ]
    },
    {
      "cell_type": "code",
      "metadata": {
        "id": "jxWXlu1rZihb"
      },
      "source": [
        "def square_sum(*args):\n",
        "    total_sum = 0\n",
        "    for arg in args:\n",
        "        print(arg)\n",
        "        total_sum += arg**2\n",
        "    \n",
        "    return total_sum"
      ],
      "execution_count": null,
      "outputs": []
    },
    {
      "cell_type": "code",
      "metadata": {
        "id": "aWiVPmZTZihc",
        "outputId": "8667c61e-ed0b-48c0-873a-491643b3112e"
      },
      "source": [
        "square_sum(1, 2, 3)"
      ],
      "execution_count": null,
      "outputs": [
        {
          "output_type": "execute_result",
          "data": {
            "text/plain": [
              "14"
            ]
          },
          "metadata": {
            "tags": []
          },
          "execution_count": 6
        }
      ]
    },
    {
      "cell_type": "code",
      "metadata": {
        "id": "2C4CD205Zihd",
        "outputId": "89e8e398-5164-4888-ffbb-488c857eb8c6"
      },
      "source": [
        "# пытаемся применить к операцию возведения в квадрат к строке\n",
        "# ----> 1 square_sum(1, 2, '3') - в какой функции произошла ошибка\n",
        "# ----> 4         total_sum += arg**2 - в какой именно строке произошла ошибка\n",
        "\n",
        "square_sum(1, 2, '3')"
      ],
      "execution_count": null,
      "outputs": [
        {
          "output_type": "stream",
          "text": [
            "1\n",
            "2\n",
            "3\n"
          ],
          "name": "stdout"
        },
        {
          "output_type": "error",
          "ename": "TypeError",
          "evalue": "unsupported operand type(s) for ** or pow(): 'str' and 'int'",
          "traceback": [
            "\u001b[0;31m---------------------------------------------------------------------------\u001b[0m",
            "\u001b[0;31mTypeError\u001b[0m                                 Traceback (most recent call last)",
            "\u001b[0;32m<ipython-input-9-7189647907b6>\u001b[0m in \u001b[0;36m<module>\u001b[0;34m\u001b[0m\n\u001b[1;32m      3\u001b[0m \u001b[0;31m# ----> 4         total_sum += arg**2 - в какой именно строке произошла ошибка\u001b[0m\u001b[0;34m\u001b[0m\u001b[0;34m\u001b[0m\u001b[0m\n\u001b[1;32m      4\u001b[0m \u001b[0;34m\u001b[0m\u001b[0m\n\u001b[0;32m----> 5\u001b[0;31m \u001b[0msquare_sum\u001b[0m\u001b[0;34m(\u001b[0m\u001b[0;36m1\u001b[0m\u001b[0;34m,\u001b[0m \u001b[0;36m2\u001b[0m\u001b[0;34m,\u001b[0m \u001b[0;34m'3'\u001b[0m\u001b[0;34m)\u001b[0m\u001b[0;34m\u001b[0m\u001b[0m\n\u001b[0m",
            "\u001b[0;32m<ipython-input-8-0f60c0b38293>\u001b[0m in \u001b[0;36msquare_sum\u001b[0;34m(*args)\u001b[0m\n\u001b[1;32m      3\u001b[0m     \u001b[0;32mfor\u001b[0m \u001b[0marg\u001b[0m \u001b[0;32min\u001b[0m \u001b[0margs\u001b[0m\u001b[0;34m:\u001b[0m\u001b[0;34m\u001b[0m\u001b[0m\n\u001b[1;32m      4\u001b[0m         \u001b[0mprint\u001b[0m\u001b[0;34m(\u001b[0m\u001b[0marg\u001b[0m\u001b[0;34m)\u001b[0m\u001b[0;34m\u001b[0m\u001b[0m\n\u001b[0;32m----> 5\u001b[0;31m         \u001b[0mtotal_sum\u001b[0m \u001b[0;34m+=\u001b[0m \u001b[0marg\u001b[0m\u001b[0;34m**\u001b[0m\u001b[0;36m2\u001b[0m\u001b[0;34m\u001b[0m\u001b[0m\n\u001b[0m\u001b[1;32m      6\u001b[0m \u001b[0;34m\u001b[0m\u001b[0m\n\u001b[1;32m      7\u001b[0m     \u001b[0;32mreturn\u001b[0m \u001b[0mtotal_sum\u001b[0m\u001b[0;34m\u001b[0m\u001b[0m\n",
            "\u001b[0;31mTypeError\u001b[0m: unsupported operand type(s) for ** or pow(): 'str' and 'int'"
          ]
        }
      ]
    },
    {
      "cell_type": "markdown",
      "metadata": {
        "id": "uHF9P4v3Zihd"
      },
      "source": [
        "## Как сделать, чтобы цикл с расчетом не падал каждый раз"
      ]
    },
    {
      "cell_type": "code",
      "metadata": {
        "id": "5nWvAqL5Zihe",
        "outputId": "922d6cce-357b-4f9b-8c13-c882cdc8c04f"
      },
      "source": [
        "try:\n",
        "    # ваш код, где может произойти ошибка\n",
        "    float('123a')\n",
        "\n",
        "except:\n",
        "    # код, который выполняется в случае ошибки\n",
        "    print('Кривая строка')\n",
        "    pass"
      ],
      "execution_count": null,
      "outputs": [
        {
          "output_type": "stream",
          "text": [
            "Кривая строка\n"
          ],
          "name": "stdout"
        }
      ]
    },
    {
      "cell_type": "code",
      "metadata": {
        "id": "TOoelgeEZihe",
        "outputId": "3f1fe8a1-a24e-4750-845d-e4fdeb615088"
      },
      "source": [
        "data = ['90', '60', '90', '240tot']\n",
        "total_sum = 0\n",
        "\n",
        "for num in data:\n",
        "    try:\n",
        "        total_sum += float(num)\n",
        "\n",
        "    except:\n",
        "        print('Ошибка в данных: {}'.format(num))\n",
        "    \n",
        "print('Итого', total_sum)"
      ],
      "execution_count": null,
      "outputs": [
        {
          "output_type": "stream",
          "text": [
            "Ошибка в данных: 240tot\n",
            "Итого 240.0\n"
          ],
          "name": "stdout"
        }
      ]
    },
    {
      "cell_type": "markdown",
      "metadata": {
        "id": "kFupxRM2Zihf"
      },
      "source": [
        "Как сохранить всю информацию об ошибке?"
      ]
    },
    {
      "cell_type": "code",
      "metadata": {
        "scrolled": true,
        "id": "kzE6F7w5Zihf",
        "outputId": "457d4685-ff9e-480c-d9e2-10b1a49281ec"
      },
      "source": [
        "# полная версия traceback\n",
        "import traceback\n",
        "\n",
        "try:\n",
        "    float('123fff')\n",
        "\n",
        "except Exception:\n",
        "    print(traceback.print_exc())\n",
        "    \n",
        "print('Проехали')"
      ],
      "execution_count": null,
      "outputs": [
        {
          "output_type": "stream",
          "text": [
            "None\n",
            "Проехали\n"
          ],
          "name": "stdout"
        },
        {
          "output_type": "stream",
          "text": [
            "Traceback (most recent call last):\n",
            "  File \"<ipython-input-12-aec2760d579a>\", line 5, in <module>\n",
            "    float('123fff')\n",
            "ValueError: could not convert string to float: '123fff'\n"
          ],
          "name": "stderr"
        }
      ]
    },
    {
      "cell_type": "markdown",
      "metadata": {
        "id": "NWObaPW4Zihg"
      },
      "source": [
        "### Блок finally"
      ]
    },
    {
      "cell_type": "code",
      "metadata": {
        "id": "kDyZP2_MZihg",
        "outputId": "a6e2c3ce-15c9-46bd-f60c-8929c7faff33"
      },
      "source": [
        "try:\n",
        "    print(stats[\"wednesday\"])\n",
        "    \n",
        "except IndexError:\n",
        "    print(\"Ошибка индекса\")\n",
        "    \n",
        "except KeyError:\n",
        "    print(\"Ошибка ключа\")\n",
        "    print(1/0)\n",
        "    \n",
        "finally:\n",
        "    print('Эта строчка будет выполнена всегда')"
      ],
      "execution_count": null,
      "outputs": [
        {
          "output_type": "stream",
          "text": [
            "Эта строчка будет выполнена всегда\n"
          ],
          "name": "stdout"
        },
        {
          "output_type": "error",
          "ename": "NameError",
          "evalue": "name 'stats' is not defined",
          "traceback": [
            "\u001b[0;31m---------------------------------------------------------------------------\u001b[0m",
            "\u001b[0;31mNameError\u001b[0m                                 Traceback (most recent call last)",
            "\u001b[0;32m<ipython-input-13-f6fe70bb823a>\u001b[0m in \u001b[0;36m<module>\u001b[0;34m\u001b[0m\n\u001b[1;32m      1\u001b[0m \u001b[0;32mtry\u001b[0m\u001b[0;34m:\u001b[0m\u001b[0;34m\u001b[0m\u001b[0m\n\u001b[0;32m----> 2\u001b[0;31m     \u001b[0mprint\u001b[0m\u001b[0;34m(\u001b[0m\u001b[0mstats\u001b[0m\u001b[0;34m[\u001b[0m\u001b[0;34m\"wednesday\"\u001b[0m\u001b[0;34m]\u001b[0m\u001b[0;34m)\u001b[0m\u001b[0;34m\u001b[0m\u001b[0m\n\u001b[0m\u001b[1;32m      3\u001b[0m \u001b[0;34m\u001b[0m\u001b[0m\n\u001b[1;32m      4\u001b[0m \u001b[0;32mexcept\u001b[0m \u001b[0mIndexError\u001b[0m\u001b[0;34m:\u001b[0m\u001b[0;34m\u001b[0m\u001b[0m\n\u001b[1;32m      5\u001b[0m     \u001b[0mprint\u001b[0m\u001b[0;34m(\u001b[0m\u001b[0;34m\"Ошибка индекса\"\u001b[0m\u001b[0;34m)\u001b[0m\u001b[0;34m\u001b[0m\u001b[0m\n",
            "\u001b[0;31mNameError\u001b[0m: name 'stats' is not defined"
          ]
        }
      ]
    },
    {
      "cell_type": "markdown",
      "metadata": {
        "id": "_OJvhCToZihg"
      },
      "source": [
        "# Даты"
      ]
    },
    {
      "cell_type": "code",
      "metadata": {
        "id": "WqFU5QA8Zihh"
      },
      "source": [
        "# иногда импортируют так\n",
        "import datetime"
      ],
      "execution_count": null,
      "outputs": []
    },
    {
      "cell_type": "code",
      "metadata": {
        "id": "MVNc5qKHZihh"
      },
      "source": [
        "datetime.datetime.strptime()"
      ],
      "execution_count": null,
      "outputs": []
    },
    {
      "cell_type": "code",
      "metadata": {
        "id": "b6iO-hJMZihh"
      },
      "source": [
        "# можно и так\n",
        "import datetime as dt"
      ],
      "execution_count": null,
      "outputs": []
    },
    {
      "cell_type": "code",
      "metadata": {
        "id": "JswpykyRZihh",
        "outputId": "6b4efd8a-519b-4f0b-a8ea-b9909e3a7f4f"
      },
      "source": [
        "datetime.strptime()"
      ],
      "execution_count": null,
      "outputs": [
        {
          "output_type": "error",
          "ename": "AttributeError",
          "evalue": "type object 'datetime.datetime' has no attribute 'datetime'",
          "traceback": [
            "\u001b[0;31m---------------------------------------------------------------------------\u001b[0m",
            "\u001b[0;31mAttributeError\u001b[0m                            Traceback (most recent call last)",
            "\u001b[0;32m<ipython-input-15-e1a91825e15a>\u001b[0m in \u001b[0;36m<module>\u001b[0;34m\u001b[0m\n\u001b[0;32m----> 1\u001b[0;31m \u001b[0mdatetime\u001b[0m\u001b[0;34m.\u001b[0m\u001b[0mdatetime\u001b[0m\u001b[0;34m.\u001b[0m\u001b[0mstrptime\u001b[0m\u001b[0;34m(\u001b[0m\u001b[0;34m)\u001b[0m\u001b[0;34m\u001b[0m\u001b[0m\n\u001b[0m",
            "\u001b[0;31mAttributeError\u001b[0m: type object 'datetime.datetime' has no attribute 'datetime'"
          ]
        }
      ]
    },
    {
      "cell_type": "code",
      "metadata": {
        "id": "cnqtfToUZihi"
      },
      "source": [
        "import datetime.py\n",
        "    class datetime"
      ],
      "execution_count": null,
      "outputs": []
    },
    {
      "cell_type": "code",
      "metadata": {
        "id": "KuSIghhoZihj"
      },
      "source": [
        "# у нас будет вариант покороче (но это не одно и то же)\n",
        "from datetime import datetime"
      ],
      "execution_count": null,
      "outputs": []
    },
    {
      "cell_type": "code",
      "metadata": {
        "id": "VdhOaW56Zihj"
      },
      "source": [
        "datetime.strtip"
      ],
      "execution_count": null,
      "outputs": []
    },
    {
      "cell_type": "code",
      "metadata": {
        "id": "9m6b74EUZihj"
      },
      "source": [
        "date_string = '09.05.2018  09:00'"
      ],
      "execution_count": null,
      "outputs": []
    },
    {
      "cell_type": "code",
      "metadata": {
        "id": "87l9nDFlZihj"
      },
      "source": [
        "2018-09-05Z15:32:00.1726352"
      ],
      "execution_count": null,
      "outputs": []
    },
    {
      "cell_type": "code",
      "metadata": {
        "id": "8KOR7m7UZihk",
        "outputId": "853fd77f-93f3-469e-be37-4902fe4d63eb"
      },
      "source": [
        "# сейчас date_string это просто строка\n",
        "type(date_string)"
      ],
      "execution_count": null,
      "outputs": [
        {
          "output_type": "execute_result",
          "data": {
            "text/plain": [
              "str"
            ]
          },
          "metadata": {
            "tags": []
          },
          "execution_count": 17
        }
      ]
    },
    {
      "cell_type": "code",
      "metadata": {
        "id": "Rhx_u_ShZihl",
        "outputId": "d7783242-c9d6-40c7-faab-7e982fbf7eeb"
      },
      "source": [
        "datetime.strptime('09.05.2018 09:00', '%d.%m.%Y %H:%M')"
      ],
      "execution_count": null,
      "outputs": [
        {
          "output_type": "execute_result",
          "data": {
            "text/plain": [
              "datetime.datetime(2018, 5, 9, 9, 0)"
            ]
          },
          "metadata": {
            "tags": []
          },
          "execution_count": 19
        }
      ]
    },
    {
      "cell_type": "code",
      "metadata": {
        "id": "AF4_AMExZihl"
      },
      "source": [
        "datetime.strptime('09.05.2018 09:00', '%d.%m.%Y %H:%M')"
      ],
      "execution_count": null,
      "outputs": []
    },
    {
      "cell_type": "code",
      "metadata": {
        "id": "DKV69ZU-Zihl",
        "outputId": "03527dcd-94b0-43c6-e372-0d4613c210fd"
      },
      "source": [
        "# https://docs.python.org/3/library/datetime.html\n",
        "\n",
        "date_datetime = datetime.strptime( date_string, '%d.%m.%Y %H:%M' )\n",
        "date_datetime"
      ],
      "execution_count": null,
      "outputs": [
        {
          "output_type": "execute_result",
          "data": {
            "text/plain": [
              "datetime.datetime(2018, 5, 9, 9, 0)"
            ]
          },
          "metadata": {
            "tags": []
          },
          "execution_count": 20
        }
      ]
    },
    {
      "cell_type": "code",
      "metadata": {
        "id": "gafhDuucZihl",
        "outputId": "a577ebf1-4dfc-4eaa-fb17-4f5b14bc2b91"
      },
      "source": [
        "# теперь можем работать с датами\n",
        "type(date_datetime)"
      ],
      "execution_count": null,
      "outputs": [
        {
          "output_type": "execute_result",
          "data": {
            "text/plain": [
              "datetime.datetime"
            ]
          },
          "metadata": {
            "tags": []
          },
          "execution_count": 21
        }
      ]
    },
    {
      "cell_type": "code",
      "metadata": {
        "id": "OZoNnIK3Zihm",
        "outputId": "887ef96c-b705-4e48-a299-85ccf3587f3f"
      },
      "source": [
        "# получить номер года и часа\n",
        "date_datetime.year, date_datetime.hour"
      ],
      "execution_count": null,
      "outputs": [
        {
          "output_type": "execute_result",
          "data": {
            "text/plain": [
              "(2018, 9)"
            ]
          },
          "metadata": {
            "tags": []
          },
          "execution_count": 22
        }
      ]
    },
    {
      "cell_type": "code",
      "metadata": {
        "id": "eZ8d0uuOZihm",
        "outputId": "7213bfa5-c69c-4725-a053-9dc2e5d1f3d1"
      },
      "source": [
        "# день недели\n",
        "date_datetime.weekday()"
      ],
      "execution_count": null,
      "outputs": [
        {
          "output_type": "execute_result",
          "data": {
            "text/plain": [
              "2"
            ]
          },
          "metadata": {
            "tags": []
          },
          "execution_count": 23
        }
      ]
    },
    {
      "cell_type": "code",
      "metadata": {
        "id": "zvMPhwefZihm",
        "outputId": "8ed9f63b-c86f-4ae5-8b64-29bd50356ecc"
      },
      "source": [
        "# сегодня\n",
        "datetime.now()"
      ],
      "execution_count": null,
      "outputs": [
        {
          "output_type": "execute_result",
          "data": {
            "text/plain": [
              "datetime.datetime(2020, 6, 20, 15, 9, 40, 92581)"
            ]
          },
          "metadata": {
            "tags": []
          },
          "execution_count": 24
        }
      ]
    },
    {
      "cell_type": "markdown",
      "metadata": {
        "id": "-Nxu6PBuZihm"
      },
      "source": [
        "### Прибавление интервала к датам"
      ]
    },
    {
      "cell_type": "code",
      "metadata": {
        "id": "6nCJGFWCZihm"
      },
      "source": [
        "from datetime import timedelta"
      ],
      "execution_count": null,
      "outputs": []
    },
    {
      "cell_type": "code",
      "metadata": {
        "id": "v5w3o43BZihm"
      },
      "source": [
        "start_date = '2018-01-01'\n",
        "end_date = '2018-01-07'"
      ],
      "execution_count": null,
      "outputs": []
    },
    {
      "cell_type": "code",
      "metadata": {
        "id": "eeg2zsAJZihn",
        "outputId": "38524928-74a8-4b38-d4f9-aed6795d0d51"
      },
      "source": [
        "type(start_date)"
      ],
      "execution_count": null,
      "outputs": [
        {
          "output_type": "execute_result",
          "data": {
            "text/plain": [
              "str"
            ]
          },
          "metadata": {
            "tags": []
          },
          "execution_count": 27
        }
      ]
    },
    {
      "cell_type": "code",
      "metadata": {
        "id": "Lz1vKgX-Zihn",
        "outputId": "2598b80c-d9f9-4165-d1a6-71041bedab3b"
      },
      "source": [
        "'logs_2017-12-31.csv' < 'logs_2018-01-01.csv'"
      ],
      "execution_count": null,
      "outputs": [
        {
          "output_type": "execute_result",
          "data": {
            "text/plain": [
              "True"
            ]
          },
          "metadata": {
            "tags": []
          },
          "execution_count": 31
        }
      ]
    },
    {
      "cell_type": "code",
      "metadata": {
        "id": "ITTXnDIiZihn",
        "outputId": "b075403a-1f16-4c95-cdb2-6caff3fe6ab8"
      },
      "source": [
        "start_date_datetime = datetime.strptime(start_date, '%Y-%m-%d')\n",
        "start_date_datetime"
      ],
      "execution_count": null,
      "outputs": [
        {
          "output_type": "execute_result",
          "data": {
            "text/plain": [
              "datetime.datetime(2018, 1, 1, 0, 0)"
            ]
          },
          "metadata": {
            "tags": []
          },
          "execution_count": 32
        }
      ]
    },
    {
      "cell_type": "code",
      "metadata": {
        "id": "sCdXp5HDZihn",
        "outputId": "80a8b217-4487-4398-c24d-f78e37833a9c"
      },
      "source": [
        "start_date_datetime + timedelta(hours=1)"
      ],
      "execution_count": null,
      "outputs": [
        {
          "output_type": "execute_result",
          "data": {
            "text/plain": [
              "datetime.datetime(2018, 1, 1, 1, 0)"
            ]
          },
          "metadata": {
            "tags": []
          },
          "execution_count": 36
        }
      ]
    },
    {
      "cell_type": "code",
      "metadata": {
        "id": "8KTuCpxiZihn",
        "outputId": "41244af3-c0ed-4ffa-ae12-885597071a55"
      },
      "source": [
        "start_date_datetime + timedelta(days=-7, minutes=-1)"
      ],
      "execution_count": null,
      "outputs": [
        {
          "output_type": "execute_result",
          "data": {
            "text/plain": [
              "datetime.datetime(2017, 12, 24, 23, 59)"
            ]
          },
          "metadata": {
            "tags": []
          },
          "execution_count": 37
        }
      ]
    },
    {
      "cell_type": "markdown",
      "metadata": {
        "id": "gTg1Gs_RZiho"
      },
      "source": [
        "### Перевод обратно в строку"
      ]
    },
    {
      "cell_type": "code",
      "metadata": {
        "id": "xWICugkuZiho",
        "outputId": "1ccc8114-c0bf-4069-90f6-9555091a33c8"
      },
      "source": [
        "date = datetime(2018, 9, 1)\n",
        "date"
      ],
      "execution_count": null,
      "outputs": [
        {
          "output_type": "execute_result",
          "data": {
            "text/plain": [
              "datetime.datetime(2018, 9, 1, 0, 0)"
            ]
          },
          "metadata": {
            "tags": []
          },
          "execution_count": 38
        }
      ]
    },
    {
      "cell_type": "code",
      "metadata": {
        "id": "J6jNc0RFZiho",
        "outputId": "f8ff8b2b-0772-4ff9-cf94-1c7a5694f194"
      },
      "source": [
        "date.strftime('%Y-%m-%dZZZ%H')"
      ],
      "execution_count": null,
      "outputs": [
        {
          "output_type": "execute_result",
          "data": {
            "text/plain": [
              "'2018-09-01ZZZ00'"
            ]
          },
          "metadata": {
            "tags": []
          },
          "execution_count": 40
        }
      ]
    },
    {
      "cell_type": "code",
      "metadata": {
        "scrolled": false,
        "id": "-c18NlXJZiho",
        "outputId": "a2a0287a-61f9-4b0f-f5d4-5223a3839870"
      },
      "source": [
        "date.strftime('%B %d %Y %I:%M%p')"
      ],
      "execution_count": null,
      "outputs": [
        {
          "output_type": "execute_result",
          "data": {
            "text/plain": [
              "'September 01 2018 12:00AM'"
            ]
          },
          "metadata": {
            "tags": []
          },
          "execution_count": 41
        }
      ]
    },
    {
      "cell_type": "code",
      "metadata": {
        "scrolled": true,
        "id": "JZFSROksZiho",
        "outputId": "eedc1173-e3ad-4b7e-bd1d-dc0872fd91b2"
      },
      "source": [
        "datetime.now().strftime('%Y-%m-01')"
      ],
      "execution_count": null,
      "outputs": [
        {
          "output_type": "execute_result",
          "data": {
            "text/plain": [
              "'2020-06-01'"
            ]
          },
          "metadata": {
            "tags": []
          },
          "execution_count": 42
        }
      ]
    },
    {
      "cell_type": "code",
      "metadata": {
        "id": "xzNpaG6IZiho"
      },
      "source": [
        "# как получить первый день месяца\n",
        "\n",
        "date.strftime('%Y-%m-01')"
      ],
      "execution_count": null,
      "outputs": []
    },
    {
      "cell_type": "code",
      "metadata": {
        "id": "ri5EP9YUZihp"
      },
      "source": [
        "start_date = '2018-01-01'\n",
        "end_date = '2018-01-07'"
      ],
      "execution_count": null,
      "outputs": []
    },
    {
      "cell_type": "code",
      "metadata": {
        "id": "dLcZAvhVZihp",
        "outputId": "91d0ed9f-59ab-44a7-a478-886a4f4589c8"
      },
      "source": [
        "start_date, end_date"
      ],
      "execution_count": null,
      "outputs": [
        {
          "output_type": "execute_result",
          "data": {
            "text/plain": [
              "('2018-01-01', '2018-01-07')"
            ]
          },
          "metadata": {
            "tags": []
          },
          "execution_count": 44
        }
      ]
    },
    {
      "cell_type": "code",
      "metadata": {
        "id": "FqIf76otZihp",
        "outputId": "43ce4edf-3685-47bc-d202-cbaf2ee48d50"
      },
      "source": [
        "start_date_dt = datetime.strptime(start_date, '%Y-%m-%d')\n",
        "end_date_dt = datetime.strptime(end_date, '%Y-%m-%d')\n",
        "\n",
        "print(start_date_dt, end_date_dt)"
      ],
      "execution_count": null,
      "outputs": [
        {
          "output_type": "stream",
          "text": [
            "2018-01-01 00:00:00 2018-01-07 00:00:00\n"
          ],
          "name": "stdout"
        }
      ]
    },
    {
      "cell_type": "code",
      "metadata": {
        "id": "vRqISBlQZihp",
        "outputId": "c0544888-e084-495d-f9a4-d8bf1229eff9"
      },
      "source": [
        "i = 0\n",
        "\n",
        "while i < 10:\n",
        "    # ...\n",
        "    i += 1\n",
        "    print(i)"
      ],
      "execution_count": null,
      "outputs": [
        {
          "output_type": "stream",
          "text": [
            "1\n",
            "2\n",
            "3\n",
            "4\n",
            "5\n",
            "6\n",
            "7\n",
            "8\n",
            "9\n",
            "10\n"
          ],
          "name": "stdout"
        }
      ]
    },
    {
      "cell_type": "code",
      "metadata": {
        "scrolled": true,
        "id": "_Dl8iIRiZihp",
        "outputId": "00d9aaf3-032b-418f-fc68-378450b43f85"
      },
      "source": [
        "current_dt = start_date_dt\n",
        "\n",
        "while current_dt <= end_date_dt:\n",
        "    print(current_dt.strftime('%Y-%m-%d'))\n",
        "    \n",
        "    current_dt += timedelta(hours=1)"
      ],
      "execution_count": null,
      "outputs": [
        {
          "output_type": "stream",
          "text": [
            "2018-01-01\n",
            "2018-01-02\n",
            "2018-01-03\n",
            "2018-01-04\n",
            "2018-01-05\n",
            "2018-01-06\n",
            "2018-01-07\n"
          ],
          "name": "stdout"
        }
      ]
    },
    {
      "cell_type": "code",
      "metadata": {
        "id": "HiltrE7lZihq",
        "outputId": "12918ffd-fc19-402b-9492-8beadcdda318"
      },
      "source": [
        "current_dt = start_date_dt\n",
        "\n",
        "while current_dt.strftime('%Y-%m-%d') <= end_date:\n",
        "    print(current_dt.strftime('%Y-%m-%d'))\n",
        "    \n",
        "    current_dt += timedelta(days=1)"
      ],
      "execution_count": null,
      "outputs": [
        {
          "output_type": "stream",
          "text": [
            "2018-01-01\n",
            "2018-01-02\n",
            "2018-01-03\n",
            "2018-01-04\n",
            "2018-01-05\n",
            "2018-01-06\n",
            "2018-01-07\n"
          ],
          "name": "stdout"
        }
      ]
    },
    {
      "cell_type": "code",
      "metadata": {
        "id": "EyO3dXzuZihq",
        "outputId": "95fb462b-ac2a-4238-e90d-b17220c4caa5"
      },
      "source": [
        "# можно и с помощью list comprehension\n",
        "[(start_date_dt + timedelta(days=x)).strftime('%Y-%m-%d') for x in range(10)]"
      ],
      "execution_count": null,
      "outputs": [
        {
          "output_type": "execute_result",
          "data": {
            "text/plain": [
              "['2018-01-01',\n",
              " '2018-01-02',\n",
              " '2018-01-03',\n",
              " '2018-01-04',\n",
              " '2018-01-05',\n",
              " '2018-01-06',\n",
              " '2018-01-07',\n",
              " '2018-01-08',\n",
              " '2018-01-09',\n",
              " '2018-01-10']"
            ]
          },
          "metadata": {
            "tags": []
          },
          "execution_count": 49
        }
      ]
    },
    {
      "cell_type": "markdown",
      "metadata": {
        "id": "ELtItWvGZihq"
      },
      "source": [
        "### Нагрузка на систему по часам"
      ]
    },
    {
      "cell_type": "code",
      "metadata": {
        "id": "sU93Z4rCZihq",
        "outputId": "1d016020-c5c0-45ee-840a-a7c2597b8afc"
      },
      "source": [
        "stats = {}\n",
        "\n",
        "with open('logs.csv', 'r') as f:\n",
        "    for line in f:\n",
        "        line = line.strip()\n",
        "        \n",
        "#         print(line[11:13])\n",
        "#         break\n",
        "        \n",
        "#         dt = datetime.strptime(line, '%Y-%m-%dT%H:%M:%SZ')\n",
        "        hour = line[11:13]\n",
        "        # print(hour)\n",
        "        \n",
        "        stats.setdefault(hour, 0)\n",
        "        stats[hour] += 1\n",
        "        \n",
        "        # break\n",
        "        \n",
        "        # вычисления нагрузки на систему...\n",
        "        \n",
        "# результат\n",
        "stats"
      ],
      "execution_count": null,
      "outputs": [
        {
          "output_type": "execute_result",
          "data": {
            "text/plain": [
              "{'21': 59,\n",
              " '20': 67,\n",
              " '23': 36,\n",
              " '22': 37,\n",
              " '18': 72,\n",
              " '13': 56,\n",
              " '11': 52,\n",
              " '00': 22,\n",
              " '16': 56,\n",
              " '17': 56,\n",
              " '15': 68,\n",
              " '19': 63,\n",
              " '12': 64,\n",
              " '10': 77,\n",
              " '01': 10,\n",
              " '07': 22,\n",
              " '05': 10,\n",
              " '09': 33,\n",
              " '06': 19,\n",
              " '14': 57,\n",
              " '08': 42,\n",
              " '03': 7,\n",
              " '02': 8,\n",
              " '04': 7}"
            ]
          },
          "metadata": {
            "tags": []
          },
          "execution_count": 59
        }
      ]
    },
    {
      "cell_type": "code",
      "metadata": {
        "id": "4aVl0I_5Zihq"
      },
      "source": [
        "# а в процентном соотношении?\n"
      ],
      "execution_count": null,
      "outputs": []
    },
    {
      "cell_type": "code",
      "metadata": {
        "id": "s_6G7ZTmZihq"
      },
      "source": [
        ""
      ],
      "execution_count": null,
      "outputs": []
    },
    {
      "cell_type": "code",
      "metadata": {
        "id": "uUv2-NLxZihq"
      },
      "source": [
        ""
      ],
      "execution_count": null,
      "outputs": []
    },
    {
      "cell_type": "code",
      "metadata": {
        "id": "PKrn9DoAZihr"
      },
      "source": [
        ""
      ],
      "execution_count": null,
      "outputs": []
    },
    {
      "cell_type": "markdown",
      "metadata": {
        "id": "w_hXBB5uZihr"
      },
      "source": [
        "###  Unixtime\n",
        "Количество секунд, прошедших с 1 января 1970 года по UTC"
      ]
    },
    {
      "cell_type": "code",
      "metadata": {
        "id": "2ddyxBWpZihr"
      },
      "source": [
        "import time\n",
        "from datetime import date\n",
        "from datetime import datetime"
      ],
      "execution_count": null,
      "outputs": []
    },
    {
      "cell_type": "code",
      "metadata": {
        "id": "QfgEIeoNZihr",
        "outputId": "f846fc50-88f1-4ef7-85ee-58a19652e379"
      },
      "source": [
        "d = date(2019, 3, 11)\n",
        "\n",
        "unixtime = time.mktime(d.timetuple())\n",
        "unixtime"
      ],
      "execution_count": null,
      "outputs": [
        {
          "output_type": "execute_result",
          "data": {
            "text/plain": [
              "1552251600.0"
            ]
          },
          "metadata": {
            "tags": []
          },
          "execution_count": 61
        }
      ]
    },
    {
      "cell_type": "code",
      "metadata": {
        "id": "X1vYz0uvZihr"
      },
      "source": [
        "from datetime import datetime"
      ],
      "execution_count": null,
      "outputs": []
    },
    {
      "cell_type": "code",
      "metadata": {
        "id": "8oroNiBnZihr",
        "outputId": "cba15337-1385-4fab-89f8-ef818d35291c"
      },
      "source": [
        "datetime.fromtimestamp(1552251600)"
      ],
      "execution_count": null,
      "outputs": [
        {
          "output_type": "execute_result",
          "data": {
            "text/plain": [
              "datetime.datetime(2019, 3, 11, 0, 0)"
            ]
          },
          "metadata": {
            "tags": []
          },
          "execution_count": 63
        }
      ]
    },
    {
      "cell_type": "markdown",
      "metadata": {
        "id": "zYylupwpZihr"
      },
      "source": [
        "На практике все сложнее https://habr.com/ru/post/452584/"
      ]
    }
  ]
}