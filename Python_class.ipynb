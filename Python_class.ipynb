{
  "nbformat": 4,
  "nbformat_minor": 0,
  "metadata": {
    "kernelspec": {
      "display_name": "Python 3",
      "language": "python",
      "name": "python3"
    },
    "language_info": {
      "codemirror_mode": {
        "name": "ipython",
        "version": 3
      },
      "file_extension": ".py",
      "mimetype": "text/x-python",
      "name": "python",
      "nbconvert_exporter": "python",
      "pygments_lexer": "ipython3",
      "version": "3.7.0"
    },
    "colab": {
      "name": "Python class.ipynb",
      "provenance": []
    }
  },
  "cells": [
    {
      "cell_type": "markdown",
      "metadata": {
        "id": "5ukQ4cpEdqUU"
      },
      "source": [
        "# Что сегодня сделаем\n",
        "Библиотеку для получения курсов валют в 2 строки"
      ]
    },
    {
      "cell_type": "code",
      "metadata": {
        "id": "O_Lv2ueLdqUV"
      },
      "source": [
        "from libs.exchange import Rate"
      ],
      "execution_count": null,
      "outputs": []
    },
    {
      "cell_type": "code",
      "metadata": {
        "id": "SCi6WkJrdqUV"
      },
      "source": [
        "Rate().usd()"
      ],
      "execution_count": null,
      "outputs": []
    },
    {
      "cell_type": "code",
      "metadata": {
        "scrolled": true,
        "id": "2C91SJDmdqUW"
      },
      "source": [
        "Rate('full').AZN()"
      ],
      "execution_count": null,
      "outputs": []
    },
    {
      "cell_type": "markdown",
      "metadata": {
        "id": "y7G6gW7_dqUW"
      },
      "source": [
        "### Задача\n",
        "Дана строка со значениями, которые разделены запятыми:"
      ]
    },
    {
      "cell_type": "code",
      "metadata": {
        "id": "x_PNLPafdqUX"
      },
      "source": [
        "line = '2019-07-01,organic,4293'"
      ],
      "execution_count": null,
      "outputs": []
    },
    {
      "cell_type": "markdown",
      "metadata": {
        "id": "_ImHhc4GdqUX"
      },
      "source": [
        "Напишите функцию column_count, которая возвращает число столбцов в такой строке"
      ]
    },
    {
      "cell_type": "code",
      "metadata": {
        "id": "7ry0xwCadqUX",
        "outputId": "93f38d6b-1e25-43ed-9300-a3b339ccb4aa"
      },
      "source": [
        "len('2019-07-01,organic,4293'.split(','))"
      ],
      "execution_count": null,
      "outputs": [
        {
          "output_type": "execute_result",
          "data": {
            "text/plain": [
              "3"
            ]
          },
          "metadata": {
            "tags": []
          },
          "execution_count": 3
        }
      ]
    },
    {
      "cell_type": "code",
      "metadata": {
        "id": "JGrPclwcdqUY"
      },
      "source": [
        "def line_count(line, count_empty_lines=True, sep=','):\n",
        "    if count_empty_lines:\n",
        "        return len(line.split(sep))\n",
        "    else:\n",
        "        if line:\n",
        "            return len(line.split(sep))\n",
        "        else:\n",
        "            return 0"
      ],
      "execution_count": null,
      "outputs": []
    },
    {
      "cell_type": "code",
      "metadata": {
        "id": "ESWD0Z6FdqUY",
        "outputId": "d6e86ebb-381b-4eba-b8b7-6a9cd758ad40"
      },
      "source": [
        "line_count(line)"
      ],
      "execution_count": null,
      "outputs": [
        {
          "output_type": "execute_result",
          "data": {
            "text/plain": [
              "3"
            ]
          },
          "metadata": {
            "tags": []
          },
          "execution_count": 10
        }
      ]
    },
    {
      "cell_type": "code",
      "metadata": {
        "id": "KzQiFZ5ndqUZ",
        "outputId": "a1141148-5de4-4ae3-ca48-050dd8ce1034"
      },
      "source": [
        "line_count('2019-07-01')"
      ],
      "execution_count": null,
      "outputs": [
        {
          "output_type": "execute_result",
          "data": {
            "text/plain": [
              "1"
            ]
          },
          "metadata": {
            "tags": []
          },
          "execution_count": 11
        }
      ]
    },
    {
      "cell_type": "code",
      "metadata": {
        "id": "StX867tIdqUZ",
        "outputId": "b3e37fdb-00fe-4608-a22f-13b2d71b9050"
      },
      "source": [
        "line_count('', count_empty_lines=False)"
      ],
      "execution_count": null,
      "outputs": [
        {
          "output_type": "execute_result",
          "data": {
            "text/plain": [
              "0"
            ]
          },
          "metadata": {
            "tags": []
          },
          "execution_count": 13
        }
      ]
    },
    {
      "cell_type": "markdown",
      "metadata": {
        "id": "DYZ1NAnodqUZ"
      },
      "source": [
        "# Классы\n",
        "Пример использования переменной в разных методах"
      ]
    },
    {
      "cell_type": "code",
      "metadata": {
        "id": "S64i4KHMdqUZ"
      },
      "source": [
        "class AnyName:\n",
        "    def method_1(self):\n",
        "        self.currency = 'usd'\n",
        "    \n",
        "    def method_2(self):\n",
        "        print(self.currency)"
      ],
      "execution_count": null,
      "outputs": []
    },
    {
      "cell_type": "code",
      "metadata": {
        "id": "Ko_sJdIqdqUa"
      },
      "source": [
        "a = AnyName()"
      ],
      "execution_count": null,
      "outputs": []
    },
    {
      "cell_type": "code",
      "metadata": {
        "id": "nlRQgbXTdqUa"
      },
      "source": [
        "from datetime import datetime"
      ],
      "execution_count": null,
      "outputs": []
    },
    {
      "cell_type": "code",
      "metadata": {
        "id": "XPkBSMojdqUa"
      },
      "source": [
        "datetime.strptime"
      ],
      "execution_count": null,
      "outputs": []
    },
    {
      "cell_type": "code",
      "metadata": {
        "id": "h_X4eggUdqUa"
      },
      "source": [
        "a.method_1()"
      ],
      "execution_count": null,
      "outputs": []
    },
    {
      "cell_type": "code",
      "metadata": {
        "id": "M4jS_e8QdqUa",
        "outputId": "a48a4f3c-6381-4252-ccdd-6084f9818e5f"
      },
      "source": [
        "a.currency"
      ],
      "execution_count": null,
      "outputs": [
        {
          "output_type": "execute_result",
          "data": {
            "text/plain": [
              "'usd'"
            ]
          },
          "metadata": {
            "tags": []
          },
          "execution_count": 17
        }
      ]
    },
    {
      "cell_type": "code",
      "metadata": {
        "id": "viv5mPkCdqUb"
      },
      "source": [
        "b."
      ],
      "execution_count": null,
      "outputs": []
    },
    {
      "cell_type": "code",
      "metadata": {
        "id": "swenM_PFdqUb"
      },
      "source": [
        "b = AnyName()"
      ],
      "execution_count": null,
      "outputs": []
    },
    {
      "cell_type": "code",
      "metadata": {
        "id": "t9YGC5vWdqUb",
        "outputId": "616d752c-5bde-4ac9-80ad-b500db14f628"
      },
      "source": [
        "b.method_2()"
      ],
      "execution_count": null,
      "outputs": [
        {
          "output_type": "error",
          "ename": "AttributeError",
          "evalue": "'AnyName' object has no attribute 'currency'",
          "traceback": [
            "\u001b[0;31m---------------------------------------------------------------------------\u001b[0m",
            "\u001b[0;31mAttributeError\u001b[0m                            Traceback (most recent call last)",
            "\u001b[0;32m<ipython-input-23-59f1720a6a7b>\u001b[0m in \u001b[0;36m<module>\u001b[0;34m\u001b[0m\n\u001b[0;32m----> 1\u001b[0;31m \u001b[0mb\u001b[0m\u001b[0;34m.\u001b[0m\u001b[0mmethod_2\u001b[0m\u001b[0;34m(\u001b[0m\u001b[0;34m)\u001b[0m\u001b[0;34m\u001b[0m\u001b[0m\n\u001b[0m",
            "\u001b[0;32m<ipython-input-14-9c2240d258f9>\u001b[0m in \u001b[0;36mmethod_2\u001b[0;34m(self)\u001b[0m\n\u001b[1;32m      4\u001b[0m \u001b[0;34m\u001b[0m\u001b[0m\n\u001b[1;32m      5\u001b[0m     \u001b[0;32mdef\u001b[0m \u001b[0mmethod_2\u001b[0m\u001b[0;34m(\u001b[0m\u001b[0mself\u001b[0m\u001b[0;34m)\u001b[0m\u001b[0;34m:\u001b[0m\u001b[0;34m\u001b[0m\u001b[0m\n\u001b[0;32m----> 6\u001b[0;31m         \u001b[0mprint\u001b[0m\u001b[0;34m(\u001b[0m\u001b[0mself\u001b[0m\u001b[0;34m.\u001b[0m\u001b[0mcurrency\u001b[0m\u001b[0;34m)\u001b[0m\u001b[0;34m\u001b[0m\u001b[0m\n\u001b[0m",
            "\u001b[0;31mAttributeError\u001b[0m: 'AnyName' object has no attribute 'currency'"
          ]
        }
      ]
    },
    {
      "cell_type": "code",
      "metadata": {
        "id": "kEnTCcTBdqUb",
        "outputId": "88001a7c-d423-4e43-e6e0-5356e93c10db"
      },
      "source": [
        "a.currency"
      ],
      "execution_count": null,
      "outputs": [
        {
          "output_type": "execute_result",
          "data": {
            "text/plain": [
              "'usd'"
            ]
          },
          "metadata": {
            "tags": []
          },
          "execution_count": 20
        }
      ]
    },
    {
      "cell_type": "code",
      "metadata": {
        "id": "wr-5g_KrdqUb",
        "outputId": "14c2b6aa-391a-4b7a-ebf8-c9f4077b0aa1"
      },
      "source": [
        "a.method_2()"
      ],
      "execution_count": null,
      "outputs": [
        {
          "output_type": "stream",
          "text": [
            "usd\n"
          ],
          "name": "stdout"
        }
      ]
    },
    {
      "cell_type": "markdown",
      "metadata": {
        "id": "1CB-dADbdqUc"
      },
      "source": [
        "### Метод __init__"
      ]
    },
    {
      "cell_type": "code",
      "metadata": {
        "id": "C0kQkA_AdqUc"
      },
      "source": [
        "# метод __init__ выполняется при вызове класса\n",
        "\n",
        "class Rate:\n",
        "    def __init__(self):\n",
        "        self.format = 'value'\n",
        "        print(self.format)"
      ],
      "execution_count": null,
      "outputs": []
    },
    {
      "cell_type": "code",
      "metadata": {
        "scrolled": true,
        "id": "0YRvRkMedqUc",
        "outputId": "9aa64cf5-64aa-4a78-fc8c-d3a00bb6a473"
      },
      "source": [
        "r = Rate()"
      ],
      "execution_count": null,
      "outputs": [
        {
          "output_type": "stream",
          "text": [
            "value\n"
          ],
          "name": "stdout"
        }
      ]
    },
    {
      "cell_type": "code",
      "metadata": {
        "id": "Ytlv3fWYdqUc",
        "outputId": "13ffc8a1-3d8c-4963-8f02-ebb7cdb5b7d0"
      },
      "source": [
        "r.format"
      ],
      "execution_count": null,
      "outputs": [
        {
          "output_type": "execute_result",
          "data": {
            "text/plain": [
              "'value'"
            ]
          },
          "metadata": {
            "tags": []
          },
          "execution_count": 26
        }
      ]
    },
    {
      "cell_type": "markdown",
      "metadata": {
        "id": "j7rqxYqjdqUd"
      },
      "source": [
        "### Класс для курсов валют"
      ]
    },
    {
      "cell_type": "code",
      "metadata": {
        "id": "_-4ZZ2NPdqUd"
      },
      "source": [
        "class Rate:\n",
        "    def __init__(self):\n",
        "        self.format = 'value'\n",
        "    \n",
        "    def show_current_format(self):\n",
        "        return self.format"
      ],
      "execution_count": null,
      "outputs": []
    },
    {
      "cell_type": "code",
      "metadata": {
        "id": "8diz-bbJdqUd"
      },
      "source": [
        "r = Rate()"
      ],
      "execution_count": null,
      "outputs": []
    },
    {
      "cell_type": "code",
      "metadata": {
        "id": "VbbQtNbOdqUd",
        "outputId": "20c3aaa0-e833-42f4-84fc-2207550c12e8"
      },
      "source": [
        "r.show_current_format()"
      ],
      "execution_count": null,
      "outputs": [
        {
          "output_type": "execute_result",
          "data": {
            "text/plain": [
              "'value'"
            ]
          },
          "metadata": {
            "tags": []
          },
          "execution_count": 29
        }
      ]
    },
    {
      "cell_type": "markdown",
      "metadata": {
        "id": "JVh_7RTOdqUd"
      },
      "source": [
        "Пример инициализации со значением переменной"
      ]
    },
    {
      "cell_type": "code",
      "metadata": {
        "id": "5PmO-GSjdqUe"
      },
      "source": [
        "class Rate:\n",
        "    def __init__(self, format_):\n",
        "        self.format = format_\n",
        "    \n",
        "    def show_current_format(self):\n",
        "        return self.format"
      ],
      "execution_count": null,
      "outputs": []
    },
    {
      "cell_type": "code",
      "metadata": {
        "id": "gCRjYuQYdqUe"
      },
      "source": [
        "r = Rate(format_='value')"
      ],
      "execution_count": null,
      "outputs": []
    },
    {
      "cell_type": "code",
      "metadata": {
        "id": "f9E8VV0WdqUe"
      },
      "source": [
        "r.show_current_format()"
      ],
      "execution_count": null,
      "outputs": []
    },
    {
      "cell_type": "markdown",
      "metadata": {
        "id": "QcIpWT9QdqUe"
      },
      "source": [
        "Или сразу со значением по умолчанию"
      ]
    },
    {
      "cell_type": "code",
      "metadata": {
        "id": "kfQjxUafdqUe"
      },
      "source": [
        "class Rate:\n",
        "    def __init__(self, format_='value'):\n",
        "        self.format = format_\n",
        "    \n",
        "    def show_current_format(self):\n",
        "        return self.format"
      ],
      "execution_count": null,
      "outputs": []
    },
    {
      "cell_type": "code",
      "metadata": {
        "id": "MlJYXCMVdqUe",
        "outputId": "b927dac3-4b8f-452b-b2a1-1aebea047b19"
      },
      "source": [
        "r = Rate()\n",
        "r.show_current_format()"
      ],
      "execution_count": null,
      "outputs": [
        {
          "output_type": "execute_result",
          "data": {
            "text/plain": [
              "'value'"
            ]
          },
          "metadata": {
            "tags": []
          },
          "execution_count": 32
        }
      ]
    },
    {
      "cell_type": "code",
      "metadata": {
        "id": "bmAk4SLgdqUf",
        "outputId": "af08a11c-c2d0-45fd-df45-57d5277c1d67"
      },
      "source": [
        "r_full = Rate(format_='full')\n",
        "r_full.show_current_format()"
      ],
      "execution_count": null,
      "outputs": [
        {
          "output_type": "execute_result",
          "data": {
            "text/plain": [
              "'full'"
            ]
          },
          "metadata": {
            "tags": []
          },
          "execution_count": 33
        }
      ]
    },
    {
      "cell_type": "code",
      "metadata": {
        "id": "EG2bjsbtdqUf",
        "outputId": "dafbc352-f38d-43dd-92c0-39719230e249"
      },
      "source": [
        "r.format"
      ],
      "execution_count": null,
      "outputs": [
        {
          "output_type": "execute_result",
          "data": {
            "text/plain": [
              "'value'"
            ]
          },
          "metadata": {
            "tags": []
          },
          "execution_count": 34
        }
      ]
    },
    {
      "cell_type": "code",
      "metadata": {
        "id": "cgQPDJDDdqUf",
        "outputId": "a3a25066-f047-420b-a02a-f43eb80c44a7"
      },
      "source": [
        "# значения переменных класса можно менять\n",
        "\n",
        "r.format = 'full_123'\n",
        "r.show_current_format()"
      ],
      "execution_count": null,
      "outputs": [
        {
          "output_type": "execute_result",
          "data": {
            "text/plain": [
              "'full_123'"
            ]
          },
          "metadata": {
            "tags": []
          },
          "execution_count": 35
        }
      ]
    },
    {
      "cell_type": "markdown",
      "metadata": {
        "id": "g0wh1JDbdqUf"
      },
      "source": [
        "### Задание\n",
        "Создайте класс сотрудника Employee. При инициализации класса задается имя сотрудника name и его текущая зарплата salary. Напишите следующие методы:\n",
        "1. Метод up, который увеличивает зарплату сотрудника на 100\n",
        "2. Метод print, который выводит на экран текущую зарплату сотрудника в формате \"Сотрудник Иван, зарплата 100\""
      ]
    },
    {
      "cell_type": "code",
      "metadata": {
        "id": "iMXZ9tgvdqUf"
      },
      "source": [
        "class Employee:\n",
        "    def __init__(self, name, salary):\n",
        "        self.name = name\n",
        "        self.salary = salary\n",
        "    \n",
        "    def up(self):\n",
        "        self.salary += 100\n",
        "    \n",
        "    def print_(self):\n",
        "        print('Сотрудник {}, зарплата {}'.format(self.name, self.salary))"
      ],
      "execution_count": null,
      "outputs": []
    },
    {
      "cell_type": "code",
      "metadata": {
        "id": "ekQFB2s5dqUg"
      },
      "source": [
        "ivan = Employee(name='Иван', salary=50)"
      ],
      "execution_count": null,
      "outputs": []
    },
    {
      "cell_type": "code",
      "metadata": {
        "id": "QIppdgGwdqUg",
        "outputId": "0d4a41aa-79db-4725-881f-1b43f1f3d777"
      },
      "source": [
        "ivan.salary"
      ],
      "execution_count": null,
      "outputs": [
        {
          "output_type": "execute_result",
          "data": {
            "text/plain": [
              "50"
            ]
          },
          "metadata": {
            "tags": []
          },
          "execution_count": 41
        }
      ]
    },
    {
      "cell_type": "code",
      "metadata": {
        "id": "2iC73eE7dqUg",
        "outputId": "5b3f9c00-397b-44a2-cdee-9dd694a361ce"
      },
      "source": [
        "ivan.up()\n",
        "ivan.print_()"
      ],
      "execution_count": null,
      "outputs": [
        {
          "output_type": "stream",
          "text": [
            "Сотрудник Иван, зарплата 1350\n"
          ],
          "name": "stdout"
        }
      ]
    },
    {
      "cell_type": "code",
      "metadata": {
        "id": "ydQfrWcpdqUg"
      },
      "source": [
        "elena = Employee(name='Елена', salary=300)"
      ],
      "execution_count": null,
      "outputs": []
    },
    {
      "cell_type": "code",
      "metadata": {
        "id": "aNWQvog9dqUh",
        "outputId": "d3261e7e-0869-4773-c1ce-eabb72341699"
      },
      "source": [
        "elena.up()\n",
        "elena.print_()"
      ],
      "execution_count": null,
      "outputs": [
        {
          "output_type": "stream",
          "text": [
            "Сотрудник Елена, зарплата 1000\n"
          ],
          "name": "stdout"
        }
      ]
    },
    {
      "cell_type": "markdown",
      "metadata": {
        "id": "4lZwqZHUdqUh"
      },
      "source": [
        "### Полная версия класса"
      ]
    },
    {
      "cell_type": "code",
      "metadata": {
        "id": "6QNLkNi3dqUh"
      },
      "source": [
        "import requests"
      ],
      "execution_count": null,
      "outputs": []
    },
    {
      "cell_type": "code",
      "metadata": {
        "id": "p8qd5bh0dqUh"
      },
      "source": [
        "class Rate:\n",
        "    def __init__(self, format_='value'):\n",
        "        self.format = format_\n",
        "    \n",
        "    def exchange_rates(self):\n",
        "        \"\"\"\n",
        "        Возвращает ответ сервиса с информацией о валютах в виде:\n",
        "        \n",
        "        {\n",
        "            'AMD': {\n",
        "                'CharCode': 'AMD',\n",
        "                'ID': 'R01060',\n",
        "                'Name': 'Армянских драмов',\n",
        "                'Nominal': 100,\n",
        "                'NumCode': '051',\n",
        "                'Previous': 14.103,\n",
        "                'Value': 14.0879\n",
        "                },\n",
        "            ...\n",
        "        }\n",
        "        \"\"\"\n",
        "        self.r = requests.get('https://www.cbr-xml-daily.ru/daily_json.js')\n",
        "        return self.r.json()['Valute']\n",
        "    \n",
        "    def make_format(self, currency):\n",
        "        \"\"\"\n",
        "        Возвращает информацию о валюте currency в двух вариантах:\n",
        "        - полная информация о валюте при self.format = 'full':\n",
        "        Rate('full').make_format('EUR')\n",
        "        {\n",
        "            'CharCode': 'EUR',\n",
        "            'ID': 'R01239',\n",
        "            'Name': 'Евро',\n",
        "            'Nominal': 1,\n",
        "            'NumCode': '978',\n",
        "            'Previous': 79.6765,\n",
        "            'Value': 79.4966\n",
        "        }\n",
        "        \n",
        "        Rate('value').make_format('EUR')\n",
        "        79.4966\n",
        "        \"\"\"\n",
        "        response = self.exchange_rates()\n",
        "        \n",
        "        if currency in response:\n",
        "            if self.format == 'full':\n",
        "                return response[currency]\n",
        "            \n",
        "            if self.format == 'value':\n",
        "                return response[currency]['Value']\n",
        "        \n",
        "        return 'Error'\n",
        "    \n",
        "    def eur(self):\n",
        "        \"\"\"Возвращает курс евро на сегодня в формате self.format\"\"\"\n",
        "        return self.make_format('EUR')\n",
        "    \n",
        "    def usd(self):\n",
        "        \"\"\"Возвращает курс доллара на сегодня в формате self.format\"\"\"\n",
        "        return self.make_format('USD')\n",
        "    \n",
        "    def brl(self):\n",
        "        \"\"\"Возвращает курс бразильского реала на сегодня в формате self.format\"\"\"\n",
        "        return self.make_format('BRL')"
      ],
      "execution_count": null,
      "outputs": []
    },
    {
      "cell_type": "code",
      "metadata": {
        "id": "4xh4122odqUi"
      },
      "source": [
        "r = Rate(format_='full')"
      ],
      "execution_count": null,
      "outputs": []
    },
    {
      "cell_type": "code",
      "metadata": {
        "id": "Zf51Z71jdqUi",
        "outputId": "afc7dd54-1c60-4b7c-9c55-168c316c34e1"
      },
      "source": [
        "r.exchange_rates()"
      ],
      "execution_count": null,
      "outputs": [
        {
          "output_type": "execute_result",
          "data": {
            "text/plain": [
              "{'AUD': {'ID': 'R01010',\n",
              "  'NumCode': '036',\n",
              "  'CharCode': 'AUD',\n",
              "  'Nominal': 1,\n",
              "  'Name': 'Австралийский доллар',\n",
              "  'Value': 47.7337,\n",
              "  'Previous': 47.8415},\n",
              " 'AZN': {'ID': 'R01020A',\n",
              "  'NumCode': '944',\n",
              "  'CharCode': 'AZN',\n",
              "  'Nominal': 1,\n",
              "  'Name': 'Азербайджанский манат',\n",
              "  'Value': 40.9491,\n",
              "  'Previous': 40.9759},\n",
              " 'GBP': {'ID': 'R01035',\n",
              "  'NumCode': '826',\n",
              "  'CharCode': 'GBP',\n",
              "  'Nominal': 1,\n",
              "  'Name': 'Фунт стерлингов Соединенного королевства',\n",
              "  'Value': 86.3951,\n",
              "  'Previous': 87.1687},\n",
              " 'AMD': {'ID': 'R01060',\n",
              "  'NumCode': '051',\n",
              "  'CharCode': 'AMD',\n",
              "  'Nominal': 100,\n",
              "  'Name': 'Армянских драмов',\n",
              "  'Value': 14.4762,\n",
              "  'Previous': 14.4436},\n",
              " 'BYN': {'ID': 'R01090B',\n",
              "  'NumCode': '933',\n",
              "  'CharCode': 'BYN',\n",
              "  'Nominal': 1,\n",
              "  'Name': 'Белорусский рубль',\n",
              "  'Value': 29.2617,\n",
              "  'Previous': 29.212},\n",
              " 'BGN': {'ID': 'R01100',\n",
              "  'NumCode': '975',\n",
              "  'CharCode': 'BGN',\n",
              "  'Nominal': 1,\n",
              "  'Name': 'Болгарский лев',\n",
              "  'Value': 39.8833,\n",
              "  'Previous': 40.0034},\n",
              " 'BRL': {'ID': 'R01115',\n",
              "  'NumCode': '986',\n",
              "  'CharCode': 'BRL',\n",
              "  'Nominal': 1,\n",
              "  'Name': 'Бразильский реал',\n",
              "  'Value': 12.9365,\n",
              "  'Previous': 13.3136},\n",
              " 'HUF': {'ID': 'R01135',\n",
              "  'NumCode': '348',\n",
              "  'CharCode': 'HUF',\n",
              "  'Nominal': 100,\n",
              "  'Name': 'Венгерских форинтов',\n",
              "  'Value': 22.5376,\n",
              "  'Previous': 22.6802},\n",
              " 'HKD': {'ID': 'R01200',\n",
              "  'NumCode': '344',\n",
              "  'CharCode': 'HKD',\n",
              "  'Nominal': 10,\n",
              "  'Name': 'Гонконгских долларов',\n",
              "  'Value': 89.7663,\n",
              "  'Previous': 89.8262},\n",
              " 'DKK': {'ID': 'R01215',\n",
              "  'NumCode': '208',\n",
              "  'CharCode': 'DKK',\n",
              "  'Nominal': 1,\n",
              "  'Name': 'Датская крона',\n",
              "  'Value': 10.4633,\n",
              "  'Previous': 10.4959},\n",
              " 'USD': {'ID': 'R01235',\n",
              "  'NumCode': '840',\n",
              "  'CharCode': 'USD',\n",
              "  'Nominal': 1,\n",
              "  'Name': 'Доллар США',\n",
              "  'Value': 69.5725,\n",
              "  'Previous': 69.618},\n",
              " 'EUR': {'ID': 'R01239',\n",
              "  'NumCode': '978',\n",
              "  'CharCode': 'EUR',\n",
              "  'Nominal': 1,\n",
              "  'Name': 'Евро',\n",
              "  'Value': 78.0047,\n",
              "  'Previous': 78.2924},\n",
              " 'INR': {'ID': 'R01270',\n",
              "  'NumCode': '356',\n",
              "  'CharCode': 'INR',\n",
              "  'Nominal': 100,\n",
              "  'Name': 'Индийских рупий',\n",
              "  'Value': 91.3115,\n",
              "  'Previous': 91.4391},\n",
              " 'KZT': {'ID': 'R01335',\n",
              "  'NumCode': '398',\n",
              "  'CharCode': 'KZT',\n",
              "  'Nominal': 100,\n",
              "  'Name': 'Казахстанских тенге',\n",
              "  'Value': 17.225,\n",
              "  'Previous': 17.164},\n",
              " 'CAD': {'ID': 'R01350',\n",
              "  'NumCode': '124',\n",
              "  'CharCode': 'CAD',\n",
              "  'Nominal': 1,\n",
              "  'Name': 'Канадский доллар',\n",
              "  'Value': 51.209,\n",
              "  'Previous': 51.3748},\n",
              " 'KGS': {'ID': 'R01370',\n",
              "  'NumCode': '417',\n",
              "  'CharCode': 'KGS',\n",
              "  'Nominal': 100,\n",
              "  'Name': 'Киргизских сомов',\n",
              "  'Value': 92.8919,\n",
              "  'Previous': 93.1286},\n",
              " 'CNY': {'ID': 'R01375',\n",
              "  'NumCode': '156',\n",
              "  'CharCode': 'CNY',\n",
              "  'Nominal': 10,\n",
              "  'Name': 'Китайских юаней',\n",
              "  'Value': 98.2898,\n",
              "  'Previous': 98.3166},\n",
              " 'MDL': {'ID': 'R01500',\n",
              "  'NumCode': '498',\n",
              "  'CharCode': 'MDL',\n",
              "  'Nominal': 10,\n",
              "  'Name': 'Молдавских леев',\n",
              "  'Value': 40.3319,\n",
              "  'Previous': 40.3583},\n",
              " 'NOK': {'ID': 'R01535',\n",
              "  'NumCode': '578',\n",
              "  'CharCode': 'NOK',\n",
              "  'Nominal': 10,\n",
              "  'Name': 'Норвежских крон',\n",
              "  'Value': 73.0458,\n",
              "  'Previous': 73.5174},\n",
              " 'PLN': {'ID': 'R01565',\n",
              "  'NumCode': '985',\n",
              "  'CharCode': 'PLN',\n",
              "  'Nominal': 1,\n",
              "  'Name': 'Польский злотый',\n",
              "  'Value': 17.5285,\n",
              "  'Previous': 17.5272},\n",
              " 'RON': {'ID': 'R01585F',\n",
              "  'NumCode': '946',\n",
              "  'CharCode': 'RON',\n",
              "  'Nominal': 1,\n",
              "  'Name': 'Румынский лей',\n",
              "  'Value': 16.1077,\n",
              "  'Previous': 16.1759},\n",
              " 'XDR': {'ID': 'R01589',\n",
              "  'NumCode': '960',\n",
              "  'CharCode': 'XDR',\n",
              "  'Nominal': 1,\n",
              "  'Name': 'СДР (специальные права заимствования)',\n",
              "  'Value': 96.0372,\n",
              "  'Previous': 96.0631},\n",
              " 'SGD': {'ID': 'R01625',\n",
              "  'NumCode': '702',\n",
              "  'CharCode': 'SGD',\n",
              "  'Nominal': 1,\n",
              "  'Name': 'Сингапурский доллар',\n",
              "  'Value': 49.9121,\n",
              "  'Previous': 49.9986},\n",
              " 'TJS': {'ID': 'R01670',\n",
              "  'NumCode': '972',\n",
              "  'CharCode': 'TJS',\n",
              "  'Nominal': 10,\n",
              "  'Name': 'Таджикских сомони',\n",
              "  'Value': 67.497,\n",
              "  'Previous': 67.5411},\n",
              " 'TRY': {'ID': 'R01700J',\n",
              "  'NumCode': '949',\n",
              "  'CharCode': 'TRY',\n",
              "  'Nominal': 1,\n",
              "  'Name': 'Турецкая лира',\n",
              "  'Value': 10.1447,\n",
              "  'Previous': 10.1519},\n",
              " 'TMT': {'ID': 'R01710A',\n",
              "  'NumCode': '934',\n",
              "  'CharCode': 'TMT',\n",
              "  'Nominal': 1,\n",
              "  'Name': 'Новый туркменский манат',\n",
              "  'Value': 19.9063,\n",
              "  'Previous': 19.9193},\n",
              " 'UZS': {'ID': 'R01717',\n",
              "  'NumCode': '860',\n",
              "  'CharCode': 'UZS',\n",
              "  'Nominal': 10000,\n",
              "  'Name': 'Узбекских сумов',\n",
              "  'Value': 68.4095,\n",
              "  'Previous': 68.3803},\n",
              " 'UAH': {'ID': 'R01720',\n",
              "  'NumCode': '980',\n",
              "  'CharCode': 'UAH',\n",
              "  'Nominal': 10,\n",
              "  'Name': 'Украинских гривен',\n",
              "  'Value': 26.029,\n",
              "  'Previous': 25.9925},\n",
              " 'CZK': {'ID': 'R01760',\n",
              "  'NumCode': '203',\n",
              "  'CharCode': 'CZK',\n",
              "  'Nominal': 10,\n",
              "  'Name': 'Чешских крон',\n",
              "  'Value': 29.2469,\n",
              "  'Previous': 29.4206},\n",
              " 'SEK': {'ID': 'R01770',\n",
              "  'NumCode': '752',\n",
              "  'CharCode': 'SEK',\n",
              "  'Nominal': 10,\n",
              "  'Name': 'Шведских крон',\n",
              "  'Value': 73.9299,\n",
              "  'Previous': 74.5598},\n",
              " 'CHF': {'ID': 'R01775',\n",
              "  'NumCode': '756',\n",
              "  'CharCode': 'CHF',\n",
              "  'Nominal': 1,\n",
              "  'Name': 'Швейцарский франк',\n",
              "  'Value': 73.2034,\n",
              "  'Previous': 73.3439},\n",
              " 'ZAR': {'ID': 'R01810',\n",
              "  'NumCode': '710',\n",
              "  'CharCode': 'ZAR',\n",
              "  'Nominal': 10,\n",
              "  'Name': 'Южноафриканских рэндов',\n",
              "  'Value': 39.9679,\n",
              "  'Previous': 40.422},\n",
              " 'KRW': {'ID': 'R01815',\n",
              "  'NumCode': '410',\n",
              "  'CharCode': 'KRW',\n",
              "  'Nominal': 1000,\n",
              "  'Name': 'Вон Республики Корея',\n",
              "  'Value': 57.5869,\n",
              "  'Previous': 57.5294},\n",
              " 'JPY': {'ID': 'R01820',\n",
              "  'NumCode': '392',\n",
              "  'CharCode': 'JPY',\n",
              "  'Nominal': 100,\n",
              "  'Name': 'Японских иен',\n",
              "  'Value': 65.0545,\n",
              "  'Previous': 65.0666}}"
            ]
          },
          "metadata": {
            "tags": []
          },
          "execution_count": 78
        }
      ]
    },
    {
      "cell_type": "code",
      "metadata": {
        "scrolled": true,
        "id": "9UBMD5PedqUj",
        "outputId": "1cd74d58-e2bd-479a-d759-4dbc7945c704"
      },
      "source": [
        "r.usd()"
      ],
      "execution_count": null,
      "outputs": [
        {
          "output_type": "execute_result",
          "data": {
            "text/plain": [
              "{'ID': 'R01235',\n",
              " 'NumCode': '840',\n",
              " 'CharCode': 'USD',\n",
              " 'Nominal': 1,\n",
              " 'Name': 'Доллар США',\n",
              " 'Value': 69.5725,\n",
              " 'Previous': 69.618}"
            ]
          },
          "metadata": {
            "tags": []
          },
          "execution_count": 79
        }
      ]
    },
    {
      "cell_type": "code",
      "metadata": {
        "id": "X3LkPvF0dqUj"
      },
      "source": [
        "r = Rate()"
      ],
      "execution_count": null,
      "outputs": []
    },
    {
      "cell_type": "code",
      "metadata": {
        "id": "wJFZmzMSdqUj",
        "outputId": "b281245a-8e91-49da-c3d4-efc943ca3f0d"
      },
      "source": [
        "r.usd()"
      ],
      "execution_count": null,
      "outputs": [
        {
          "output_type": "execute_result",
          "data": {
            "text/plain": [
              "69.5725"
            ]
          },
          "metadata": {
            "tags": []
          },
          "execution_count": 81
        }
      ]
    },
    {
      "cell_type": "code",
      "metadata": {
        "id": "vcJfG0YRdqUj"
      },
      "source": [
        "r.exchange_rates()"
      ],
      "execution_count": null,
      "outputs": []
    },
    {
      "cell_type": "markdown",
      "metadata": {
        "id": "t3_WDl94dqUj"
      },
      "source": [
        "Документация необходима почти всем методам"
      ]
    },
    {
      "cell_type": "code",
      "metadata": {
        "id": "mrBExAaDdqUk"
      },
      "source": [
        "?r.exchange_rates"
      ],
      "execution_count": null,
      "outputs": []
    },
    {
      "cell_type": "markdown",
      "metadata": {
        "id": "4kyKCTcadqUk"
      },
      "source": [
        "# Наследование"
      ]
    },
    {
      "cell_type": "markdown",
      "metadata": {
        "id": "5f1c8DNgdqUk"
      },
      "source": [
        "Разработчикам финансового департамента помимо курса надо работать с кодами валют. Как сохранить сохранить разработку класса Rate у нас, а полезные функции передать финансистам?"
      ]
    },
    {
      "cell_type": "code",
      "metadata": {
        "id": "MTrp9A8vdqUk"
      },
      "source": [
        "class CurrencyCodes(Rate):\n",
        "    def __init__(self):\n",
        "        super().__init__(format_='full')"
      ],
      "execution_count": null,
      "outputs": []
    },
    {
      "cell_type": "markdown",
      "metadata": {
        "id": "paQwd6AsdqUk"
      },
      "source": [
        "Теперь классу CurrencyCodes доступны все методы класса Rate. Можем продолжать разработку в нужном направлении."
      ]
    },
    {
      "cell_type": "code",
      "metadata": {
        "id": "noDGpuwIdqUk"
      },
      "source": [
        "cc = CurrencyCodes()"
      ],
      "execution_count": null,
      "outputs": []
    },
    {
      "cell_type": "code",
      "metadata": {
        "colab": {
          "base_uri": "https://localhost:8080/"
        },
        "id": "mpy3Jb8zdqUl",
        "outputId": "2f0658bc-f876-4c5d-d993-56315d9e94df"
      },
      "source": [
        "CurrencyCodes().usd()"
      ],
      "execution_count": null,
      "outputs": [
        {
          "output_type": "execute_result",
          "data": {
            "text/plain": [
              "{'CharCode': 'USD',\n",
              " 'ID': 'R01235',\n",
              " 'Name': 'Доллар США',\n",
              " 'Nominal': 1,\n",
              " 'NumCode': '840',\n",
              " 'Previous': 73.6175,\n",
              " 'Value': 73.354}"
            ]
          },
          "metadata": {
            "tags": []
          },
          "execution_count": 9
        }
      ]
    },
    {
      "cell_type": "markdown",
      "metadata": {
        "id": "GMYAcV59dqUl"
      },
      "source": [
        "Допишем в класс что-нибудь свое новенькое"
      ]
    },
    {
      "cell_type": "code",
      "metadata": {
        "id": "79AYG6MZdqUl"
      },
      "source": [
        "class CurrencyCodes(Rate):\n",
        "    def __init__(self):\n",
        "        super().__init__(format_='full')\n",
        "    \n",
        "    def currency_id(self, currency):\n",
        "        \"\"\"Получение идентификатора валюты\"\"\"\n",
        "        return self.make_format(currency)['ID']"
      ],
      "execution_count": null,
      "outputs": []
    },
    {
      "cell_type": "code",
      "metadata": {
        "id": "X5c6kf2idqUl"
      },
      "source": [
        "currency = CurrencyCodes()"
      ],
      "execution_count": null,
      "outputs": []
    },
    {
      "cell_type": "code",
      "metadata": {
        "colab": {
          "base_uri": "https://localhost:8080/",
          "height": 35
        },
        "id": "vBptem9FdqUl",
        "outputId": "a696f66a-b3fa-481b-85e1-eacf10be4728"
      },
      "source": [
        "currency.currency_id('USD')"
      ],
      "execution_count": null,
      "outputs": [
        {
          "output_type": "execute_result",
          "data": {
            "application/vnd.google.colaboratory.intrinsic+json": {
              "type": "string"
            },
            "text/plain": [
              "'R01235'"
            ]
          },
          "metadata": {
            "tags": []
          },
          "execution_count": 12
        }
      ]
    },
    {
      "cell_type": "markdown",
      "metadata": {
        "id": "hufGcYkodqUm"
      },
      "source": [
        "# Система повышения сотрудников"
      ]
    },
    {
      "cell_type": "code",
      "metadata": {
        "id": "wd2jox31dqUm"
      },
      "source": [
        "class Employee:\n",
        "    def __init__(self, name, seniority):\n",
        "        self.name = name\n",
        "        self.seniority = seniority\n",
        "        \n",
        "        self.grade = 1\n",
        "    \n",
        "    def grade_up(self):\n",
        "        \"\"\"Повышает уровень сотрудника\"\"\"\n",
        "        self.grade += 1\n",
        "    \n",
        "    def publish_grade(self):\n",
        "        \"\"\"Публикация результатов аккредитации сотрудников\"\"\"\n",
        "        print(self.name, self.grade)\n",
        "    \n",
        "    def check_if_it_is_time_for_upgrade(self):\n",
        "        pass"
      ],
      "execution_count": null,
      "outputs": []
    },
    {
      "cell_type": "code",
      "metadata": {
        "id": "qWGI4AegdqUm"
      },
      "source": [
        "class Developer(Employee):\n",
        "    def __init__(self, name, seniority):\n",
        "        super().__init__(name, seniority)\n",
        "    \n",
        "    def check_if_it_is_time_for_upgrade(self):\n",
        "        # для каждой аккредитации увеличиваем счетчик на 1\n",
        "        # пока считаем, что все разработчики проходят аккредитацию\n",
        "        self.seniority += 1\n",
        "        \n",
        "        # условие повышения сотрудника из презентации\n",
        "        if self.seniority % 5 == 0:\n",
        "            self.grade_up()\n",
        "        \n",
        "        # публикация результатов\n",
        "        return self.publish_grade()"
      ],
      "execution_count": null,
      "outputs": []
    },
    {
      "cell_type": "code",
      "metadata": {
        "id": "tNDOgY_JdqUm"
      },
      "source": [
        "# проверяем как работает система повышения сотрудников на примере отдела разработки\n",
        "\n",
        "# разработчик Александр только что пришел в компанию\n",
        "alex = Developer('Александр', 0)"
      ],
      "execution_count": null,
      "outputs": []
    },
    {
      "cell_type": "code",
      "metadata": {
        "id": "UkrSFCYSdqUm",
        "outputId": "481518b4-3f7f-4d04-ef88-e6175d9fee0b"
      },
      "source": [
        "for i in range(20):\n",
        "    alex.check_if_it_is_time_for_upgrade()"
      ],
      "execution_count": null,
      "outputs": [
        {
          "output_type": "stream",
          "text": [
            "Александр 1\n",
            "Александр 1\n",
            "Александр 1\n",
            "Александр 1\n",
            "Александр 2\n",
            "Александр 2\n",
            "Александр 2\n",
            "Александр 2\n",
            "Александр 2\n",
            "Александр 3\n",
            "Александр 3\n",
            "Александр 3\n",
            "Александр 3\n",
            "Александр 3\n",
            "Александр 4\n",
            "Александр 4\n",
            "Александр 4\n",
            "Александр 4\n",
            "Александр 4\n",
            "Александр 5\n"
          ],
          "name": "stdout"
        }
      ]
    },
    {
      "cell_type": "markdown",
      "metadata": {
        "id": "ivEvKJDidqUm"
      },
      "source": [
        "# Импорт классов и функций"
      ]
    },
    {
      "cell_type": "code",
      "metadata": {
        "id": "W5_UQqnydqUn"
      },
      "source": [
        "from libs.exchange import my_sum"
      ],
      "execution_count": null,
      "outputs": []
    },
    {
      "cell_type": "code",
      "metadata": {
        "id": "AJ9azyuodqUn",
        "outputId": "d4a66b21-afc2-4c54-d5e2-be67bf52e544"
      },
      "source": [
        "my_sum(1, 2)"
      ],
      "execution_count": null,
      "outputs": [
        {
          "output_type": "execute_result",
          "data": {
            "text/plain": [
              "3"
            ]
          },
          "metadata": {
            "tags": []
          },
          "execution_count": 94
        }
      ]
    },
    {
      "cell_type": "code",
      "metadata": {
        "id": "s-XXSjXadqUn"
      },
      "source": [
        "from libs.exchange import Rate"
      ],
      "execution_count": null,
      "outputs": []
    },
    {
      "cell_type": "code",
      "metadata": {
        "id": "Rj4V4FmidqUn",
        "outputId": "172edfcf-0d1f-461e-d0e0-062edf0bbc6b"
      },
      "source": [
        "Rate().AZN()"
      ],
      "execution_count": null,
      "outputs": [
        {
          "output_type": "execute_result",
          "data": {
            "text/plain": [
              "40.9491"
            ]
          },
          "metadata": {
            "tags": []
          },
          "execution_count": 96
        }
      ]
    },
    {
      "cell_type": "code",
      "metadata": {
        "id": "fl3hSLQkdqUn"
      },
      "source": [
        "# такой способ импорта крайне не рекомендуется\n",
        "from libs.exchange import *"
      ],
      "execution_count": null,
      "outputs": []
    },
    {
      "cell_type": "markdown",
      "metadata": {
        "id": "gkt-aMq1dqUo"
      },
      "source": [
        "Если библиотека лежит в произвольной папке"
      ]
    },
    {
      "cell_type": "code",
      "metadata": {
        "scrolled": true,
        "id": "-1W5pKv_dqUo",
        "outputId": "448fe8dc-94fe-4e6d-ea1a-46160b5190ef"
      },
      "source": [
        "import sys\n",
        "sys.path"
      ],
      "execution_count": null,
      "outputs": [
        {
          "output_type": "execute_result",
          "data": {
            "text/plain": [
              "['/Users/kbashevoy/Desktop/Нетология/Занятия/Записи/06. Классы в python',\n",
              " '/Users/kbashevoy/anaconda3/lib/python37.zip',\n",
              " '/Users/kbashevoy/anaconda3/lib/python3.7',\n",
              " '/Users/kbashevoy/anaconda3/lib/python3.7/lib-dynload',\n",
              " '',\n",
              " '/Users/kbashevoy/.local/lib/python3.7/site-packages',\n",
              " '/Users/kbashevoy/anaconda3/lib/python3.7/site-packages',\n",
              " '/Users/kbashevoy/anaconda3/lib/python3.7/site-packages/aeosa',\n",
              " '/Users/kbashevoy/anaconda3/lib/python3.7/site-packages/IPython/extensions',\n",
              " '/Users/kbashevoy/.ipython',\n",
              " '/Users/kbashevoy/Desktop/Нетология/Занятия/Записи/06. Классы в python/libs',\n",
              " 'адрес_папки_с_файлами',\n",
              " '/Users/kbashevoy/Desktop/Нетология/Занятия/Записи/06. Классы в python/libs']"
            ]
          },
          "metadata": {
            "tags": []
          },
          "execution_count": 97
        }
      ]
    },
    {
      "cell_type": "code",
      "metadata": {
        "id": "e7ZlFLIZdqUo"
      },
      "source": [
        "# пример\n",
        "\n",
        "import sys\n",
        "sys.path.append('/Users/kbashevoy/Desktop/Нетология/Занятия/Записи/06. Классы в python/libs')"
      ],
      "execution_count": null,
      "outputs": []
    },
    {
      "cell_type": "code",
      "metadata": {
        "id": "fV7ZZ64gdqUo"
      },
      "source": [
        "from exchange import my_sum"
      ],
      "execution_count": null,
      "outputs": []
    },
    {
      "cell_type": "code",
      "metadata": {
        "id": "sVW0u0wYdqUo",
        "outputId": "69966598-4e99-4ae5-aef8-88cae7c26cfd"
      },
      "source": [
        "my_sum(3, 3)"
      ],
      "execution_count": null,
      "outputs": [
        {
          "output_type": "execute_result",
          "data": {
            "text/plain": [
              "6"
            ]
          },
          "metadata": {
            "tags": []
          },
          "execution_count": 100
        }
      ]
    }
  ]
}