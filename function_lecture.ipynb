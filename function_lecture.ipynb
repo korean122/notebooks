{
  "nbformat": 4,
  "nbformat_minor": 0,
  "metadata": {
    "colab": {
      "name": "function lecture.ipynb",
      "provenance": []
    },
    "kernelspec": {
      "name": "python3",
      "display_name": "Python 3"
    },
    "language_info": {
      "name": "python"
    }
  },
  "cells": [
    {
      "cell_type": "markdown",
      "metadata": {
        "id": "w3HdJwMLPww9"
      },
      "source": [
        "лекция функции\n",
        "- что такое функция\n",
        "- обьявление функции\n",
        "- параметры\n",
        "- области видимости"
      ]
    },
    {
      "cell_type": "markdown",
      "metadata": {
        "id": "XsxksVjQPrpO"
      },
      "source": [
        "Что такое функция?\n",
        "Это некий обособленные (сложенный в ящик) кусочек кода, который можно вызвать обратившись к нему по имени. Как переменная, только содержит какой-то выполняемый код.\n",
        "\n",
        "Основаная задача избежать дублирования кода"
      ]
    },
    {
      "cell_type": "code",
      "metadata": {
        "colab": {
          "base_uri": "https://localhost:8080/",
          "height": 129
        },
        "id": "LMgQBYXlPbv9",
        "outputId": "5b55e07f-d964-4547-c619-3d9fdd95e311"
      },
      "source": [
        "def namefunc(number)\n",
        "#DEF - ключевое слово обьявление функции, namefunc это задаваемое пользователем имя функции, а значение в скобках некий параметр\n",
        "  result = number**2 \n",
        "  return result  #Все после первой строки начинающейся с def и до строки с ключевым словом return - является телом цикла. RETURN - это ключевое слово, которое выдает какое-то значение функции и ЗАВЕРШАЕТ ее работу. "
      ],
      "execution_count": null,
      "outputs": [
        {
          "output_type": "error",
          "ename": "SyntaxError",
          "evalue": "ignored",
          "traceback": [
            "\u001b[0;36m  File \u001b[0;32m\"<ipython-input-3-6fd897453ab2>\"\u001b[0;36m, line \u001b[0;32m1\u001b[0m\n\u001b[0;31m    def namefunction(number)\u001b[0m\n\u001b[0m                            ^\u001b[0m\n\u001b[0;31mSyntaxError\u001b[0m\u001b[0;31m:\u001b[0m invalid syntax\n"
          ]
        }
      ]
    },
    {
      "cell_type": "markdown",
      "metadata": {
        "id": "K9sGW6hiPZpu"
      },
      "source": [
        "ВАЖНО!!! Функция help()\n",
        "Вызывает справку по нужно й функции"
      ]
    },
    {
      "cell_type": "markdown",
      "metadata": {
        "id": "2F-pybj7UbF2"
      },
      "source": [
        "Парметры функции:\n",
        "Функция может принимать БОЛЕЕ ОДНОГО параметра, а может не принимать параметры вообще.\n",
        "Для всех параметров функций можно указывать значения по умолчанию."
      ]
    },
    {
      "cell_type": "markdown",
      "metadata": {
        "id": "OGgVIN4LU1Jl"
      },
      "source": [
        "Тип данных None означает отсутствие значения\n",
        "Если в функции нет return or (Либо) он пустой, то она возвращает значение None\n"
      ]
    },
    {
      "cell_type": "code",
      "metadata": {
        "colab": {
          "base_uri": "https://localhost:8080/"
        },
        "id": "0TWwNlleUZBu",
        "outputId": "3c765002-fb9d-4c8c-f012-fc0a9825bccc"
      },
      "source": [
        "#создаем функцию\n",
        "def square(number):\n",
        "  result = number **2\n",
        "  return result\n",
        "  #print(square(10)) в скобках мы указываем нужный параметр (тот что number) с которым будет работать тело функции, в данном случае возведение 10 в квадрат. Если параметров несколько можно писать number=10\n",
        "my_square = square(10) #можно присвоить результату функции отдельную переменную, с которой можно в дальнейшем работать как с обычной переменной.\n",
        "print (my_square)"
      ],
      "execution_count": null,
      "outputs": [
        {
          "output_type": "stream",
          "text": [
            "100\n"
          ],
          "name": "stdout"
        }
      ]
    },
    {
      "cell_type": "markdown",
      "metadata": {
        "id": "OjZy1z47W4Pc"
      },
      "source": [
        "для всех ключевых функций работает ?print, которая выводит некий docstring c описаниеv как эта функция работает."
      ]
    },
    {
      "cell_type": "code",
      "metadata": {
        "id": "vrOIWsIBXLAJ"
      },
      "source": [
        "?print"
      ],
      "execution_count": null,
      "outputs": []
    },
    {
      "cell_type": "markdown",
      "metadata": {
        "id": "ALiiUAHvXQch"
      },
      "source": [
        "такое же описание можно задать и написанной самостоятельно функции если сразу под ее названием (на следующей строке) в тройных кавычках \"\"\"указать соответствующий текст, что делает функция и какие у нее параметры\"\"\""
      ]
    },
    {
      "cell_type": "code",
      "metadata": {
        "id": "OJgbDtJWXRix"
      },
      "source": [
        "def square(number):\n",
        "  \"\"\" \n",
        "  Это учебная функция он только и делает, что возводит число в квадрат \n",
        "  \"\"\"\n",
        "  result = number **2\n",
        "  return result"
      ],
      "execution_count": null,
      "outputs": []
    },
    {
      "cell_type": "code",
      "metadata": {
        "id": "C6kJy5xyX25a"
      },
      "source": [
        "?square\n",
        "help(square)"
      ],
      "execution_count": null,
      "outputs": []
    },
    {
      "cell_type": "markdown",
      "metadata": {
        "id": "scgaHRZfX9tY"
      },
      "source": [
        "параметры в скобочках можно не указывать (def square(number)).\n",
        "Можно даже внутри функции создавать возможность ввода этого параметра"
      ]
    },
    {
      "cell_type": "code",
      "metadata": {
        "colab": {
          "base_uri": "https://localhost:8080/"
        },
        "id": "9lzMYcWJYrUe",
        "outputId": "b2bf3b6a-192d-471e-fcdc-889d05f4217c"
      },
      "source": [
        "def square_2():\n",
        "  user_input = int(input(\"insert digic\"))\n",
        "  result = user_input **2\n",
        "  return result\n",
        "square_2()"
      ],
      "execution_count": null,
      "outputs": [
        {
          "output_type": "stream",
          "text": [
            "insert digic25\n"
          ],
          "name": "stdout"
        },
        {
          "output_type": "execute_result",
          "data": {
            "text/plain": [
              "625"
            ]
          },
          "metadata": {
            "tags": []
          },
          "execution_count": 10
        }
      ]
    },
    {
      "cell_type": "markdown",
      "metadata": {
        "id": "gwfsQOSTZD2v"
      },
      "source": [
        "Функция с двумя параметрами. Тогда в скобочках указывается два параметра, но надо будет оба параметра передать в функцию. Если забудешь указать одно из значение - ОШИБКА!\n",
        "power() missing 1 required positional argument: 'number2', где number2 - это параметр который забыли ввести"
      ]
    },
    {
      "cell_type": "code",
      "metadata": {
        "colab": {
          "base_uri": "https://localhost:8080/"
        },
        "id": "DSy7JP8zZUb2",
        "outputId": "52161d1b-2f5e-4dbe-bacc-31eeb092077b"
      },
      "source": [
        "def square_3(number, number2):\n",
        "  result = number ** number2\n",
        "  return result\n",
        "square_3(10, 2)"
      ],
      "execution_count": null,
      "outputs": [
        {
          "output_type": "execute_result",
          "data": {
            "text/plain": [
              "100"
            ]
          },
          "metadata": {
            "tags": []
          },
          "execution_count": 12
        }
      ]
    },
    {
      "cell_type": "markdown",
      "metadata": {
        "id": "B8e0kiG1aK99"
      },
      "source": [
        "Функции с параметром по умолчанию. Иногда бывает так что один из параметров сегда один и тот-же - например 2, тода можно прямо прописать его в параметрах. \n",
        "Тогда можно будет вводить только одно значение функции"
      ]
    },
    {
      "cell_type": "code",
      "metadata": {
        "id": "mIKD92J3afct"
      },
      "source": [
        "def square_4(number, number2=2):\n",
        "  result = number ** number2\n",
        "  return result\n",
        "square_4(10)"
      ],
      "execution_count": null,
      "outputs": []
    },
    {
      "cell_type": "markdown",
      "metadata": {
        "id": "dHXcpSS4atJc"
      },
      "source": [
        "ВАЖНО!!! Если вы передадите два параметра, например: square_4(10, 3), то значение второго параметра ИЗМЕНИТСЯ. \n",
        "Вероятно при конкретном расчете, т.к. в коде сохраняется значение по умолчанию 2"
      ]
    },
    {
      "cell_type": "markdown",
      "metadata": {
        "id": "cIM_t5xubpi0"
      },
      "source": [
        "Можно не указывать RETURN в этом случае функция возвращает None"
      ]
    },
    {
      "cell_type": "code",
      "metadata": {
        "id": "n3nG_54vaiNd"
      },
      "source": [
        "def square_5(number):\n",
        "  result = number ** 2\n",
        "  print(result)\n",
        "print(square_5(10))"
      ],
      "execution_count": null,
      "outputs": []
    },
    {
      "cell_type": "markdown",
      "metadata": {
        "id": "cx6Gi0AazWl4"
      },
      "source": [
        "## вторая часть лекции"
      ]
    },
    {
      "cell_type": "markdown",
      "metadata": {
        "id": "j2TbmkJkza9z"
      },
      "source": [
        "Глобальные и локальные переменные. Глобальные переменные доступны в любом месте кода. Локальные переменные доступны только внутри конкретной функции.\n",
        "Внутри функции можно прописать глобальность переменной global, однако делать этого не рекомендуется.\n",
        "Правила локальных и глобальных переменных."
      ]
    },
    {
      "cell_type": "code",
      "metadata": {
        "colab": {
          "base_uri": "https://localhost:8080/"
        },
        "id": "GbpNGmcS1Md9",
        "outputId": "fde19ee7-31ca-4c3c-aeee-d854f59886e0"
      },
      "source": [
        "number = 5 #глобальная переменная за пределами за пределами функции\n",
        "power = 3 #также глобальная переменная. Она может использоваться в т.ч. в функции.\n",
        "#если переменная в этой функции не прописана в явном виде\n",
        "\n",
        "def power_2():\n",
        "    number = 6 #локальная переменная. работает только внутри этого тела функции\n",
        "    power = 2\n",
        "    return number ** power\n",
        "\n",
        "print(power_2()) #соответственно и результат этих двух принтов будет разным. Внутри функции одни значения, за ее пределами другие.\n",
        "print(number**power)"
      ],
      "execution_count": null,
      "outputs": [
        {
          "output_type": "stream",
          "text": [
            "36\n",
            "125\n"
          ],
          "name": "stdout"
        }
      ]
    },
    {
      "cell_type": "markdown",
      "metadata": {
        "id": "dnZWnRT52G-a"
      },
      "source": [
        "если же одна переменная будет за пределами функции, а другая будет явно прописана внутри тела функции. То интерпретатор сначала ищет внутри функции, а затем за ее пределами. Т.е. используется локальная и глобальная переменная."
      ]
    },
    {
      "cell_type": "markdown",
      "metadata": {
        "id": "lJHvyCAZ21Lj"
      },
      "source": [
        "ВАЖНО! Если написать внутри функции переменную, а затем за пределами функции попытаться ее вызвать, то появится ошибка\n",
        "**name 'number...' is not defined**\n",
        "Исключение если обьявить переменную внутри функции но перед этим поставитб оператор global, то она станет доступной по всему коду.\n",
        "В этом случае, если есть одноименная переменная за пределами функции, ее значение изменится."
      ]
    },
    {
      "cell_type": "markdown",
      "metadata": {
        "id": "BodsBroR30g2"
      },
      "source": [
        "## lambda функции"
      ]
    },
    {
      "cell_type": "markdown",
      "metadata": {
        "id": "pW-C6snq3UzC"
      },
      "source": [
        ""
      ]
    },
    {
      "cell_type": "code",
      "metadata": {
        "id": "MEfccT8Q4UJi"
      },
      "source": [
        "#обычное описание функции\n",
        "def func(x, y):\n",
        "  return x + y"
      ],
      "execution_count": null,
      "outputs": []
    },
    {
      "cell_type": "code",
      "metadata": {
        "id": "Cek_4Z0B4gpo"
      },
      "source": [
        "#может быть заменено на однострочный ввод с помощью анонимной функции lambda\n",
        "func = lambda x, y: x + y\n",
        "#эта запись будет равносильна верхней - обычной записи функции."
      ],
      "execution_count": null,
      "outputs": []
    },
    {
      "cell_type": "code",
      "metadata": {
        "colab": {
          "base_uri": "https://localhost:8080/"
        },
        "id": "k_bIsMeD5Dea",
        "outputId": "154b7062-f731-4742-9e17-05c012f10947"
      },
      "source": [
        "#пример\n",
        "nums = [1, 2, 3, 4, 5, 6]\n",
        "odd_even_numbers = lambda x: 'even' if x % 2 == 0 else 'odd'\n",
        "for num in nums:\n",
        "  print(odd_even_numbers(num))"
      ],
      "execution_count": null,
      "outputs": [
        {
          "output_type": "stream",
          "text": [
            "odd\n",
            "even\n",
            "odd\n",
            "even\n",
            "odd\n",
            "even\n"
          ],
          "name": "stdout"
        }
      ]
    },
    {
      "cell_type": "code",
      "metadata": {
        "colab": {
          "base_uri": "https://localhost:8080/"
        },
        "id": "eNWXEwqk6D55",
        "outputId": "426c39c1-0441-4aca-a1c7-8675dccec3dc"
      },
      "source": [
        "#попробовать написать функцию классическим способом\n",
        "nums = [1, 2, 3, 4, 5, 6]\n",
        "def odd_even_numbers(nums):\n",
        "    if num % 2 == 0:\n",
        "      return ('even')\n",
        "    else:\n",
        "      return ('odd')\n",
        "\n",
        "for num in nums:  \n",
        "  print(odd_even_numbers(num))  #почему в ответе None&&&"
      ],
      "execution_count": null,
      "outputs": [
        {
          "output_type": "stream",
          "text": [
            "odd\n",
            "even\n",
            "odd\n",
            "even\n",
            "odd\n",
            "even\n"
          ],
          "name": "stdout"
        }
      ]
    },
    {
      "cell_type": "markdown",
      "metadata": {
        "id": "UqRyx3gK805Z"
      },
      "source": [
        "## Функция MAP\n",
        "используется для применения функции к каждому элементу итерируемого объекта (например, списка или словаря)"
      ]
    },
    {
      "cell_type": "code",
      "metadata": {
        "colab": {
          "base_uri": "https://localhost:8080/"
        },
        "id": "U_V5TjPg86nd",
        "outputId": "72a47c68-a1e3-4e02-bb2b-b312a542b58b"
      },
      "source": [
        "list(map(odd_even_numbers, nums))\n",
        "#map берет функцию и применяет ее к какому-то списку."
      ],
      "execution_count": null,
      "outputs": [
        {
          "output_type": "execute_result",
          "data": {
            "text/plain": [
              "['odd', 'even', 'odd', 'even', 'odd', 'even']"
            ]
          },
          "metadata": {
            "tags": []
          },
          "execution_count": 32
        }
      ]
    },
    {
      "cell_type": "markdown",
      "metadata": {
        "id": "UVROT96_BNqg"
      },
      "source": [
        "map() может использоваться вместо цикла for позволяя применить функциию к каждому элементу итерируемого объекта. "
      ]
    },
    {
      "cell_type": "code",
      "metadata": {
        "colab": {
          "base_uri": "https://localhost:8080/"
        },
        "id": "Wo78ZBGn_GEV",
        "outputId": "dbfd1e70-16d7-464b-bf38-b6763d451f17"
      },
      "source": [
        "#можно обьявить обьект списком таким способом\n",
        "[odd_even_numbers(num) for num in nums]"
      ],
      "execution_count": null,
      "outputs": [
        {
          "output_type": "execute_result",
          "data": {
            "text/plain": [
              "['odd', 'even', 'odd', 'even', 'odd', 'even']"
            ]
          },
          "metadata": {
            "tags": []
          },
          "execution_count": 54
        }
      ]
    },
    {
      "cell_type": "markdown",
      "metadata": {
        "id": "VASsLSa1Bg5P"
      },
      "source": [
        "## Третья лекция Аргументы"
      ]
    },
    {
      "cell_type": "markdown",
      "metadata": {
        "id": "p7wvoeAIVHVK"
      },
      "source": [
        "Бывают задачи где количество аргументов неизвестно. Например: когда вы реализуете какой нибудь отчет. Данные беруться из БД и в данном случае набор параметров может быть вообще любым.\n",
        "В Python это можно сделать двумя способами:\n",
        "Как передать неизвестное количество параметров?\n",
        "Как это выглядит в коде\n",
        "Args и kwargs"
      ]
    },
    {
      "cell_type": "code",
      "metadata": {
        "id": "I4CoievXVGkv"
      },
      "source": [
        ""
      ],
      "execution_count": null,
      "outputs": []
    },
    {
      "cell_type": "code",
      "metadata": {
        "colab": {
          "base_uri": "https://localhost:8080/",
          "height": 180
        },
        "id": "6n9QFAFjWPD2",
        "outputId": "51cfe3dc-cf58-47a9-b37b-7bcfc9dd9462"
      },
      "source": [
        ""
      ],
      "execution_count": null,
      "outputs": [
        {
          "output_type": "error",
          "ename": "NameError",
          "evalue": "ignored",
          "traceback": [
            "\u001b[0;31m---------------------------------------------------------------------------\u001b[0m",
            "\u001b[0;31mNameError\u001b[0m                                 Traceback (most recent call last)",
            "\u001b[0;32m<ipython-input-1-aa18f456636b>\u001b[0m in \u001b[0;36m<module>\u001b[0;34m()\u001b[0m\n\u001b[0;32m----> 1\u001b[0;31m \u001b[0mapi_request\u001b[0m\u001b[0;34m(\u001b[0m\u001b[0mdate\u001b[0m\u001b[0;34m=\u001b[0m\u001b[0;36m1\u001b[0m\u001b[0;34m,\u001b[0m \u001b[0mreport\u001b[0m\u001b[0;34m=\u001b[0m\u001b[0;36m2\u001b[0m\u001b[0;34m,\u001b[0m \u001b[0moutput\u001b[0m\u001b[0;34m=\u001b[0m\u001b[0;36m3\u001b[0m\u001b[0;34m)\u001b[0m \u001b[0;31m#Нужно каждой переменной присвоить имя, но зато писать их можно в произвольном порядке и python поймет, что report это 2 переменная, а date 1.\u001b[0m\u001b[0;34m\u001b[0m\u001b[0;34m\u001b[0m\u001b[0m\n\u001b[0m",
            "\u001b[0;31mNameError\u001b[0m: name 'api_request' is not defined"
          ]
        }
      ]
    },
    {
      "cell_type": "markdown",
      "metadata": {
        "id": "HDZBRxXAWst6"
      },
      "source": [
        "api_request(1, 2, 3) #позиционный аргумент. Когда задается некое количество параметров 1,2,3\n",
        "---\n",
        "api_request(date=1, report=2, output=3) #Нужно каждой переменной присвоить имя, но зато писать их можно в произвольном порядке и python поймет, что report это 2 переменная, а date 1.\n",
        "---\n",
        "В первом случае (1,2,3) можно заменить на название некого списка *args со знаком одной звездочки\n",
        "Во втором случае (date=1, report=2, output=3) можно создать список пар и обозначить его **kwargs с двумя звездочками (потому что они пара: имя и номер). \n",
        "\n"
      ]
    },
    {
      "cell_type": "code",
      "metadata": {
        "id": "arU02SUzYDmL"
      },
      "source": [
        "#Пример\n",
        "def api_request(*params):\n",
        "  date_start = params[0]\n",
        "  date_end = params[1]\n",
        "  print(params)\n",
        "  print(date_start, date_end)"
      ],
      "execution_count": null,
      "outputs": []
    },
    {
      "cell_type": "code",
      "metadata": {
        "colab": {
          "base_uri": "https://localhost:8080/"
        },
        "id": "2X6T5G8DZmRI",
        "outputId": "0bfac960-fe62-4c61-b239-061b0b66a4cd"
      },
      "source": [
        "api_request('2019-01-01', '2019-01-31', 'abvgdeej', 'пупырка') #Получится кортеж параметров."
      ],
      "execution_count": null,
      "outputs": [
        {
          "output_type": "stream",
          "text": [
            "('2019-01-01', '2019-01-31', 'abvgdeej', 'пупырка')\n",
            "2019-01-01 2019-01-31\n"
          ],
          "name": "stdout"
        }
      ]
    },
    {
      "cell_type": "code",
      "metadata": {
        "id": "zXDojKrfYz7x"
      },
      "source": [
        "def api_request(**params):\n",
        "  return params"
      ],
      "execution_count": null,
      "outputs": []
    },
    {
      "cell_type": "code",
      "metadata": {
        "colab": {
          "base_uri": "https://localhost:8080/"
        },
        "id": "ZQPOaFmLZG26",
        "outputId": "7e2a2d24-18ee-4607-ea1f-5611e377c064"
      },
      "source": [
        "api_request(a=1, b=2, c=3) #значение params стало словарем, где каждому значению присвоен ключ и значение"
      ],
      "execution_count": null,
      "outputs": [
        {
          "output_type": "execute_result",
          "data": {
            "text/plain": [
              "{'a': 1, 'b': 2, 'c': 3}"
            ]
          },
          "metadata": {
            "tags": []
          },
          "execution_count": 6
        }
      ]
    },
    {
      "cell_type": "code",
      "metadata": {
        "id": "q5H8kim6Zhcr"
      },
      "source": [
        "def api_request(**params):\n",
        "  date_start = params['date_start']\n",
        "  date_end = params['date_end']\n",
        "  print(params)\n",
        "  print(date_start, date_end) #В этом случае функция будет искать значение по соответствующему названию ключа, независимо от того где находятся эти значения."
      ],
      "execution_count": null,
      "outputs": []
    },
    {
      "cell_type": "code",
      "metadata": {
        "colab": {
          "base_uri": "https://localhost:8080/"
        },
        "id": "jG-BU6YcZtUm",
        "outputId": "f17b1870-382d-47b4-d0ee-1d51562655b0"
      },
      "source": [
        "api_request(date_start='2019-01-01', date_end='2019-01-31')"
      ],
      "execution_count": null,
      "outputs": [
        {
          "output_type": "stream",
          "text": [
            "{'date_start': '2019-01-01', 'date_end': '2019-01-31'}\n",
            "2019-01-01 2019-01-31\n"
          ],
          "name": "stdout"
        }
      ]
    },
    {
      "cell_type": "markdown",
      "metadata": {
        "id": "JbZAZ9JHa4Sl"
      },
      "source": [
        "Практика"
      ]
    },
    {
      "cell_type": "code",
      "metadata": {
        "id": "7I86mA68a5ak"
      },
      "source": [
        ""
      ],
      "execution_count": null,
      "outputs": []
    }
  ]
}