{
  "nbformat": 4,
  "nbformat_minor": 0,
  "metadata": {
    "colab": {
      "name": "лекция 07062021.ipynb",
      "provenance": []
    },
    "kernelspec": {
      "name": "python3",
      "display_name": "Python 3"
    },
    "language_info": {
      "name": "python"
    }
  },
  "cells": [
    {
      "cell_type": "code",
      "metadata": {
        "colab": {
          "base_uri": "https://localhost:8080/"
        },
        "id": "LTZjL4T5kaj7",
        "outputId": "a469607f-0c7a-40bc-e145-4c305e0522f4"
      },
      "source": [
        "#удалить из словаря все пустые элементы\n",
        "my_dict = {\n",
        "'id1': 123568,\n",
        "'id2': 123456,\n",
        "'id3': None,\n",
        "}\n",
        "val = my_dict.pop(\"x\", 'None')\n",
        "print (val)\n",
        "#находит значение None, но как удалить строку?\n"
      ],
      "execution_count": null,
      "outputs": [
        {
          "output_type": "stream",
          "text": [
            "None\n"
          ],
          "name": "stdout"
        }
      ]
    },
    {
      "cell_type": "code",
      "metadata": {
        "colab": {
          "base_uri": "https://localhost:8080/"
        },
        "id": "_vjVtLLE2rLF",
        "outputId": "b0e8f738-bc5e-44d2-fb12-2c48f25e64cf"
      },
      "source": [
        "#удалить из словаря все пустые элементы\n",
        "my_dict = {\n",
        "'id1': 123568,\n",
        "'id2': 123456,\n",
        "'id3': None,\n",
        "'id4': 9876,\n",
        "}\n",
        "val = my_dict.popitem()\n",
        "print (val)\n",
        "#показывает последнее значение в словаре. \n"
      ],
      "execution_count": null,
      "outputs": [
        {
          "output_type": "stream",
          "text": [
            "('id4', 9876)\n"
          ],
          "name": "stdout"
        }
      ]
    },
    {
      "cell_type": "code",
      "metadata": {
        "colab": {
          "base_uri": "https://localhost:8080/"
        },
        "id": "c9CXYHl_3-Zc",
        "outputId": "70f7f555-b5c0-482d-8c14-f6aa8bb28f06"
      },
      "source": [
        "#удалить из словаря все пустые элементы\n",
        "my_dict = {\n",
        "'id1': 123568,\n",
        "'id2': 123456,\n",
        "'id3': None,\n",
        "'id4': 9876,\n",
        "}\n",
        "del my_dict['id1']\n",
        "print(my_dict)\n",
        "\n",
        "#удаляет значение по ключу"
      ],
      "execution_count": null,
      "outputs": [
        {
          "output_type": "stream",
          "text": [
            "{'id2': 123456, 'id3': None, 'id4': 9876}\n"
          ],
          "name": "stdout"
        }
      ]
    },
    {
      "cell_type": "code",
      "metadata": {
        "colab": {
          "base_uri": "https://localhost:8080/"
        },
        "id": "YC-NVunR4ik6",
        "outputId": "f0e76cc2-7eb7-49a9-f30e-76c113a7c26d"
      },
      "source": [
        "#удалить из словаря все пустые элементы\n",
        "my_dict = {\n",
        "'id1': 123568,\n",
        "'id2': 123456,\n",
        "'id3': None,\n",
        "'id4': 9876,\n",
        "}\n",
        "res = {i: j for i, j in my_dict.items() if j != None} #Оставляем ключ и значение не изменными, для каждого из кортежей (items - возвращает значение пары ключ значение), т.е. ключа и значения нашего словаря если значение j не равно None\n",
        "res"
      ],
      "execution_count": null,
      "outputs": [
        {
          "output_type": "execute_result",
          "data": {
            "text/plain": [
              "{'id1': 123568, 'id2': 123456, 'id4': 9876}"
            ]
          },
          "metadata": {
            "tags": []
          },
          "execution_count": 36
        }
      ]
    },
    {
      "cell_type": "code",
      "metadata": {
        "id": "mZGLxG26807t"
      },
      "source": [
        "data = [\n",
        "        [13, 25, 23, 17],\n",
        "        [45, 32, 44, 43],\n",
        "        [12, 33, 23, 87],\n",
        "        [13, 53, 45, 32],\n",
        "\n",
        "]\n",
        "#найти и сложить цифры по диагонали"
      ],
      "execution_count": null,
      "outputs": []
    },
    {
      "cell_type": "code",
      "metadata": {
        "colab": {
          "base_uri": "https://localhost:8080/"
        },
        "id": "K4I2UO_05W4J",
        "outputId": "7057a2c2-5557-4fe8-f2e7-0c678061f8c9"
      },
      "source": [
        "#решение через цикл\n",
        "i = 0\n",
        "summ = 0\n",
        "for row in data:\n",
        "  summ += row[i]\n",
        "  i += 1\n",
        "summ"
      ],
      "execution_count": null,
      "outputs": [
        {
          "output_type": "execute_result",
          "data": {
            "text/plain": [
              "100"
            ]
          },
          "metadata": {
            "tags": []
          },
          "execution_count": 40
        }
      ]
    },
    {
      "cell_type": "code",
      "metadata": {
        "colab": {
          "base_uri": "https://localhost:8080/"
        },
        "id": "uje-BcIG9sNs",
        "outputId": "077e2dab-33ba-414b-e8c9-cb1f5f7b8064"
      },
      "source": [
        "#напишем тоже самое в одну строку\n",
        "sum([row[i] for i, row in enumerate(data)]) #возьми индекс по нужной строке, итерируясь по индексу каждой строки через функцию enumerate, так как функция получает индекс и сам элемент при переборе. потом вме это суммируем\n"
      ],
      "execution_count": null,
      "outputs": [
        {
          "output_type": "execute_result",
          "data": {
            "text/plain": [
              "132"
            ]
          },
          "metadata": {
            "tags": []
          },
          "execution_count": 48
        }
      ]
    },
    {
      "cell_type": "code",
      "metadata": {
        "colab": {
          "base_uri": "https://localhost:8080/"
        },
        "id": "eeFKrr4f_8_n",
        "outputId": "dd049b14-038c-4e11-ed17-df9461f5405b"
      },
      "source": [
        "\n",
        "sum([row[-i-1] for i, row in enumerate(data)]) #Поскольку индексация начинается с нуля, нам надо из минус 1 вычесть единицу\n"
      ],
      "execution_count": null,
      "outputs": [
        {
          "output_type": "execute_result",
          "data": {
            "text/plain": [
              "107"
            ]
          },
          "metadata": {
            "tags": []
          },
          "execution_count": 53
        }
      ]
    },
    {
      "cell_type": "code",
      "metadata": {
        "colab": {
          "base_uri": "https://localhost:8080/"
        },
        "id": "XW-X3Diu-aiy",
        "outputId": "26da1c7f-1ee4-46c9-9d39-5a4967d8535d"
      },
      "source": [
        "list(enumerate(data)) #кортежи где нулевым элементом является индекс, а первым индексом является сам элемент"
      ],
      "execution_count": null,
      "outputs": [
        {
          "output_type": "execute_result",
          "data": {
            "text/plain": [
              "[(0, [13, 25, 23, 17]),\n",
              " (1, [45, 32, 44, 43]),\n",
              " (2, [12, 33, 23, 87]),\n",
              " (3, [13, 53, 45, 32])]"
            ]
          },
          "metadata": {
            "tags": []
          },
          "execution_count": 42
        }
      ]
    },
    {
      "cell_type": "code",
      "metadata": {
        "colab": {
          "base_uri": "https://localhost:8080/",
          "height": 129
        },
        "id": "YJ8gDwE_Bi_E",
        "outputId": "c03f5481-cb6b-4e3f-e831-46ef28554f72"
      },
      "source": [
        "#Вывести в формет \"слово\": \"количество вхождений\". за резделитель считаем пробел, все слова приводим к нижнему регистру (upper\n",
        "some_oxy_text = '''Весь мой рэп, если коротко, про то, что\n",
        "Уж который год который город под подошвой\n",
        "В гору когда прёт, потом под гору? когда тошно\n",
        "Я не то что Гулливер, но всё же город под подошвой\n",
        "Город под подошвой, город под подошвой\n",
        "Светофоры, госпошлины, сборы и таможни\n",
        "Я не знаю, вброд или на дно эта дорожка,\n",
        "Ты живёшь под каблуком, у меня город под подошвой'''\n",
        "\n",
        "  word"
      ],
      "execution_count": null,
      "outputs": [
        {
          "output_type": "error",
          "ename": "SyntaxError",
          "evalue": "ignored",
          "traceback": [
            "\u001b[0;36m  File \u001b[0;32m\"<ipython-input-72-841ee0193cc5>\"\u001b[0;36m, line \u001b[0;32m10\u001b[0m\n\u001b[0;31m    (for word in some_oxy_text.lower().replace(',', '').replace('\\n, '').split():)\u001b[0m\n\u001b[0m       ^\u001b[0m\n\u001b[0;31mSyntaxError\u001b[0m\u001b[0;31m:\u001b[0m invalid syntax\n"
          ]
        }
      ]
    },
    {
      "cell_type": "code",
      "metadata": {
        "colab": {
          "base_uri": "https://localhost:8080/"
        },
        "id": "83Kx5O2fEquO",
        "outputId": "0c21cbb3-7317-40be-82ea-7b041cccdbca"
      },
      "source": [
        "some_oxy_text = '''\n",
        "Весь мой рэп, если коротко, про то, что\n",
        "Уж который год который город под подошвой\n",
        "В гору когда прёт, потом под гору? когда тошно\n",
        "Я не то что Гулливер, но всё же город под подошвой\n",
        "Город под подошвой, город под подошвой\n",
        "Светофоры, госпошлины, сборы и таможни\n",
        "Я не знаю, вброд или на дно эта дорожка,\n",
        "Ты живёшь под каблуком, у меня город под подошвой\n",
        "'''\n",
        "#разложить на список слов и посчитать количество вхождений\n",
        "res = {}\n",
        "for word in some_oxy_text.lower().replace(',', '').replace('\\n', ' ').replace('-', '').split(): #Сначала_к_списку_мы_должны_применить_реплейс_и_только_затем_сплит_т.к. после него у нас будет список к которому нельзя применить метод реплейс\n",
        "    if word in res:\n",
        "        res[word] +=1 #то я буду соответствующее значение по ключу наращивать на один\n",
        "    else: \n",
        "        res[word] = 1 #Иначе я буду инициализировать соответствующую пару значением один???\n",
        "for word, count in res.items():\n",
        "  print(f'{word}: {count}')\n",
        "#теперь заведем пустой словарь (над циклом)"
      ],
      "execution_count": null,
      "outputs": [
        {
          "output_type": "stream",
          "text": [
            "весь: 1\n",
            "мой: 1\n",
            "рэп: 1\n",
            "если: 1\n",
            "коротко: 1\n",
            "про: 1\n",
            "то: 2\n",
            "чтоуж: 1\n",
            "который: 2\n",
            "год: 1\n",
            "город: 4\n",
            "под: 7\n",
            "подошвойв: 1\n",
            "гору: 1\n",
            "когда: 2\n",
            "прёт: 1\n",
            "потом: 1\n",
            "гору?: 1\n",
            "тошноя: 1\n",
            "не: 2\n",
            "что: 1\n",
            "гулливер: 1\n",
            "но: 1\n",
            "всё: 1\n",
            "же: 1\n",
            "подошвойгород: 1\n",
            "подошвой: 2\n",
            "подошвойсветофоры: 1\n",
            "госпошлины: 1\n",
            "сборы: 1\n",
            "и: 1\n",
            "таможния: 1\n",
            "знаю: 1\n",
            "вброд: 1\n",
            "или: 1\n",
            "на: 1\n",
            "дно: 1\n",
            "эта: 1\n",
            "дорожкаты: 1\n",
            "живёшь: 1\n",
            "каблуком: 1\n",
            "у: 1\n",
            "меня: 1\n"
          ],
          "name": "stdout"
        }
      ]
    },
    {
      "cell_type": "code",
      "metadata": {
        "id": "-38g3-VzIa8a"
      },
      "source": [
        ""
      ],
      "execution_count": null,
      "outputs": []
    },
    {
      "cell_type": "markdown",
      "metadata": {
        "id": "S7dJTg4KDY3x"
      },
      "source": [
        "#разложить на список слов и посчитать количество вхождений\n",
        "#Сначала_к_списку_мы_должны_применить_реплейс_и_только_затем_сплит_т.к. после него у нас будет список к которому нельзя применить метод реплейс"
      ]
    }
  ]
}