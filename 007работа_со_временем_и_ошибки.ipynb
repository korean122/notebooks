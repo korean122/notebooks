{
  "nbformat": 4,
  "nbformat_minor": 0,
  "metadata": {
    "colab": {
      "name": "007работа со временем и ошибки.ipynb",
      "provenance": [],
      "collapsed_sections": []
    },
    "kernelspec": {
      "name": "python3",
      "display_name": "Python 3"
    },
    "language_info": {
      "name": "python"
    }
  },
  "cells": [
    {
      "cell_type": "markdown",
      "metadata": {
        "id": "ylHGCrzNaNiO"
      },
      "source": [
        "**Видео ...\"Время в Python часть 1\"**"
      ]
    },
    {
      "cell_type": "markdown",
      "metadata": {
        "id": "q5aAO-S3RCXw"
      },
      "source": [
        "заблуждение разработчиков к ... поисковик"
      ]
    },
    {
      "cell_type": "markdown",
      "metadata": {
        "id": "xw-kVyo4RGlH"
      },
      "source": [
        "Что такое сутки с техническое точки зрения\n",
        "- оборот земли вокруг оси (как измерить и он еще и постоянно замедляется)\n",
        "- сверхточное время на основе показаний атомных часов.\n",
        "Для навигации точное время очень критично\n"
      ]
    },
    {
      "cell_type": "markdown",
      "metadata": {
        "id": "8sXfkXDqaVkU"
      },
      "source": [
        "**Видео ... \"Обработка ошибок\"**"
      ]
    },
    {
      "cell_type": "markdown",
      "metadata": {
        "id": "x3ztkig4bdl7"
      },
      "source": [
        "# Обработка ошибок\n",
        "1. Текст ошибки указывается в последней строчке\n",
        "2. Все что перед ней - место, где ошибка произошла\n",
        "3. Есть встроенные типы ошибок, но можно создавать и свои"
      ]
    },
    {
      "cell_type": "markdown",
      "metadata": {
        "id": "3lD9NXbNbF3j"
      },
      "source": [
        "Некоторые типы ошибок из документации (точнее [перевода](https://pythonworld.ru/tipy-dannyx-v-python/isklyucheniya-v-python-konstrukciya-try-except-dlya-obrabotki-isklyuchenij.html)):\n",
        "- ZeroDivisionError - деление на ноль\n",
        "- ImportError - не удалось импортирование модуля или его атрибута (надо установить эту библиотеку)\n",
        "- IndexError - индекс не входит в диапазон элементов.\n",
        "- KeyError - несуществующий ключ (в словаре, множестве или другом объекте)\n",
        "- MemoryError - недостаточно памяти\n",
        "- SyntaxError - синтаксическая ошибка (вы опечатались или не закрыли скобку)\n",
        "- TypeError - операция применена к объекту несоответствующего типа\n",
        "- ValueError - функция получает аргумент правильного типа, но некорректного значения\n",
        "- Warning - предупреждение (текст на красном фоне в юпитере это предупреждение, а не ошибка)"
      ]
    },
    {
      "cell_type": "code",
      "metadata": {
        "id": "dVQENO0Bbdl-"
      },
      "source": [
        "# эту строку можно перевести в число\n",
        "some_num = '123'"
      ],
      "execution_count": null,
      "outputs": []
    },
    {
      "cell_type": "code",
      "metadata": {
        "id": "zduyrMv_bdmA",
        "outputId": "0a9ba87d-1df4-443f-de35-262ab341ea70"
      },
      "source": [
        "float(some_num)"
      ],
      "execution_count": null,
      "outputs": [
        {
          "output_type": "execute_result",
          "data": {
            "text/plain": [
              "123.0"
            ]
          },
          "metadata": {
            "tags": []
          },
          "execution_count": 2
        }
      ]
    },
    {
      "cell_type": "code",
      "metadata": {
        "id": "PSh8A4SvbdmD"
      },
      "source": [
        "# а эту уже нет (по крайней мере в десятичном счислении)\n",
        "ups = '123a'"
      ],
      "execution_count": null,
      "outputs": []
    },
    {
      "cell_type": "code",
      "metadata": {
        "scrolled": true,
        "id": "lkVdpxcAbdmF",
        "outputId": "d1c64b10-4e64-4c76-f444-a1d5588d1d3a"
      },
      "source": [
        "# ValueError - тип ошибки, далее пояснение что произошло\n",
        "# ----> 1 float(ups) - в каком месте кода произошла ошибка\n",
        "float(ups)"
      ],
      "execution_count": null,
      "outputs": [
        {
          "output_type": "error",
          "ename": "ValueError",
          "evalue": "could not convert string to float: '123a'",
          "traceback": [
            "\u001b[0;31m---------------------------------------------------------------------------\u001b[0m",
            "\u001b[0;31mValueError\u001b[0m                                Traceback (most recent call last)",
            "\u001b[0;32m<ipython-input-4-b5e45a6d52d0>\u001b[0m in \u001b[0;36m<module>\u001b[0;34m\u001b[0m\n\u001b[1;32m      1\u001b[0m \u001b[0;31m# ValueError - тип ошибки, далее пояснение что произошло\u001b[0m\u001b[0;34m\u001b[0m\u001b[0;34m\u001b[0m\u001b[0m\n\u001b[1;32m      2\u001b[0m \u001b[0;31m# ----> 1 float(ups) - в каком месте кода произошла ошибка\u001b[0m\u001b[0;34m\u001b[0m\u001b[0;34m\u001b[0m\u001b[0m\n\u001b[0;32m----> 3\u001b[0;31m \u001b[0mfloat\u001b[0m\u001b[0;34m(\u001b[0m\u001b[0mups\u001b[0m\u001b[0;34m)\u001b[0m\u001b[0;34m\u001b[0m\u001b[0m\n\u001b[0m",
            "\u001b[0;31mValueError\u001b[0m: could not convert string to float: '123a'"
          ]
        }
      ]
    },
    {
      "cell_type": "markdown",
      "metadata": {
        "id": "otfytvx2bdmG"
      },
      "source": [
        "Пример ошибки внутри функции"
      ]
    },
    {
      "cell_type": "code",
      "metadata": {
        "id": "Fx6_CiafbdmG"
      },
      "source": [
        "def square_sum(*args):\n",
        "    total_sum = 0\n",
        "    for arg in args:\n",
        "        print(arg)\n",
        "        total_sum += arg**2\n",
        "    \n",
        "    return total_sum"
      ],
      "execution_count": null,
      "outputs": []
    },
    {
      "cell_type": "code",
      "metadata": {
        "id": "Pduj_KoobdmH",
        "outputId": "dcfddf6d-9006-42f3-cfb1-274e99db8d4e"
      },
      "source": [
        "square_sum(1, 2, 3)"
      ],
      "execution_count": null,
      "outputs": [
        {
          "output_type": "execute_result",
          "data": {
            "text/plain": [
              "14"
            ]
          },
          "metadata": {
            "tags": []
          },
          "execution_count": 6
        }
      ]
    },
    {
      "cell_type": "code",
      "metadata": {
        "id": "4KNUxOgUbdmI",
        "outputId": "74a8b021-350a-473c-981b-79911619084b"
      },
      "source": [
        "# пытаемся применить к операцию возведения в квадрат к строке\n",
        "# ----> 1 square_sum(1, 2, '3') - в какой функции произошла ошибка\n",
        "# ----> 4         total_sum += arg**2 - в какой именно строке произошла ошибка\n",
        "\n",
        "square_sum(1, 2, '3')"
      ],
      "execution_count": null,
      "outputs": [
        {
          "output_type": "stream",
          "text": [
            "1\n",
            "2\n",
            "3\n"
          ],
          "name": "stdout"
        },
        {
          "output_type": "error",
          "ename": "TypeError",
          "evalue": "unsupported operand type(s) for ** or pow(): 'str' and 'int'",
          "traceback": [
            "\u001b[0;31m---------------------------------------------------------------------------\u001b[0m",
            "\u001b[0;31mTypeError\u001b[0m                                 Traceback (most recent call last)",
            "\u001b[0;32m<ipython-input-9-7189647907b6>\u001b[0m in \u001b[0;36m<module>\u001b[0;34m\u001b[0m\n\u001b[1;32m      3\u001b[0m \u001b[0;31m# ----> 4         total_sum += arg**2 - в какой именно строке произошла ошибка\u001b[0m\u001b[0;34m\u001b[0m\u001b[0;34m\u001b[0m\u001b[0m\n\u001b[1;32m      4\u001b[0m \u001b[0;34m\u001b[0m\u001b[0m\n\u001b[0;32m----> 5\u001b[0;31m \u001b[0msquare_sum\u001b[0m\u001b[0;34m(\u001b[0m\u001b[0;36m1\u001b[0m\u001b[0;34m,\u001b[0m \u001b[0;36m2\u001b[0m\u001b[0;34m,\u001b[0m \u001b[0;34m'3'\u001b[0m\u001b[0;34m)\u001b[0m\u001b[0;34m\u001b[0m\u001b[0m\n\u001b[0m",
            "\u001b[0;32m<ipython-input-8-0f60c0b38293>\u001b[0m in \u001b[0;36msquare_sum\u001b[0;34m(*args)\u001b[0m\n\u001b[1;32m      3\u001b[0m     \u001b[0;32mfor\u001b[0m \u001b[0marg\u001b[0m \u001b[0;32min\u001b[0m \u001b[0margs\u001b[0m\u001b[0;34m:\u001b[0m\u001b[0;34m\u001b[0m\u001b[0m\n\u001b[1;32m      4\u001b[0m         \u001b[0mprint\u001b[0m\u001b[0;34m(\u001b[0m\u001b[0marg\u001b[0m\u001b[0;34m)\u001b[0m\u001b[0;34m\u001b[0m\u001b[0m\n\u001b[0;32m----> 5\u001b[0;31m         \u001b[0mtotal_sum\u001b[0m \u001b[0;34m+=\u001b[0m \u001b[0marg\u001b[0m\u001b[0;34m**\u001b[0m\u001b[0;36m2\u001b[0m\u001b[0;34m\u001b[0m\u001b[0m\n\u001b[0m\u001b[1;32m      6\u001b[0m \u001b[0;34m\u001b[0m\u001b[0m\n\u001b[1;32m      7\u001b[0m     \u001b[0;32mreturn\u001b[0m \u001b[0mtotal_sum\u001b[0m\u001b[0;34m\u001b[0m\u001b[0m\n",
            "\u001b[0;31mTypeError\u001b[0m: unsupported operand type(s) for ** or pow(): 'str' and 'int'"
          ]
        }
      ]
    },
    {
      "cell_type": "markdown",
      "metadata": {
        "id": "dobOa0kibdmI"
      },
      "source": [
        "## Как сделать, чтобы цикл с расчетом не падал каждый раз"
      ]
    },
    {
      "cell_type": "code",
      "metadata": {
        "id": "MwyEGhlfbdmJ",
        "outputId": "d0dcae01-1750-49a8-e418-6690d4c1cafa"
      },
      "source": [
        "try:\n",
        "    # ваш код, где может произойти ошибка\n",
        "    float('123a')\n",
        "\n",
        "except:\n",
        "    # код, который выполняется в случае ошибки\n",
        "    print('Кривая строка')\n",
        "    pass"
      ],
      "execution_count": null,
      "outputs": [
        {
          "output_type": "stream",
          "text": [
            "Кривая строка\n"
          ],
          "name": "stdout"
        }
      ]
    },
    {
      "cell_type": "code",
      "metadata": {
        "id": "tA6GU7HtbdmJ",
        "outputId": "3ef5c5dc-f081-4386-9d67-732e69538f85"
      },
      "source": [
        "data = ['90', '60', '90', '240tot']\n",
        "total_sum = 0\n",
        "\n",
        "for num in data:\n",
        "    try:\n",
        "        total_sum += float(num)\n",
        "\n",
        "    except:\n",
        "        print('Ошибка в данных: {}'.format(num))\n",
        "    \n",
        "print('Итого', total_sum)"
      ],
      "execution_count": null,
      "outputs": [
        {
          "output_type": "stream",
          "text": [
            "Ошибка в данных: 240tot\n",
            "Итого 240.0\n"
          ],
          "name": "stdout"
        }
      ]
    },
    {
      "cell_type": "markdown",
      "metadata": {
        "id": "MgbWDdZ_bdmJ"
      },
      "source": [
        "Как сохранить всю информацию об ошибке?"
      ]
    },
    {
      "cell_type": "code",
      "metadata": {
        "scrolled": true,
        "id": "PNgumGwNbdmJ",
        "outputId": "d38608db-55cc-49f0-d281-bb575f9b52ac"
      },
      "source": [
        "# полная версия traceback\n",
        "import traceback\n",
        "\n",
        "try:\n",
        "    float('123fff')\n",
        "\n",
        "except Exception:\n",
        "    print(traceback.print_exc())\n",
        "    \n",
        "print('Проехали')"
      ],
      "execution_count": null,
      "outputs": [
        {
          "output_type": "stream",
          "text": [
            "None\n",
            "Проехали\n"
          ],
          "name": "stdout"
        },
        {
          "output_type": "stream",
          "text": [
            "Traceback (most recent call last):\n",
            "  File \"<ipython-input-12-aec2760d579a>\", line 5, in <module>\n",
            "    float('123fff')\n",
            "ValueError: could not convert string to float: '123fff'\n"
          ],
          "name": "stderr"
        }
      ]
    },
    {
      "cell_type": "markdown",
      "metadata": {
        "id": "XyPMGBY-bdmJ"
      },
      "source": [
        "### Блок finally"
      ]
    },
    {
      "cell_type": "code",
      "metadata": {
        "id": "i-_BH0SfbdmK",
        "outputId": "4c42b587-8f77-4b3e-d9dc-b2b1086a3a51"
      },
      "source": [
        "try:\n",
        "    print(stats[\"wednesday\"])\n",
        "    \n",
        "except IndexError:\n",
        "    print(\"Ошибка индекса\")\n",
        "    \n",
        "except KeyError:\n",
        "    print(\"Ошибка ключа\")\n",
        "    print(1/0)\n",
        "    \n",
        "finally:\n",
        "    print('Эта строчка будет выполнена всегда')"
      ],
      "execution_count": null,
      "outputs": [
        {
          "output_type": "stream",
          "text": [
            "Эта строчка будет выполнена всегда\n"
          ],
          "name": "stdout"
        },
        {
          "output_type": "error",
          "ename": "NameError",
          "evalue": "name 'stats' is not defined",
          "traceback": [
            "\u001b[0;31m---------------------------------------------------------------------------\u001b[0m",
            "\u001b[0;31mNameError\u001b[0m                                 Traceback (most recent call last)",
            "\u001b[0;32m<ipython-input-13-f6fe70bb823a>\u001b[0m in \u001b[0;36m<module>\u001b[0;34m\u001b[0m\n\u001b[1;32m      1\u001b[0m \u001b[0;32mtry\u001b[0m\u001b[0;34m:\u001b[0m\u001b[0;34m\u001b[0m\u001b[0m\n\u001b[0;32m----> 2\u001b[0;31m     \u001b[0mprint\u001b[0m\u001b[0;34m(\u001b[0m\u001b[0mstats\u001b[0m\u001b[0;34m[\u001b[0m\u001b[0;34m\"wednesday\"\u001b[0m\u001b[0;34m]\u001b[0m\u001b[0;34m)\u001b[0m\u001b[0;34m\u001b[0m\u001b[0m\n\u001b[0m\u001b[1;32m      3\u001b[0m \u001b[0;34m\u001b[0m\u001b[0m\n\u001b[1;32m      4\u001b[0m \u001b[0;32mexcept\u001b[0m \u001b[0mIndexError\u001b[0m\u001b[0;34m:\u001b[0m\u001b[0;34m\u001b[0m\u001b[0m\n\u001b[1;32m      5\u001b[0m     \u001b[0mprint\u001b[0m\u001b[0;34m(\u001b[0m\u001b[0;34m\"Ошибка индекса\"\u001b[0m\u001b[0;34m)\u001b[0m\u001b[0;34m\u001b[0m\u001b[0m\n",
            "\u001b[0;31mNameError\u001b[0m: name 'stats' is not defined"
          ]
        }
      ]
    },
    {
      "cell_type": "markdown",
      "metadata": {
        "id": "uE3-0jNJWIxR"
      },
      "source": [
        "## Как сделать, чтобы цикл с рассчетом не падал каждый раз "
      ]
    },
    {
      "cell_type": "code",
      "metadata": {
        "id": "OafUmfFeMqeo"
      },
      "source": [
        "try:\n",
        "  #код, шде может произойти ошибка\n",
        "  float('123a')\n",
        "\n",
        "except:\n",
        "  #код, который выполняется в случае ошибки\n",
        "  #например: напечатчь что произошло\n",
        "  print('Упс, что-то пошло не так')\n",
        "  pass #где pass означает - ничего не делать.\n",
        "\n",
        "  #в Этом случае скрипт, не остановится на этом цикле, а продолжит работать дальше (если таких циклов например много в скрипте)\n",
        "  "
      ],
      "execution_count": null,
      "outputs": []
    },
    {
      "cell_type": "markdown",
      "metadata": {
        "id": "1M5_RGZYWhQG"
      },
      "source": [
        "#Например"
      ]
    },
    {
      "cell_type": "markdown",
      "metadata": {
        "id": "yqOJBZRkbF3m"
      },
      "source": [
        "Пример ошибки внутри функции"
      ]
    },
    {
      "cell_type": "code",
      "metadata": {
        "id": "ArThDHGHbF3n"
      },
      "source": [
        "def square_sum(*args):\n",
        "    total_sum = 0\n",
        "    for arg in args:\n",
        "        print(arg)\n",
        "        total_sum += arg**2\n",
        "    \n",
        "    return total_sum"
      ],
      "execution_count": null,
      "outputs": []
    },
    {
      "cell_type": "code",
      "metadata": {
        "id": "WITIY6pEbF3n",
        "outputId": "dcfddf6d-9006-42f3-cfb1-274e99db8d4e"
      },
      "source": [
        "square_sum(1, 2, 3)"
      ],
      "execution_count": null,
      "outputs": [
        {
          "output_type": "execute_result",
          "data": {
            "text/plain": [
              "14"
            ]
          },
          "metadata": {
            "tags": []
          },
          "execution_count": 6
        }
      ]
    },
    {
      "cell_type": "code",
      "metadata": {
        "id": "0ma263TrbF3n",
        "outputId": "74a8b021-350a-473c-981b-79911619084b"
      },
      "source": [
        "# пытаемся применить к операцию возведения в квадрат к строке\n",
        "# ----> 1 square_sum(1, 2, '3') - в какой функции произошла ошибка\n",
        "# ----> 4         total_sum += arg**2 - в какой именно строке произошла ошибка\n",
        "\n",
        "square_sum(1, 2, '3')"
      ],
      "execution_count": null,
      "outputs": [
        {
          "output_type": "stream",
          "text": [
            "1\n",
            "2\n",
            "3\n"
          ],
          "name": "stdout"
        },
        {
          "output_type": "error",
          "ename": "TypeError",
          "evalue": "unsupported operand type(s) for ** or pow(): 'str' and 'int'",
          "traceback": [
            "\u001b[0;31m---------------------------------------------------------------------------\u001b[0m",
            "\u001b[0;31mTypeError\u001b[0m                                 Traceback (most recent call last)",
            "\u001b[0;32m<ipython-input-9-7189647907b6>\u001b[0m in \u001b[0;36m<module>\u001b[0;34m\u001b[0m\n\u001b[1;32m      3\u001b[0m \u001b[0;31m# ----> 4         total_sum += arg**2 - в какой именно строке произошла ошибка\u001b[0m\u001b[0;34m\u001b[0m\u001b[0;34m\u001b[0m\u001b[0m\n\u001b[1;32m      4\u001b[0m \u001b[0;34m\u001b[0m\u001b[0m\n\u001b[0;32m----> 5\u001b[0;31m \u001b[0msquare_sum\u001b[0m\u001b[0;34m(\u001b[0m\u001b[0;36m1\u001b[0m\u001b[0;34m,\u001b[0m \u001b[0;36m2\u001b[0m\u001b[0;34m,\u001b[0m \u001b[0;34m'3'\u001b[0m\u001b[0;34m)\u001b[0m\u001b[0;34m\u001b[0m\u001b[0m\n\u001b[0m",
            "\u001b[0;32m<ipython-input-8-0f60c0b38293>\u001b[0m in \u001b[0;36msquare_sum\u001b[0;34m(*args)\u001b[0m\n\u001b[1;32m      3\u001b[0m     \u001b[0;32mfor\u001b[0m \u001b[0marg\u001b[0m \u001b[0;32min\u001b[0m \u001b[0margs\u001b[0m\u001b[0;34m:\u001b[0m\u001b[0;34m\u001b[0m\u001b[0m\n\u001b[1;32m      4\u001b[0m         \u001b[0mprint\u001b[0m\u001b[0;34m(\u001b[0m\u001b[0marg\u001b[0m\u001b[0;34m)\u001b[0m\u001b[0;34m\u001b[0m\u001b[0m\n\u001b[0;32m----> 5\u001b[0;31m         \u001b[0mtotal_sum\u001b[0m \u001b[0;34m+=\u001b[0m \u001b[0marg\u001b[0m\u001b[0;34m**\u001b[0m\u001b[0;36m2\u001b[0m\u001b[0;34m\u001b[0m\u001b[0m\n\u001b[0m\u001b[1;32m      6\u001b[0m \u001b[0;34m\u001b[0m\u001b[0m\n\u001b[1;32m      7\u001b[0m     \u001b[0;32mreturn\u001b[0m \u001b[0mtotal_sum\u001b[0m\u001b[0;34m\u001b[0m\u001b[0m\n",
            "\u001b[0;31mTypeError\u001b[0m: unsupported operand type(s) for ** or pow(): 'str' and 'int'"
          ]
        }
      ]
    },
    {
      "cell_type": "code",
      "metadata": {
        "colab": {
          "base_uri": "https://localhost:8080/"
        },
        "id": "m8ZvOyteXMz8",
        "outputId": "dfd5b86a-c417-407b-ce3c-169558c953ba"
      },
      "source": [
        "data = ['90', '60', '90', '240r']\n",
        "total_sum = 0\n",
        "for num in data:\n",
        "  try:\n",
        "    total_sum += float(num)\n",
        "\n",
        "  except:\n",
        "    print('Ошибка в данных: {}'.format(num))\n",
        "print ('Итого: ', total_sum)"
      ],
      "execution_count": null,
      "outputs": [
        {
          "output_type": "stream",
          "text": [
            "Ошибка в данных: 240r\n",
            "Итого:  240.0\n"
          ],
          "name": "stdout"
        }
      ]
    },
    {
      "cell_type": "markdown",
      "metadata": {
        "id": "NYR52WhQYEMX"
      },
      "source": [
        "Как сохранить всю информацию об ошибки"
      ]
    },
    {
      "cell_type": "code",
      "metadata": {
        "id": "_y99JRBlYIOD"
      },
      "source": [
        "import traceback\n",
        "try:\n",
        "  float('123r')\n",
        "except Exception:\n",
        "  print(tracbeck.print_exc())\n",
        "print('Приехали')"
      ],
      "execution_count": null,
      "outputs": []
    },
    {
      "cell_type": "markdown",
      "metadata": {
        "id": "Cry7rD4rYmIs"
      },
      "source": [
        "В блоке try except мы можем обрабатывать каждую ошибку в отдельности\n"
      ]
    },
    {
      "cell_type": "code",
      "metadata": {
        "id": "eA3RPOhrYsZB"
      },
      "source": [
        "try:\n",
        "  print(stats['wednesday'])\n",
        "except indexError:\n",
        "  print...\n",
        "except keyError:\n",
        "  print...\n",
        "\n",
        "finally:\n",
        "  print('эта строчка будет выполнена всегда')\n",
        "  #тут можно разрывать соединение с файлом или закрывать открытый файл и т.д."
      ],
      "execution_count": null,
      "outputs": []
    },
    {
      "cell_type": "markdown",
      "metadata": {
        "id": "rCwmpkHKZqLR"
      },
      "source": [
        "**Видео №....\"работа с датами часть 1\"**"
      ]
    },
    {
      "cell_type": "markdown",
      "metadata": {
        "id": "yHWmvO3NbF3q"
      },
      "source": [
        "# Даты"
      ]
    },
    {
      "cell_type": "code",
      "metadata": {
        "id": "VjuS6dBibF3q"
      },
      "source": [
        "# Чаще всего импортируют библиотеку datetime делают это двумя способами из-за чего иногда возникает путаница.\n",
        "import datetime #первый варант"
      ],
      "execution_count": null,
      "outputs": []
    },
    {
      "cell_type": "code",
      "metadata": {
        "id": "WXnsxYTGbF3r"
      },
      "source": [
        "# иногда к импорту добавляют короткую переменную, чтобы не писать всю библиотеку целиком.\n",
        "import datetime as dt"
      ],
      "execution_count": null,
      "outputs": []
    },
    {
      "cell_type": "code",
      "metadata": {
        "id": "XFDbMCEMbF3r"
      },
      "source": [
        "import datetime.py\n",
        "    class datetime"
      ],
      "execution_count": null,
      "outputs": []
    },
    {
      "cell_type": "code",
      "metadata": {
        "id": "liM8UnV-bF3r"
      },
      "source": [
        "# Есть второй вариант импорта библиотеки и вспомогательных классов.\n",
        "from datetime import datetime"
      ],
      "execution_count": null,
      "outputs": []
    },
    {
      "cell_type": "markdown",
      "metadata": {
        "id": "RRULKBBZdJFH"
      },
      "source": [
        "В чем разница?\n",
        "В этой библиотеке есть класс с одноименнын названием datetime\n",
        "Когда мы пишем import datetime, мы вызываем только библиотеку.\n",
        "Чтобы указать класс, нам придется при описании функции писать длинный код, например:\n"
      ]
    },
    {
      "cell_type": "code",
      "metadata": {
        "id": "U1kx1_uVbF3r"
      },
      "source": [
        "datetime.datetime.strptime()"
      ],
      "execution_count": null,
      "outputs": []
    },
    {
      "cell_type": "markdown",
      "metadata": {
        "id": "8slEroY2d54c"
      },
      "source": [
        "Когда же мы импортируем библиотеку сразу с классом. from datetime import datetime, ты мы как бы сразу вызываем отдельную папку datetame на полке datetime и весь наш остальной код просто будет короче, за счет отсутствия необходимости указывать на папку (подкласс). Например:"
      ]
    },
    {
      "cell_type": "code",
      "metadata": {
        "id": "yn1g4oTubF3r",
        "outputId": "8aaf479d-58e9-4bed-c50d-f06bac4ac55c"
      },
      "source": [
        "datetime.strptime()"
      ],
      "execution_count": null,
      "outputs": [
        {
          "output_type": "error",
          "ename": "AttributeError",
          "evalue": "type object 'datetime.datetime' has no attribute 'datetime'",
          "traceback": [
            "\u001b[0;31m---------------------------------------------------------------------------\u001b[0m",
            "\u001b[0;31mAttributeError\u001b[0m                            Traceback (most recent call last)",
            "\u001b[0;32m<ipython-input-15-e1a91825e15a>\u001b[0m in \u001b[0;36m<module>\u001b[0;34m\u001b[0m\n\u001b[0;32m----> 1\u001b[0;31m \u001b[0mdatetime\u001b[0m\u001b[0;34m.\u001b[0m\u001b[0mdatetime\u001b[0m\u001b[0;34m.\u001b[0m\u001b[0mstrptime\u001b[0m\u001b[0;34m(\u001b[0m\u001b[0;34m)\u001b[0m\u001b[0;34m\u001b[0m\u001b[0m\n\u001b[0m",
            "\u001b[0;31mAttributeError\u001b[0m: type object 'datetime.datetime' has no attribute 'datetime'"
          ]
        }
      ]
    },
    {
      "cell_type": "markdown",
      "metadata": {
        "id": "ReP1gElQekZs"
      },
      "source": [
        "На занятиях нетологии будет второй варинт использован. короткий"
      ]
    },
    {
      "cell_type": "markdown",
      "metadata": {
        "id": "vojNtWHUfHfe"
      },
      "source": [
        "01.05.2021. Почему не распознавать эту дату автоматически?\n",
        "Дело в том, что в разных странах эту дату прочтут по разному, в России 1 мая, а в США 5 января. Более того, есть еще более сложные форматы даты. Например:"
      ]
    },
    {
      "cell_type": "code",
      "metadata": {
        "id": "P6kieBtkbF3s"
      },
      "source": [
        "2018-09-05Z15:32:00.1726352"
      ],
      "execution_count": null,
      "outputs": []
    },
    {
      "cell_type": "markdown",
      "metadata": {
        "id": "E1cKev6LfWLl"
      },
      "source": [
        "Потому в Python пользователю предложено самому указывать формат даты. Согласно этого коды вы можете указать как читать данные. https://docs.python.org/3/library/datetime.html"
      ]
    },
    {
      "cell_type": "code",
      "metadata": {
        "id": "qBk11QFGbF3s"
      },
      "source": [
        "date_string = '09.05.2018  09:00'\n",
        "#нам нужно показать Python где год, где дата, время и т.д."
      ],
      "execution_count": null,
      "outputs": []
    },
    {
      "cell_type": "code",
      "metadata": {
        "id": "oZNCB1YPbF3s",
        "outputId": "e8dead1f-2ba3-40ed-d122-ed1770073eac"
      },
      "source": [
        "datetime.strptime(date_string, '%d.%m.%Y %H:%M')"
      ],
      "execution_count": null,
      "outputs": [
        {
          "output_type": "execute_result",
          "data": {
            "text/plain": [
              "datetime.datetime(2018, 5, 9, 9, 0)"
            ]
          },
          "metadata": {
            "tags": []
          },
          "execution_count": 19
        }
      ]
    },
    {
      "cell_type": "code",
      "metadata": {
        "id": "dkW66vQWbF3t",
        "outputId": "dcf986f7-7fe6-40f5-e4ac-b383d9534c70"
      },
      "source": [
        "date_datetime = datetime.strptime( date_string, '%d.%m.%Y %H:%M' )\n",
        "date_datetime #Специальный тип данных - datetime"
      ],
      "execution_count": null,
      "outputs": [
        {
          "output_type": "execute_result",
          "data": {
            "text/plain": [
              "datetime.datetime(2018, 5, 9, 9, 0)"
            ]
          },
          "metadata": {
            "tags": []
          },
          "execution_count": 20
        }
      ]
    },
    {
      "cell_type": "code",
      "metadata": {
        "id": "Z9pfXh3mbF3t",
        "outputId": "02479ec3-3b5d-4708-cbf8-8631fc5c0e09"
      },
      "source": [
        "# теперь можем работать с датами\n",
        "type(date_datetime)"
      ],
      "execution_count": null,
      "outputs": [
        {
          "output_type": "execute_result",
          "data": {
            "text/plain": [
              "datetime.datetime"
            ]
          },
          "metadata": {
            "tags": []
          },
          "execution_count": 21
        }
      ]
    },
    {
      "cell_type": "code",
      "metadata": {
        "id": "ZU3S85OdbF3t",
        "outputId": "e6723d10-aa65-4656-a6c8-40318d025769"
      },
      "source": [
        "# получить номер года и часа\n",
        "date_datetime.year, date_datetime.hour"
      ],
      "execution_count": null,
      "outputs": [
        {
          "output_type": "execute_result",
          "data": {
            "text/plain": [
              "(2018, 9)"
            ]
          },
          "metadata": {
            "tags": []
          },
          "execution_count": 22
        }
      ]
    },
    {
      "cell_type": "code",
      "metadata": {
        "id": "yHbq4iYYbF3t",
        "outputId": "061c9fe5-ff6d-4347-e10c-e9fd5492a4a6"
      },
      "source": [
        "# день недели\n",
        "date_datetime.weekday() #по умолчанию неделя начинается с нуля 0 - воскресенье, поэтому 2 - это по факту среда"
      ],
      "execution_count": null,
      "outputs": [
        {
          "output_type": "execute_result",
          "data": {
            "text/plain": [
              "2"
            ]
          },
          "metadata": {
            "tags": []
          },
          "execution_count": 23
        }
      ]
    },
    {
      "cell_type": "code",
      "metadata": {
        "id": "pGhvu8pfbF3u",
        "outputId": "d2dc0c78-48d2-42c2-f07b-c7712115705a"
      },
      "source": [
        "# сегодня\n",
        "datetime.now()"
      ],
      "execution_count": null,
      "outputs": [
        {
          "output_type": "execute_result",
          "data": {
            "text/plain": [
              "datetime.datetime(2020, 6, 20, 15, 9, 40, 92581)"
            ]
          },
          "metadata": {
            "tags": []
          },
          "execution_count": 24
        }
      ]
    },
    {
      "cell_type": "markdown",
      "metadata": {
        "id": "VgM-7o3ghowa"
      },
      "source": [
        "**Видео ... \"работа с датами часть 2\"**"
      ]
    },
    {
      "cell_type": "markdown",
      "metadata": {
        "id": "PS3AVEEHbF3u"
      },
      "source": [
        "### Прибавление интервала к датам"
      ]
    },
    {
      "cell_type": "code",
      "metadata": {
        "id": "A5WWqH8RbF3u"
      },
      "source": [
        "from datetime import timedelta"
      ],
      "execution_count": null,
      "outputs": []
    },
    {
      "cell_type": "code",
      "metadata": {
        "id": "1xv8fcONbF3u"
      },
      "source": [
        "start_date = '2018-01-01'\n",
        "end_date = '2018-01-07'"
      ],
      "execution_count": null,
      "outputs": []
    },
    {
      "cell_type": "code",
      "metadata": {
        "id": "f74WwuhxbF3u",
        "colab": {
          "base_uri": "https://localhost:8080/"
        },
        "outputId": "af1a6382-7c2e-4841-e71b-40a21218bf8f"
      },
      "source": [
        "type(start_date)"
      ],
      "execution_count": null,
      "outputs": [
        {
          "output_type": "execute_result",
          "data": {
            "text/plain": [
              "str"
            ]
          },
          "metadata": {
            "tags": []
          },
          "execution_count": 10
        }
      ]
    },
    {
      "cell_type": "code",
      "metadata": {
        "id": "9zO2pR4VbF3v",
        "colab": {
          "base_uri": "https://localhost:8080/"
        },
        "outputId": "8686fad6-05e7-47c7-a5e0-02e17c208298"
      },
      "source": [
        "'logs_2017-12-31.csv' < 'logs_2018-01-01.csv'"
      ],
      "execution_count": null,
      "outputs": [
        {
          "output_type": "execute_result",
          "data": {
            "text/plain": [
              "True"
            ]
          },
          "metadata": {
            "tags": []
          },
          "execution_count": 11
        }
      ]
    },
    {
      "cell_type": "code",
      "metadata": {
        "id": "9rlRl4ImbF3v",
        "colab": {
          "base_uri": "https://localhost:8080/"
        },
        "outputId": "09085c5d-4715-4520-850b-f25a798de65d"
      },
      "source": [
        "start_date_datetime = datetime.strptime(start_date, '%Y-%m-%d') #перевод строки в формат datetime\n",
        "start_date_datetime"
      ],
      "execution_count": null,
      "outputs": [
        {
          "output_type": "execute_result",
          "data": {
            "text/plain": [
              "datetime.datetime(2018, 1, 1, 0, 0)"
            ]
          },
          "metadata": {
            "tags": []
          },
          "execution_count": 16
        }
      ]
    },
    {
      "cell_type": "code",
      "metadata": {
        "colab": {
          "base_uri": "https://localhost:8080/"
        },
        "id": "469ep6jNi1Z6",
        "outputId": "197ddd08-0a74-43e3-f575-be79169f4e88"
      },
      "source": [
        "start_date_datetime + timedelta(days=1)"
      ],
      "execution_count": null,
      "outputs": [
        {
          "output_type": "execute_result",
          "data": {
            "text/plain": [
              "datetime.datetime(2018, 1, 2, 0, 0)"
            ]
          },
          "metadata": {
            "tags": []
          },
          "execution_count": 17
        }
      ]
    },
    {
      "cell_type": "code",
      "metadata": {
        "id": "oNlXXTuTbF3v",
        "colab": {
          "base_uri": "https://localhost:8080/"
        },
        "outputId": "e4f53f25-09f3-4b63-b9c1-e93d19d27bde"
      },
      "source": [
        "start_date_datetime + timedelta(hours=1)"
      ],
      "execution_count": null,
      "outputs": [
        {
          "output_type": "execute_result",
          "data": {
            "text/plain": [
              "datetime.datetime(2018, 1, 1, 1, 0)"
            ]
          },
          "metadata": {
            "tags": []
          },
          "execution_count": 18
        }
      ]
    },
    {
      "cell_type": "code",
      "metadata": {
        "id": "lbR0XdJMbF3v",
        "colab": {
          "base_uri": "https://localhost:8080/"
        },
        "outputId": "6e1283c0-8854-427d-c4e5-a5cbe7df80f6"
      },
      "source": [
        "start_date_datetime + timedelta(days=-7, minutes=-1)"
      ],
      "execution_count": null,
      "outputs": [
        {
          "output_type": "execute_result",
          "data": {
            "text/plain": [
              "datetime.datetime(2017, 12, 24, 23, 59)"
            ]
          },
          "metadata": {
            "tags": []
          },
          "execution_count": 19
        }
      ]
    },
    {
      "cell_type": "markdown",
      "metadata": {
        "id": "IrEKF3HobF3v"
      },
      "source": [
        "### Перевод обратно в строку"
      ]
    },
    {
      "cell_type": "code",
      "metadata": {
        "id": "ewQpyX0HbF3w",
        "outputId": "31a004fe-2496-475a-b2b8-8f2c6975ca2a"
      },
      "source": [
        "date = datetime(2018, 9, 1)\n",
        "date"
      ],
      "execution_count": null,
      "outputs": [
        {
          "output_type": "execute_result",
          "data": {
            "text/plain": [
              "datetime.datetime(2018, 9, 1, 0, 0)"
            ]
          },
          "metadata": {
            "tags": []
          },
          "execution_count": 38
        }
      ]
    },
    {
      "cell_type": "code",
      "metadata": {
        "id": "vevlaukzbF3w",
        "outputId": "d822a623-4d73-4445-981e-bafa66c69b26"
      },
      "source": [
        "date.strftime('%Y-%m-%dZZZ%H')"
      ],
      "execution_count": null,
      "outputs": [
        {
          "output_type": "execute_result",
          "data": {
            "text/plain": [
              "'2018-09-01ZZZ00'"
            ]
          },
          "metadata": {
            "tags": []
          },
          "execution_count": 40
        }
      ]
    },
    {
      "cell_type": "code",
      "metadata": {
        "scrolled": false,
        "id": "XHcMLlN2bF3w",
        "outputId": "b0195a07-fe8b-49fe-80ff-712cb976d7c3"
      },
      "source": [
        "date.strftime('%B %d %Y %I:%M%p')"
      ],
      "execution_count": null,
      "outputs": [
        {
          "output_type": "execute_result",
          "data": {
            "text/plain": [
              "'September 01 2018 12:00AM'"
            ]
          },
          "metadata": {
            "tags": []
          },
          "execution_count": 41
        }
      ]
    },
    {
      "cell_type": "code",
      "metadata": {
        "scrolled": true,
        "id": "njEmfHLObF3w",
        "outputId": "db2e7c74-ab90-49ca-fd7a-b200a68fc6d7"
      },
      "source": [
        "datetime.now().strftime('%Y-%m-01') #Чтобы получить первое число текущего месяца, необходимо вызвать текущую дату .now и при переводе его в строку, вместо кода дня явно указать 01."
      ],
      "execution_count": null,
      "outputs": [
        {
          "output_type": "execute_result",
          "data": {
            "text/plain": [
              "'2020-06-01'"
            ]
          },
          "metadata": {
            "tags": []
          },
          "execution_count": 42
        }
      ]
    },
    {
      "cell_type": "code",
      "metadata": {
        "id": "rie7Qi4GbF3w"
      },
      "source": [
        "# как получить первый день месяца\n",
        "\n",
        "date.strftime('%Y-%m-01')"
      ],
      "execution_count": null,
      "outputs": []
    },
    {
      "cell_type": "code",
      "metadata": {
        "id": "Vs3MrUIebF3x"
      },
      "source": [
        "start_date = '2018-01-01'\n",
        "end_date = '2018-01-07'"
      ],
      "execution_count": null,
      "outputs": []
    },
    {
      "cell_type": "code",
      "metadata": {
        "id": "-dfiNQHqbF3x",
        "outputId": "7863ae90-f5f5-4a04-df14-b060526afe2c"
      },
      "source": [
        "start_date, end_date"
      ],
      "execution_count": null,
      "outputs": [
        {
          "output_type": "execute_result",
          "data": {
            "text/plain": [
              "('2018-01-01', '2018-01-07')"
            ]
          },
          "metadata": {
            "tags": []
          },
          "execution_count": 44
        }
      ]
    },
    {
      "cell_type": "code",
      "metadata": {
        "id": "VaFH7ilqbF3x",
        "colab": {
          "base_uri": "https://localhost:8080/"
        },
        "outputId": "8ab4959d-4a42-410c-8a7e-12d177e9ebb6"
      },
      "source": [
        "start_date_dt = datetime.strptime(start_date, '%Y-%m-%d') #Сначала переведем строки в обьекты Datetime\n",
        "end_date_dt = datetime.strptime(end_date, '%Y-%m-%d')\n",
        "\n",
        "print(start_date_dt, end_date_dt)"
      ],
      "execution_count": null,
      "outputs": [
        {
          "output_type": "stream",
          "text": [
            "2018-01-01 00:00:00 2018-01-07 00:00:00\n"
          ],
          "name": "stdout"
        }
      ]
    },
    {
      "cell_type": "code",
      "metadata": {
        "id": "xNnROnAxbF3x",
        "outputId": "b15e4054-f831-44da-c0e8-381d1dfcd7c9"
      },
      "source": [
        "i = 0 #Сначала попробуем создать цикл с обычными цифрами. от 0 до 10\n",
        "\n",
        "while i < 10:\n",
        "    # ...\n",
        "    i += 1\n",
        "    print(i)"
      ],
      "execution_count": null,
      "outputs": [
        {
          "output_type": "stream",
          "text": [
            "1\n",
            "2\n",
            "3\n",
            "4\n",
            "5\n",
            "6\n",
            "7\n",
            "8\n",
            "9\n",
            "10\n"
          ],
          "name": "stdout"
        }
      ]
    },
    {
      "cell_type": "code",
      "metadata": {
        "scrolled": true,
        "id": "iciGjCQAbF3x",
        "colab": {
          "base_uri": "https://localhost:8080/"
        },
        "outputId": "633b94dc-62cc-4895-d026-8dbeec8d41e4"
      },
      "source": [
        "current_dt = start_date_dt #теперь заменим на даты\n",
        "#Вместо 0 поставим начальную дату start_date_dt\n",
        "\n",
        "while current_dt <= end_date_dt: #Цикл будет работать до тех пор пока дата окончения не превзойдет эту границу\n",
        "    print(current_dt.strftime('%Y-%m-%d')) #Выводим значение в удобном нам формате.\n",
        "    \n",
        "    current_dt += timedelta(days=1) #Вместо +=1 мы используем метод timedelta который будет увеличивать нашу дату. "
      ],
      "execution_count": null,
      "outputs": [
        {
          "output_type": "stream",
          "text": [
            "2018-01-01\n",
            "2018-01-02\n",
            "2018-01-03\n",
            "2018-01-04\n",
            "2018-01-05\n",
            "2018-01-06\n",
            "2018-01-07\n"
          ],
          "name": "stdout"
        }
      ]
    },
    {
      "cell_type": "code",
      "metadata": {
        "id": "zhLsn0DebF3y",
        "outputId": "b7fabc1d-ea60-4b2f-f21a-25bd1e59a669"
      },
      "source": [
        "current_dt = start_date_dt\n",
        "\n",
        "while current_dt.strftime('%Y-%m-%d') <= end_date:\n",
        "    print(current_dt.strftime('%Y-%m-%d'))\n",
        "    \n",
        "    current_dt += timedelta(days=1)"
      ],
      "execution_count": null,
      "outputs": [
        {
          "output_type": "stream",
          "text": [
            "2018-01-01\n",
            "2018-01-02\n",
            "2018-01-03\n",
            "2018-01-04\n",
            "2018-01-05\n",
            "2018-01-06\n",
            "2018-01-07\n"
          ],
          "name": "stdout"
        }
      ]
    },
    {
      "cell_type": "code",
      "metadata": {
        "id": "WYOxVyZjbF3y",
        "outputId": "5445fb43-9794-4ff4-e720-52989a63d4ad"
      },
      "source": [
        "# можно и с помощью list comprehension\n",
        "[(start_date_dt + timedelta(days=x)).strftime('%Y-%m-%d') for x in range(10)]"
      ],
      "execution_count": null,
      "outputs": [
        {
          "output_type": "execute_result",
          "data": {
            "text/plain": [
              "['2018-01-01',\n",
              " '2018-01-02',\n",
              " '2018-01-03',\n",
              " '2018-01-04',\n",
              " '2018-01-05',\n",
              " '2018-01-06',\n",
              " '2018-01-07',\n",
              " '2018-01-08',\n",
              " '2018-01-09',\n",
              " '2018-01-10']"
            ]
          },
          "metadata": {
            "tags": []
          },
          "execution_count": 49
        }
      ]
    },
    {
      "cell_type": "markdown",
      "metadata": {
        "id": "o5tVXSIjmGyI"
      },
      "source": [
        "....**Текст, выделенный полужирным шрифтом**"
      ]
    },
    {
      "cell_type": "markdown",
      "metadata": {
        "id": "VmX9b1HQbF3y"
      },
      "source": [
        "### Нагрузка на систему по часам"
      ]
    },
    {
      "cell_type": "code",
      "metadata": {
        "id": "SzvKasHwbF3y",
        "outputId": "3475bde8-e0bd-429d-f405-66511e83f260"
      },
      "source": [
        "stats = {}\n",
        "\n",
        "with open('logs.csv', 'r') as f:\n",
        "    for line in f:\n",
        "        line = line.strip()\n",
        "        \n",
        "#         print(line[11:13])\n",
        "#         break\n",
        "        \n",
        "#         dt = datetime.strptime(line, '%Y-%m-%dT%H:%M:%SZ')\n",
        "        hour = line[11:13]\n",
        "        # print(hour)\n",
        "        \n",
        "        stats.setdefault(hour, 0)\n",
        "        stats[hour] += 1\n",
        "        \n",
        "        # break\n",
        "        \n",
        "        # вычисления нагрузки на систему...\n",
        "        \n",
        "# результат\n",
        "stats"
      ],
      "execution_count": null,
      "outputs": [
        {
          "output_type": "execute_result",
          "data": {
            "text/plain": [
              "{'21': 59,\n",
              " '20': 67,\n",
              " '23': 36,\n",
              " '22': 37,\n",
              " '18': 72,\n",
              " '13': 56,\n",
              " '11': 52,\n",
              " '00': 22,\n",
              " '16': 56,\n",
              " '17': 56,\n",
              " '15': 68,\n",
              " '19': 63,\n",
              " '12': 64,\n",
              " '10': 77,\n",
              " '01': 10,\n",
              " '07': 22,\n",
              " '05': 10,\n",
              " '09': 33,\n",
              " '06': 19,\n",
              " '14': 57,\n",
              " '08': 42,\n",
              " '03': 7,\n",
              " '02': 8,\n",
              " '04': 7}"
            ]
          },
          "metadata": {
            "tags": []
          },
          "execution_count": 59
        }
      ]
    },
    {
      "cell_type": "code",
      "metadata": {
        "id": "IHB9YxQGbF3z"
      },
      "source": [
        "# а в процентном соотношении?\n"
      ],
      "execution_count": null,
      "outputs": []
    },
    {
      "cell_type": "code",
      "metadata": {
        "id": "iWPKgwpcbF3z"
      },
      "source": [
        ""
      ],
      "execution_count": null,
      "outputs": []
    },
    {
      "cell_type": "code",
      "metadata": {
        "id": "GlenXBz4bF3z"
      },
      "source": [
        ""
      ],
      "execution_count": null,
      "outputs": []
    },
    {
      "cell_type": "code",
      "metadata": {
        "id": "yl23QHFibF3z"
      },
      "source": [
        ""
      ],
      "execution_count": null,
      "outputs": []
    },
    {
      "cell_type": "markdown",
      "metadata": {
        "id": "a8Lse2C1bF3z"
      },
      "source": [
        "###  Unixtime\n",
        "Количество секунд, прошедших с 1 января 1970 года по UTC"
      ]
    },
    {
      "cell_type": "code",
      "metadata": {
        "id": "MVPXvf5DbF3z"
      },
      "source": [
        "import time\n",
        "from datetime import date\n",
        "from datetime import datetime"
      ],
      "execution_count": null,
      "outputs": []
    },
    {
      "cell_type": "code",
      "metadata": {
        "id": "B02W-SgwbF3z",
        "outputId": "18db5900-436d-471b-9083-598d03e3f926"
      },
      "source": [
        "d = date(2019, 3, 11)\n",
        "\n",
        "unixtime = time.mktime(d.timetuple())\n",
        "unixtime"
      ],
      "execution_count": null,
      "outputs": [
        {
          "output_type": "execute_result",
          "data": {
            "text/plain": [
              "1552251600.0"
            ]
          },
          "metadata": {
            "tags": []
          },
          "execution_count": 61
        }
      ]
    },
    {
      "cell_type": "code",
      "metadata": {
        "id": "hrwL9C2dbF30"
      },
      "source": [
        "from datetime import datetime"
      ],
      "execution_count": null,
      "outputs": []
    },
    {
      "cell_type": "code",
      "metadata": {
        "id": "oqxyilekbF30",
        "outputId": "542217d3-fd54-4aaf-bcdb-e674389e2703"
      },
      "source": [
        "datetime.fromtimestamp(1552251600)"
      ],
      "execution_count": null,
      "outputs": [
        {
          "output_type": "execute_result",
          "data": {
            "text/plain": [
              "datetime.datetime(2019, 3, 11, 0, 0)"
            ]
          },
          "metadata": {
            "tags": []
          },
          "execution_count": 63
        }
      ]
    },
    {
      "cell_type": "markdown",
      "metadata": {
        "id": "HiKGu_MHbF30"
      },
      "source": [
        "На практике все сложнее https://habr.com/ru/post/452584/"
      ]
    },
    {
      "cell_type": "markdown",
      "metadata": {
        "id": "geqaYsj4R_t6"
      },
      "source": [
        "**Видео ___ \"Вебинар на тему Исключения и обработка ошибок\" **"
      ]
    },
    {
      "cell_type": "markdown",
      "metadata": {
        "id": "PMbLiVoZSKBA"
      },
      "source": [
        "Задача про интервалы\n",
        "Имеется список отсортированных повозрастанию целых чисел data/ А также целое число n, которое лежит между минимальным и максимальными значениями из списка data. Необходимо определить минимальное ближайшее число к n из списка data.\n",
        "Пример: data = [1, 7, 17, 23, 27, 35, 65]\n",
        "n = 20"
      ]
    },
    {
      "cell_type": "code",
      "metadata": {
        "id": "ySrAjFAOS-EK"
      },
      "source": [
        "data = [1, 7, 17, 23, 27, 35, 65] #нам нужно найти ближайшее число слева\n",
        "n = 20"
      ],
      "execution_count": null,
      "outputs": []
    },
    {
      "cell_type": "code",
      "metadata": {
        "colab": {
          "base_uri": "https://localhost:8080/",
          "height": 333
        },
        "id": "oikQbemVTLFN",
        "outputId": "5f7c821a-fe72-4d82-dc43-be21c04196fe"
      },
      "source": [
        "i = 0\n",
        "\n",
        "for num in data:\n",
        "    print(num, data[i+1])\n",
        "    \n",
        "    i += 1\n",
        "#Это не очень хороший вариант"
      ],
      "execution_count": null,
      "outputs": [
        {
          "output_type": "stream",
          "text": [
            "1 7\n",
            "7 17\n",
            "17 23\n",
            "23 27\n",
            "27 35\n",
            "35 65\n"
          ],
          "name": "stdout"
        },
        {
          "output_type": "error",
          "ename": "IndexError",
          "evalue": "ignored",
          "traceback": [
            "\u001b[0;31m---------------------------------------------------------------------------\u001b[0m",
            "\u001b[0;31mIndexError\u001b[0m                                Traceback (most recent call last)",
            "\u001b[0;32m<ipython-input-9-016ed40c53e3>\u001b[0m in \u001b[0;36m<module>\u001b[0;34m()\u001b[0m\n\u001b[1;32m      2\u001b[0m \u001b[0;34m\u001b[0m\u001b[0m\n\u001b[1;32m      3\u001b[0m \u001b[0;32mfor\u001b[0m \u001b[0mnum\u001b[0m \u001b[0;32min\u001b[0m \u001b[0mdata\u001b[0m\u001b[0;34m:\u001b[0m\u001b[0;34m\u001b[0m\u001b[0;34m\u001b[0m\u001b[0m\n\u001b[0;32m----> 4\u001b[0;31m     \u001b[0mprint\u001b[0m\u001b[0;34m(\u001b[0m\u001b[0mnum\u001b[0m\u001b[0;34m,\u001b[0m \u001b[0mdata\u001b[0m\u001b[0;34m[\u001b[0m\u001b[0mi\u001b[0m\u001b[0;34m+\u001b[0m\u001b[0;36m1\u001b[0m\u001b[0;34m]\u001b[0m\u001b[0;34m)\u001b[0m\u001b[0;34m\u001b[0m\u001b[0;34m\u001b[0m\u001b[0m\n\u001b[0m\u001b[1;32m      5\u001b[0m \u001b[0;34m\u001b[0m\u001b[0m\n\u001b[1;32m      6\u001b[0m     \u001b[0mi\u001b[0m \u001b[0;34m+=\u001b[0m \u001b[0;36m1\u001b[0m\u001b[0;34m\u001b[0m\u001b[0;34m\u001b[0m\u001b[0m\n",
            "\u001b[0;31mIndexError\u001b[0m: list index out of range"
          ]
        }
      ]
    },
    {
      "cell_type": "code",
      "metadata": {
        "colab": {
          "base_uri": "https://localhost:8080/",
          "height": 129
        },
        "id": "jMejv-nQW17n",
        "outputId": "fdce7435-9cf2-46eb-ec61-493f25ab74bf"
      },
      "source": [
        "#второй вариант\n",
        "for i range(len(data)): \n",
        "  print(data[i], data[i+1])\n",
        "\n",
        "  #ошибка"
      ],
      "execution_count": null,
      "outputs": [
        {
          "output_type": "error",
          "ename": "SyntaxError",
          "evalue": "ignored",
          "traceback": [
            "\u001b[0;36m  File \u001b[0;32m\"<ipython-input-24-dbd4e581c549>\"\u001b[0;36m, line \u001b[0;32m2\u001b[0m\n\u001b[0;31m    for i range(len(data)):\u001b[0m\n\u001b[0m              ^\u001b[0m\n\u001b[0;31mSyntaxError\u001b[0m\u001b[0;31m:\u001b[0m invalid syntax\n"
          ]
        }
      ]
    },
    {
      "cell_type": "code",
      "metadata": {
        "colab": {
          "base_uri": "https://localhost:8080/"
        },
        "id": "jptDmTi4XmK6",
        "outputId": "1ad9a451-d301-4450-8c5e-cc44d3b5bf6a"
      },
      "source": [
        "#Предпочтительный вариант, но тоже выдает ошибку, т.к. для последнего значения 65 нельзя сделать сложение +1. решается добавлением ограничения. пройтись enumerate не затрагивая последнего элемента\n",
        "for i, num in enumerate(data[:-1]): #i становится индексом и в рамках цикла мы увеличиваем индексы на 1 i+1 \n",
        "  print(i, num, data[i+1])"
      ],
      "execution_count": null,
      "outputs": [
        {
          "output_type": "stream",
          "text": [
            "0 1 7\n",
            "1 7 17\n",
            "2 17 23\n",
            "3 23 27\n",
            "4 27 35\n",
            "5 35 65\n"
          ],
          "name": "stdout"
        }
      ]
    },
    {
      "cell_type": "code",
      "metadata": {
        "colab": {
          "base_uri": "https://localhost:8080/"
        },
        "id": "Ltncb8eAZl1b",
        "outputId": "5cd5908d-8773-467d-eca8-c71ca35d0464"
      },
      "source": [
        "#теперь чтобы решить задачу нам надо указать условие\n",
        "for i, num in enumerate(data[:-1]): #i становится индексом и в рамках цикла мы увеличиваем индексы на 1 i+1 \n",
        "  if num <= n <= data[i+1]:\n",
        "    print(num)"
      ],
      "execution_count": null,
      "outputs": [
        {
          "output_type": "stream",
          "text": [
            "17\n"
          ],
          "name": "stdout"
        }
      ]
    },
    {
      "cell_type": "code",
      "metadata": {
        "id": "W5Vea6tjaF3Y"
      },
      "source": [
        "#альтернативный вариант Бинарный поиск. Списки разбиваются половинами, берется меньшая часть и снова делится пополам и т.д..\n",
        "#ПОГУГЛИТЬ КАК ДЕЛАТЬ ТАКОЙ ЦИКЛ"
      ],
      "execution_count": null,
      "outputs": []
    },
    {
      "cell_type": "markdown",
      "metadata": {
        "id": "CFFXjKhxaj-I"
      },
      "source": [
        "Телефонный справочник\n",
        "- Абакумов\n",
        "- Андреев\n",
        ".... \n",
        "- Иванов\n",
        "... Ярцев\n",
        "\n",
        "Мы открываем на середине. Например: попали на Петров. Теперь делим напополам первую часть половины и так далее пока не найдем Иванова."
      ]
    },
    {
      "cell_type": "code",
      "metadata": {
        "colab": {
          "base_uri": "https://localhost:8080/"
        },
        "id": "iRTh04EmewZ8",
        "outputId": "db9d1303-94a4-45b4-9784-9ef622a8b79d"
      },
      "source": [
        "%%time \n",
        "#время выполнения\n",
        "data = list(range(1000))\n",
        "for i in range(10**6):\n",
        "  500 in data"
      ],
      "execution_count": null,
      "outputs": [
        {
          "output_type": "stream",
          "text": [
            "CPU times: user 6.36 s, sys: 931 µs, total: 6.36 s\n",
            "Wall time: 6.37 s\n"
          ],
          "name": "stdout"
        }
      ]
    },
    {
      "cell_type": "code",
      "metadata": {
        "colab": {
          "base_uri": "https://localhost:8080/"
        },
        "id": "GaVIXQ2UfJRh",
        "outputId": "ea7aa986-740f-4be4-de8c-c366e0e79847"
      },
      "source": [
        "%%time \n",
        "#время выполнения\n",
        "data = set(range(10**7))\n",
        "for i in range(10**6):\n",
        "  500 in data"
      ],
      "execution_count": null,
      "outputs": [
        {
          "output_type": "stream",
          "text": [
            "CPU times: user 380 ms, sys: 412 ms, total: 792 ms\n",
            "Wall time: 792 ms\n"
          ],
          "name": "stdout"
        }
      ]
    },
    {
      "cell_type": "markdown",
      "metadata": {
        "id": "T1FeGIOIfhXw"
      },
      "source": [
        "Время поиска по множеству фактически не зависит от числа его элементов"
      ]
    },
    {
      "cell_type": "markdown",
      "metadata": {
        "id": "rTQNfDkcgCO-"
      },
      "source": [
        "Работа с ошибками"
      ]
    },
    {
      "cell_type": "markdown",
      "metadata": {
        "id": "iiCR3ZNNgO6-"
      },
      "source": [
        "1. перевести нижнюю фразу на русский язык.\n",
        "2. копируем и забиваем в поисковике - Лучше используйте яндекс, он лучше ищет в русском сигменте. еще один вариант ru.stackoverflow \n",
        "3. обращение к колегам. а) скидывать нужно все, но хотя бы все тело traceback b) \n",
        "4. \n",
        "\n"
      ]
    },
    {
      "cell_type": "code",
      "metadata": {
        "id": "ux_Jot0njHOh"
      },
      "source": [
        "with open ('real_data.txt', 'r') as f:\n",
        "  for line in f:\n",
        "    #print(line) хорошая практика сначала печатать значение. чтобы увидеть проблему визуально\n",
        "    date, user_id, value = line.strip().split('\\t') #запихнем в три переменные столбцы разделенные табуляцией."
      ],
      "execution_count": null,
      "outputs": []
    },
    {
      "cell_type": "code",
      "metadata": {
        "id": "CNky8O9MzmTF"
      },
      "source": [
        "#вместо прямого указания формата или указания множества try\\except создать шаблон форматов.\n",
        "date_formats = ['#d.%m.%y %H:%M','%d.%m.%YT %H:%M:%S', ]"
      ],
      "execution_count": null,
      "outputs": []
    },
    {
      "cell_type": "code",
      "metadata": {
        "id": "3C-BMnpB0CAN"
      },
      "source": [
        "#Соответственно форматы можно просто перебрать в функции. Соответственно ошибочные даты будут пропускаться\n",
        "def make_date(date):\n",
        "  for format_ in date_formats:\n",
        "    try: \n",
        "      return datetime.strptime(date, format_)\n",
        "    except:\n",
        "      pass\n",
        "    print('unknow format date', date)\n",
        "    return datetime(1970, 1, 1) #Дата по умолчанию."
      ],
      "execution_count": null,
      "outputs": []
    },
    {
      "cell_type": "code",
      "metadata": {
        "id": "s8_662Lr1PYN"
      },
      "source": [
        "#вместо print  в верхнем окне можно использовать оператор raise c указанием типа ошибки, \n",
        "#тогда ни одну ошибочную дату не пропустите, а будете просто добавлять шаблоны. Это оператор принудительной ошибки\n",
        "    raise ValueError('unknow format date', date)"
      ],
      "execution_count": null,
      "outputs": []
    },
    {
      "cell_type": "code",
      "metadata": {
        "id": "ifQSnzXKyIZ-"
      },
      "source": [
        "def make_date(date):\n",
        "  try:\n",
        "    #05.10.16 23:18\n",
        "    return datetime.strptime(date, '#d.%m.%y %H:%M')\n",
        "  except:\n",
        "    #строка на которой вылезла ошибка 09.10.2016T 21:40:00 попробуем вернуть дату в этом формате\n",
        "    return datetime.strptime(date, '%d.%m.%YT %H:%M:%S')\n",
        "    #Решение только на случай если ошибка одна."
      ],
      "execution_count": null,
      "outputs": []
    },
    {
      "cell_type": "code",
      "metadata": {
        "id": "2ysseRr0kGgA"
      },
      "source": [
        "#Предположим у нас нет 4 столбца в данных. Но нам достаточно трех\n",
        "with open ('real_data.txt', 'r') as f:\n",
        "  for line in f:\n",
        "    #print(line) \n",
        "      line = line.strip().split('\\t')\n",
        "      if len(line) == 3:\n",
        "        date, user_id, value = line\n",
        "        print(date, user_id, value)\n",
        "        date = make_date(date)\n",
        "#В случае конкретного файла возникает ошибка на второй строке, т.к. мы не угадали формат."
      ],
      "execution_count": null,
      "outputs": []
    },
    {
      "cell_type": "markdown",
      "metadata": {
        "id": "nXmf5DK72eHT"
      },
      "source": [
        "Из внешнего источника сделать большое количество запросов.\n",
        "Задача получить много ответов о курсе доллара по дням."
      ]
    },
    {
      "cell_type": "code",
      "metadata": {
        "id": "8XWJPbMV2jdr"
      },
      "source": [
        "for i in range(10000):"
      ],
      "execution_count": null,
      "outputs": []
    },
    {
      "cell_type": "code",
      "metadata": {
        "id": "joIPQaAX23pZ"
      },
      "source": [
        "import requests"
      ],
      "execution_count": null,
      "outputs": []
    },
    {
      "cell_type": "code",
      "metadata": {
        "colab": {
          "base_uri": "https://localhost:8080/"
        },
        "id": "35xQW0sN26z3",
        "outputId": "c4b02a52-280c-4d94-df35-e4eabecd63e7"
      },
      "source": [
        "response = requests.get('https://www.cbr-xml-daily.ru/daily_json.js').json()\n",
        "response['Valute']['GBP']\n",
        "#Если выполнять такую проверку несколько раз в день в цикле for для множества значений, \n",
        "#то часто будут ошибки. плохой Wifi, проблемы на сервере, доступность самого сервиса и пр."
      ],
      "execution_count": null,
      "outputs": [
        {
          "output_type": "execute_result",
          "data": {
            "text/plain": [
              "{'CharCode': 'GBP',\n",
              " 'ID': 'R01035',\n",
              " 'Name': 'Фунт стерлингов Соединенного королевства',\n",
              " 'Nominal': 1,\n",
              " 'NumCode': '826',\n",
              " 'Previous': 100.3342,\n",
              " 'Value': 100.1994}"
            ]
          },
          "metadata": {
            "tags": []
          },
          "execution_count": 6
        }
      ]
    },
    {
      "cell_type": "markdown",
      "metadata": {
        "id": "EfbJ_mbK4n8u"
      },
      "source": [
        "как сделать чтобы обойти ошибки? Можно сделать так чтобы сервис стучался скажем 5 раз. "
      ]
    },
    {
      "cell_type": "code",
      "metadata": {
        "id": "w3F7slIj4vxv"
      },
      "source": [
        "import time\n",
        "N_RETRY = 5\n",
        "for i in range(N_RETRY):\n",
        "  try:\n",
        "    requests.get('https://www.cbr-xml-daily.ru/daily_json.js', timeout=0.01).json() #Timeout - сколько ждать в секундах получения ответа\n",
        "  except:\n",
        "    #continue c строкой мы сможем решить вопрос с короткими задержками\n",
        "    #Если проблема более длительная, можно делать паузу между запросами\n",
        "    print ('Wait', 2**i)\n",
        "    time.sleep(2**i)#функция делает паузу на заданное количество секунд, \n",
        "    #2**i означает что функция будет увеличивать время паузы на два в степени количества попыток\n",
        "    #Такой алгоритм называется АЛГОРИТМ ЭКСПОНЕНЦИАЛЬНОЙ ЗАДЕРЖКИ"
      ],
      "execution_count": null,
      "outputs": []
    }
  ]
}