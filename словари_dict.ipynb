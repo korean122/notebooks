{
  "nbformat": 4,
  "nbformat_minor": 0,
  "metadata": {
    "colab": {
      "name": "словари dict.ipynb",
      "provenance": []
    },
    "kernelspec": {
      "name": "python3",
      "display_name": "Python 3"
    },
    "language_info": {
      "name": "python"
    }
  },
  "cells": [
    {
      "cell_type": "markdown",
      "metadata": {
        "id": "7x5LaxMKAfx7"
      },
      "source": [
        "Словари\n",
        "часто для работы с данными используют пары значений (ключ: значение)\n",
        "dict"
      ]
    },
    {
      "cell_type": "code",
      "metadata": {
        "id": "CJjrPhYsAcfH"
      },
      "source": [
        "#получить значение словаря по ключу\n",
        "dict['key']\n",
        "#бывают случаи когда мы обращаемся к ключу, которого не существует. Обычно система выдает ошибку: KEYERROR: 'key'\n",
        "#для того чтобы ошибки не было можно использовать функцию .get\n",
        "dict.get('key', 'default message'). #Первым аргументом будет имя ключа, а вторым значение по умолчанию - сообщение, которые будет выдавать Python если не найдет значение. Если второй аргумент пропустить, то функция будет просто выдавать none, для того чтобы увидеть его придется написать print"
      ],
      "execution_count": null,
      "outputs": []
    },
    {
      "cell_type": "markdown",
      "metadata": {
        "id": "FjzMLXS-GsmS"
      },
      "source": [
        "ВАЖНО если ключ в словаре есть, то его значение не перепишется, а выведется значение по ключу."
      ]
    },
    {
      "cell_type": "markdown",
      "metadata": {
        "id": "qc0cpwAIHJpC"
      },
      "source": [
        "Если мы попытаемся добавить какие-то значение по ключу\n",
        "Например: прибавить 'Олег' к зарплате 2000рублей /dict['Oleg'] += 2000/ то Python выдаст ошибку - отсутствует ключ с таким именем."
      ]
    },
    {
      "cell_type": "code",
      "metadata": {
        "colab": {
          "base_uri": "https://localhost:8080/"
        },
        "id": "smrNPqqbHrX3",
        "outputId": "65cf2be7-671b-4dcd-d849-7a0a9e077ebf"
      },
      "source": [
        "#проблему можно решить проверкой наличия ключа\n",
        "salaries = {\n",
        "    'masha':1000,\n",
        "    'misha': 1500,\n",
        "    'dasha': 3000\n",
        "}\n",
        "man = 'masha'\n",
        "if man in salaries:\n",
        "  print(\"Значение ключа существует\") #ну или прибавить к его зарплате 2000рублей \n",
        "  salaries[man] += 2000\n",
        "else:\n",
        "  print(\"сотрудника\", man, \"не найдено\", \"Добавляю новый ключ\") #ну или создать ключ и указать значение 2000рублей\n",
        "  salaries[man] = 2200\n",
        "print(salaries)"
      ],
      "execution_count": null,
      "outputs": [
        {
          "output_type": "stream",
          "text": [
            "Значение ключа существует\n",
            "{'masha': 3000, 'misha': 1500, 'dasha': 3000}\n"
          ],
          "name": "stdout"
        }
      ]
    },
    {
      "cell_type": "code",
      "metadata": {
        "id": "LFj58DklJbSz"
      },
      "source": [
        "#setdefault упрощает этот процесс. dict.setdefault('Oleg', 3000). Если значения ключа не существует, функция просто создаст его и присвоит значение по умолчанию стоящее следующим аргументом (3000)\n",
        "#если же значение ключа существует, то ничего не изменится. значение НЕ перезапишется."
      ],
      "execution_count": null,
      "outputs": []
    },
    {
      "cell_type": "markdown",
      "metadata": {
        "id": "T4e-RIL6JPt1"
      },
      "source": [
        "Как работать с более сложными словарями"
      ]
    },
    {
      "cell_type": "code",
      "metadata": {
        "colab": {
          "base_uri": "https://localhost:8080/"
        },
        "id": "5fRS86CZKE-S",
        "outputId": "c708c3ac-bdeb-4a54-cc3a-d3065ad418b3"
      },
      "source": [
        "#По аналогии со списками мы можем обращаться к ключам напрямую\n",
        "stuff_dict = {\n",
        "    'robert': {'salary': 800, 'bonus': 200},\n",
        "    'oleg': {'salary': 1000, 'bonus': 200}\n",
        "}\n",
        "stuff_dict ['robert']['salary']"
      ],
      "execution_count": null,
      "outputs": [
        {
          "output_type": "execute_result",
          "data": {
            "text/plain": [
              "800"
            ]
          },
          "metadata": {
            "tags": []
          },
          "execution_count": 6
        }
      ]
    },
    {
      "cell_type": "code",
      "metadata": {
        "colab": {
          "base_uri": "https://localhost:8080/"
        },
        "id": "ErabbMZJK8pj",
        "outputId": "af23d2f3-dffc-4837-fbd1-07eff2740c66"
      },
      "source": [
        "#мы можем также назначать сложные значения словаря\n",
        "stuff_dict = {\n",
        "    'robert': {'salary': 800, 'bonus': 200},\n",
        "    'oleg': {'salary': 1000, 'bonus': 200}\n",
        "}\n",
        "stuff_dict['maria'] = {'salary': 5000, 'bonus': 6000}\n",
        "stuff_dict"
      ],
      "execution_count": null,
      "outputs": [
        {
          "output_type": "execute_result",
          "data": {
            "text/plain": [
              "{'maria': {'bonus': 6000, 'salary': 5000},\n",
              " 'oleg': {'bonus': 200, 'salary': 1000},\n",
              " 'robert': {'bonus': 200, 'salary': 800}}"
            ]
          },
          "metadata": {
            "tags": []
          },
          "execution_count": 7
        }
      ]
    },
    {
      "cell_type": "markdown",
      "metadata": {
        "id": "IzF-gkZuLUna"
      },
      "source": [
        "##КАК РАБОТАТЬ С НАБОРОМ СПИСКОВ И ЗНАЧЕНИЙ"
      ]
    },
    {
      "cell_type": "code",
      "metadata": {
        "colab": {
          "base_uri": "https://localhost:8080/"
        },
        "id": "K2Sy8EkOLbAA",
        "outputId": "fe087978-8384-41b4-9c03-c86a5aaead61"
      },
      "source": [
        "stuff_dict.keys() #получим список ключей. например: dict_keys(['robert', 'oleg', 'maria'])\n",
        "stuff_dict.values() #получим список всех значений. Например: dict_values([{'salary': 800, 'bonus': 200}, {'salary': 1000, 'bonus': 200}, {'salary': 5000, 'bonus': 6000}])\n",
        "stuff_dict.items() #самый универсальный способ. Выдает кортежи из ключа и значения.\n",
        "#при этом всегда можно перевести значение словаря в список\n",
        "new = list(stuff_dict.items())\n",
        "print(new[0])\n",
        "print(new[0][1])"
      ],
      "execution_count": null,
      "outputs": [
        {
          "output_type": "stream",
          "text": [
            "('robert', {'salary': 800, 'bonus': 200})\n",
            "{'salary': 800, 'bonus': 200}\n"
          ],
          "name": "stdout"
        }
      ]
    },
    {
      "cell_type": "code",
      "metadata": {
        "colab": {
          "base_uri": "https://localhost:8080/"
        },
        "id": "ZLiNAB34MNo_",
        "outputId": "26bb2517-c3cc-489f-b735-b234782ebb6b"
      },
      "source": [
        "#циклы\n",
        "#сотрудников мы можем перебрать просто пройдясь по словарю\n",
        "for person in stuff_dict:\n",
        "  print(person)"
      ],
      "execution_count": null,
      "outputs": [
        {
          "output_type": "stream",
          "text": [
            "robert\n",
            "oleg\n",
            "maria\n"
          ],
          "name": "stdout"
        }
      ]
    },
    {
      "cell_type": "code",
      "metadata": {
        "colab": {
          "base_uri": "https://localhost:8080/"
        },
        "id": "LYbIJy_NNRYf",
        "outputId": "3deb9794-cbcc-4410-9380-7074acb6b185"
      },
      "source": [
        "#можно перебрать сразу ключи и значения и даже вывести отдельные параметры\n",
        "for key, value in stuff_dict.items():\n",
        "  print (key, value['salary'])"
      ],
      "execution_count": null,
      "outputs": [
        {
          "output_type": "stream",
          "text": [
            "robert 800\n",
            "oleg 1000\n",
            "maria 5000\n"
          ],
          "name": "stdout"
        }
      ]
    },
    {
      "cell_type": "code",
      "metadata": {
        "colab": {
          "base_uri": "https://localhost:8080/"
        },
        "id": "BArpMjWYOMPN",
        "outputId": "22741061-2e39-4777-918c-c003d7ccc382"
      },
      "source": [
        "#также поддерживается функция enumerate, т.е. мы можем для каждого сотрудника выводить его номер.\n",
        "for key, value in enumerate(stuff_dict):\n",
        "  print (key+1, value)"
      ],
      "execution_count": null,
      "outputs": [
        {
          "output_type": "stream",
          "text": [
            "1 robert\n",
            "2 oleg\n",
            "3 maria\n"
          ],
          "name": "stdout"
        }
      ]
    },
    {
      "cell_type": "code",
      "metadata": {
        "colab": {
          "base_uri": "https://localhost:8080/"
        },
        "id": "aweQkogJOwrn",
        "outputId": "692b7278-b2a0-4671-f11d-d699fbd4e14d"
      },
      "source": [
        "#\n",
        "for person, info in stuff_dict.items():\n",
        "  print(person, \"'s salary: \", info['salary'], sep='')"
      ],
      "execution_count": null,
      "outputs": [
        {
          "output_type": "stream",
          "text": [
            "robert's salary: 800\n",
            "oleg's salary: 1000\n",
            "maria's salary: 5000\n"
          ],
          "name": "stdout"
        }
      ]
    },
    {
      "cell_type": "code",
      "metadata": {
        "colab": {
          "base_uri": "https://localhost:8080/"
        },
        "id": "6D555TrYPEYb",
        "outputId": "fbf4e8cc-9887-45ae-a866-021de95f1e25"
      },
      "source": [
        "#если надо что-то добавить\n",
        "for person, info in stuff_dict.items():\n",
        "  if info['salary'] > 1000:\n",
        "    info['status'] = 'below average'\n",
        "  else:\n",
        "    info['status'] = 'below average'\n",
        "  print(stuff_dict)"
      ],
      "execution_count": null,
      "outputs": [
        {
          "output_type": "stream",
          "text": [
            "{'robert': {'salary': 800, 'bonus': 200, 'status': 'below average'}, 'oleg': {'salary': 1000, 'bonus': 200, 'status': 'below average'}, 'maria': {'salary': 5000, 'bonus': 6000, 'status': 'below average'}}\n",
            "{'robert': {'salary': 800, 'bonus': 200, 'status': 'below average'}, 'oleg': {'salary': 1000, 'bonus': 200, 'status': 'below average'}, 'maria': {'salary': 5000, 'bonus': 6000, 'status': 'below average'}}\n",
            "{'robert': {'salary': 800, 'bonus': 200, 'status': 'below average'}, 'oleg': {'salary': 1000, 'bonus': 200, 'status': 'below average'}, 'maria': {'salary': 5000, 'bonus': 6000, 'status': 'below average'}}\n"
          ],
          "name": "stdout"
        }
      ]
    },
    {
      "cell_type": "code",
      "metadata": {
        "colab": {
          "base_uri": "https://localhost:8080/"
        },
        "id": "qdcOCoPFPxK1",
        "outputId": "2fc2606c-4956-4c52-c6cc-3c825e43269f"
      },
      "source": [
        "#функция zip\n",
        "#предположим у нас есть два списка состоящих из элементов которые мы хотим обьединить в ключ:значение\n",
        "categories = ['eda', 'auto', 'politic', 'лишний', 'второй лишний']\n",
        "audience = [100, 200, 300]\n",
        "list(zip(categories, audience))\n",
        "#Обратите внимание, если размеры списков разные,  zip выкинет непарные элементы\n",
        "#Можно очень легко этог сделать словарь надо просто list заменить на dict\n",
        "dict(zip(categories, audience))"
      ],
      "execution_count": null,
      "outputs": [
        {
          "output_type": "execute_result",
          "data": {
            "text/plain": [
              "{'auto': 200, 'eda': 100, 'politic': 300}"
            ]
          },
          "metadata": {
            "tags": []
          },
          "execution_count": 28
        }
      ]
    }
  ]
}