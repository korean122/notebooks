{
  "nbformat": 4,
  "nbformat_minor": 0,
  "metadata": {
    "colab": {
      "name": "объединить несколько файлов в один",
      "provenance": [],
      "collapsed_sections": []
    },
    "kernelspec": {
      "name": "python3",
      "display_name": "Python 3"
    },
    "language_info": {
      "name": "python"
    }
  },
  "cells": [
    {
      "cell_type": "code",
      "metadata": {
        "id": "YugwB5tiLBMx"
      },
      "source": [
        "import pandas as pd\n",
        "path = 'C:\\data/' #где слэш / указывает на завершение пути к папке.\n",
        "df1 = pd.read_excel(path+'first.xlsx') #путь плюс название файла (обычная канкатинация)\n",
        "df2 = pd.read_excel(path+'second.xlsx')\n",
        "df = df1.append(df2, ignore_index=True) #параметр игнорирование индексов внутри склеиваемых файлов, т.е. append сам присвоит значениям новые индексы\n",
        "df"
      ],
      "execution_count": null,
      "outputs": []
    },
    {
      "cell_type": "markdown",
      "metadata": {
        "id": "3r2P_OgJM0L2"
      },
      "source": [
        "А если файлов много?"
      ]
    },
    {
      "cell_type": "code",
      "metadata": {
        "id": "LR451CW5M2Gf"
      },
      "source": [
        "import glob\n",
        "files = glob.glob(path+'*.xlsx') #первый glob это обращение к библиотеке. Мы загрузили НАЗВАНИЯ файлов, НО НЕ САМИ ФАЙЛЫ"
      ],
      "execution_count": null,
      "outputs": []
    },
    {
      "cell_type": "code",
      "metadata": {
        "id": "hSVECOm0NqAV"
      },
      "source": [
        "all = pd.DataFrame() #мы создали пустой датафрейм куда загрузим все наши файлы через цикло for\n",
        "for i in files:\n",
        "  x = pd.read_excel(i) #Поскольку у нас названия фалов мы должны перебрать их в цикле и прочитать во временную x\n",
        "  all = all.append(x, ignore_index=True) #затем мы циклом записываем данные в all."
      ],
      "execution_count": null,
      "outputs": []
    },
    {
      "cell_type": "code",
      "metadata": {
        "id": "PixquU3SOm_B"
      },
      "source": [
        "#Если этот датасет надо выгрузить в excel\n",
        "all.to_excel(path+'all.xlsx')"
      ],
      "execution_count": null,
      "outputs": []
    }
  ]
}